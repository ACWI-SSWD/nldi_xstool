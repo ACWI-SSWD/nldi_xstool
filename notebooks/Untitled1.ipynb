{
 "cells": [
  {
   "cell_type": "markdown",
   "id": "capable-presentation",
   "metadata": {},
   "source": [
    "# Explore methods to develop cross-section tool and synthetic rating curve\n",
    "* Use Hydrodata packages to search NLDI and grab 3dep DEMs: https://hydrodata.readthedocs.io/en/latest/"
   ]
  },
  {
   "cell_type": "code",
   "execution_count": 35,
   "id": "transsexual-figure",
   "metadata": {},
   "outputs": [],
   "source": [
    "from nldi_xstool.XSGen import XSGen\n",
    "import py3dep\n",
    "from pynhd import NLDI, NHDPlusHR, WaterData\n",
    "import xarray as xr\n",
    "from matplotlib import pyplot as plt\n",
    "import numpy as np\n",
    "import pandas as pd\n",
    "import dataretrieval.nwis as nwis\n",
    "try:\n",
    "    from nldi_xstool.__openChannel import flowEst\n",
    "except ImportError:\n",
    "    from .__openChannel import flowEst"
   ]
  },
  {
   "cell_type": "code",
   "execution_count": 2,
   "id": "speaking-diagram",
   "metadata": {},
   "outputs": [
    {
     "data": {
      "image/png": "[encoded data removed]",
      "text/plain": [
       "<Figure size 432x288 with 1 Axes>"
      ]
     },
     "metadata": {
      "needs_background": "light"
     },
     "output_type": "display_data"
    }
   ],
   "source": [
    "gagebasin = NLDI().getfeature_byid(\"nwissite\", \"USGS-06759500\", basin=True).to_crs('epsg:3857')\n",
    "gageloc = NLDI().getfeature_byid(\"nwissite\", \"USGS-06759500\", basin=False).to_crs('epsg:3857')\n",
    "strmseg_basin = NLDI().getfeature_byid(\"comid\", \"3561878\", basin=True).to_crs('epsg:3857')\n",
    "strmseg_loc = NLDI().getfeature_byid(\"comid\", \"3561878\", basin=False).to_crs('epsg:3857')\n",
    "\n",
    "# print(geomfeat.head(), geom2afeat.head())\n",
    "xs = XSGen(point=gageloc, cl_geom=strmseg_loc, ny=100, width=1000)\n",
    "xs_line = xs.get_xs()\n",
    "ax = plt.subplot(111)\n",
    "gageloc.plot(ax=ax)\n",
    "strmseg_loc.plot(ax=ax)\n",
    "xs_line.plot(ax=ax)\n",
    "xs.get_strm_seg_spline().plot(ax=ax, colors='r')\n",
    "xs_line.envelope.plot(ax=ax, facecolor=\"none\", edgecolor='black')\n",
    "plt.show()"
   ]
  },
  {
   "cell_type": "code",
   "execution_count": 42,
   "id": "moral-fisher",
   "metadata": {},
   "outputs": [
    {
     "data": {
      "text/html": [
       "<div>\n",
       "<style scoped>\n",
       "    .dataframe tbody tr th:only-of-type {\n",
       "        vertical-align: middle;\n",
       "    }\n",
       "\n",
       "    .dataframe tbody tr th {\n",
       "        vertical-align: top;\n",
       "    }\n",
       "\n",
       "    .dataframe thead th {\n",
       "        text-align: right;\n",
       "    }\n",
       "</style>\n",
       "<table border=\"1\" class=\"dataframe\">\n",
       "  <thead>\n",
       "    <tr style=\"text-align: right;\">\n",
       "      <th></th>\n",
       "      <th>geometry</th>\n",
       "      <th>source</th>\n",
       "      <th>sourceName</th>\n",
       "      <th>identifier</th>\n",
       "      <th>name</th>\n",
       "      <th>uri</th>\n",
       "      <th>comid</th>\n",
       "      <th>reachcode</th>\n",
       "      <th>measure</th>\n",
       "      <th>navigation</th>\n",
       "    </tr>\n",
       "  </thead>\n",
       "  <tbody>\n",
       "    <tr>\n",
       "      <th>0</th>\n",
       "      <td>POINT (-11555095.804 4905022.842)</td>\n",
       "      <td>nwissite</td>\n",
       "      <td>NWIS Sites</td>\n",
       "      <td>USGS-06759500</td>\n",
       "      <td>SOUTH PLATTE RIVER AT FORT MORGAN, CO</td>\n",
       "      <td>https://waterdata.usgs.gov/monitoring-location...</td>\n",
       "      <td>3561878</td>\n",
       "      <td>10190012002368</td>\n",
       "      <td>94.8528800000</td>\n",
       "      <td>https://labs.waterdata.usgs.gov/api/nldi/linke...</td>\n",
       "    </tr>\n",
       "  </tbody>\n",
       "</table>\n",
       "</div>"
      ],
      "text/plain": [
       "                            geometry    source  sourceName     identifier  \\\n",
       "0  POINT (-11555095.804 4905022.842)  nwissite  NWIS Sites  USGS-06759500   \n",
       "\n",
       "                                    name  \\\n",
       "0  SOUTH PLATTE RIVER AT FORT MORGAN, CO   \n",
       "\n",
       "                                                 uri    comid       reachcode  \\\n",
       "0  https://waterdata.usgs.gov/monitoring-location...  3561878  10190012002368   \n",
       "\n",
       "         measure                                         navigation  \n",
       "0  94.8528800000  https://labs.waterdata.usgs.gov/api/nldi/linke...  "
      ]
     },
     "execution_count": 42,
     "metadata": {},
     "output_type": "execute_result"
    }
   ],
   "source": [
    "gageloc"
   ]
  },
  {
   "cell_type": "code",
   "execution_count": 45,
   "id": "wooden-liquid",
   "metadata": {},
   "outputs": [
    {
     "data": {
      "text/html": [
       "<div>\n",
       "<style scoped>\n",
       "    .dataframe tbody tr th:only-of-type {\n",
       "        vertical-align: middle;\n",
       "    }\n",
       "\n",
       "    .dataframe tbody tr th {\n",
       "        vertical-align: top;\n",
       "    }\n",
       "\n",
       "    .dataframe thead th {\n",
       "        text-align: right;\n",
       "    }\n",
       "</style>\n",
       "<table border=\"1\" class=\"dataframe\">\n",
       "  <thead>\n",
       "    <tr style=\"text-align: right;\">\n",
       "      <th></th>\n",
       "      <th>geometry</th>\n",
       "      <th>source</th>\n",
       "      <th>sourceName</th>\n",
       "      <th>identifier</th>\n",
       "      <th>name</th>\n",
       "      <th>uri</th>\n",
       "      <th>comid</th>\n",
       "      <th>navigation</th>\n",
       "    </tr>\n",
       "  </thead>\n",
       "  <tbody>\n",
       "    <tr>\n",
       "      <th>0</th>\n",
       "      <td>LINESTRING (-11555244.560 4905071.690, -115551...</td>\n",
       "      <td>comid</td>\n",
       "      <td>NHDPlus comid</td>\n",
       "      <td>3561878</td>\n",
       "      <td></td>\n",
       "      <td></td>\n",
       "      <td>3561878</td>\n",
       "      <td>https://labs.waterdata.usgs.gov/api/nldi/linke...</td>\n",
       "    </tr>\n",
       "  </tbody>\n",
       "</table>\n",
       "</div>"
      ],
      "text/plain": [
       "                                            geometry source     sourceName  \\\n",
       "0  LINESTRING (-11555244.560 4905071.690, -115551...  comid  NHDPlus comid   \n",
       "\n",
       "  identifier name uri    comid  \\\n",
       "0    3561878           3561878   \n",
       "\n",
       "                                          navigation  \n",
       "0  https://labs.waterdata.usgs.gov/api/nldi/linke...  "
      ]
     },
     "execution_count": 45,
     "metadata": {},
     "output_type": "execute_result"
    }
   ],
   "source": [
    "strmseg_loc"
   ]
  },
  {
   "cell_type": "markdown",
   "id": "quiet-longitude",
   "metadata": {},
   "source": [
    "Use py3dep from Hydrodata to retrieve 3m DEM"
   ]
  },
  {
   "cell_type": "code",
   "execution_count": 3,
   "id": "liable-travel",
   "metadata": {},
   "outputs": [
    {
     "data": {
      "text/plain": [
       "(-11555267.48943957, -11554432.778117437, 4904448.7408951735, 4905637.87787599)"
      ]
     },
     "execution_count": 3,
     "metadata": {},
     "output_type": "execute_result"
    },
    {
     "data": {
      "image/png": "[encoded data removed]",
      "text/plain": [
       "<Figure size 432x288 with 2 Axes>"
      ]
     },
     "metadata": {
      "needs_background": "light"
     },
     "output_type": "display_data"
    }
   ],
   "source": [
    "#Buffer bounding box of cross-section otherwise interpolation with elevation below returns nans near end points\n",
    "t1 = (xs_line.total_bounds) + ((-100.,-100.,100., 100.))\n",
    "dem = py3dep.get_map(\"DEM\", tuple(t1), resolution=3, geo_crs=\"EPSG:3857\", crs=\"epsg:3857\")\n",
    "\n",
    "ax = plt.subplot(111)\n",
    "strmseg_loc.plot(ax=ax)\n",
    "xs_line.plot(ax=ax, colors='black')\n",
    "xs.get_strm_seg_spline().plot(ax=ax, colors='r')\n",
    "xs_line.envelope.plot(ax=ax, facecolor=\"none\", edgecolor='black')\n",
    "dem.plot(ax=ax)\n",
    "gageloc.plot(ax=ax)\n",
    "ax.axis('equal')\n",
    "# plt.tight_layout()"
   ]
  },
  {
   "cell_type": "markdown",
   "id": "selected-jungle",
   "metadata": {},
   "source": [
    "Get cross-section points and interpolate DEM to xs locations, Uses xarray interp method. Not sure how xarray does the interp - needs investigation."
   ]
  },
  {
   "cell_type": "code",
   "execution_count": 4,
   "id": "russian-paragraph",
   "metadata": {},
   "outputs": [
    {
     "name": "stdout",
     "output_type": "stream",
     "text": [
      "<class 'xarray.core.dataarray.DataArray'>\n"
     ]
    },
    {
     "data": {
      "image/png": "[encoded data removed]",
      "text/plain": [
       "<Figure size 432x288 with 1 Axes>"
      ]
     },
     "metadata": {
      "needs_background": "light"
     },
     "output_type": "display_data"
    }
   ],
   "source": [
    "x,y = xs.get_xs_points()\n",
    "dsx = xr.DataArray(x, dims='z')\n",
    "dsy = xr.DataArray(y, dims='z')\n",
    "dsi = dem.interp(x=('z',x), y=('z',y))\n",
    "dsi.plot()\n",
    "print(type(dsi))"
   ]
  },
  {
   "cell_type": "markdown",
   "id": "addressed-teens",
   "metadata": {},
   "source": [
    "Calculate distance (stationing) between points for flow calculation.  "
   ]
  },
  {
   "cell_type": "code",
   "execution_count": 5,
   "id": "integrated-scholar",
   "metadata": {},
   "outputs": [],
   "source": [
    "\n",
    "x = dsi.coords['x'].values -dsi.coords['x'].values[0]\n",
    "y = dsi.coords['y'].values -dsi.coords['y'].values[0]\n",
    "dist = np.hypot(x,y)\n",
    "elev = dsi.values\n",
    "tlen = len(dist)\n",
    "# print(tlen)\n",
    "sta2 = np.zeros((tlen,2))\n",
    "t = []\n",
    "for index,(tx,ty) in enumerate(zip(dist,elev)):\n",
    "    if not np.isnan(ty):\n",
    "        a = np.array((tx,ty))\n",
    "        sta2[index] = a\n",
    "#         print(a)\n",
    "    else:\n",
    "        t.append(index)"
   ]
  },
  {
   "cell_type": "markdown",
   "id": "horizontal-sleep",
   "metadata": {},
   "source": [
    "Using pyGFT flow calculation Mannings steady uniform flow on arbitrary cross-section. I have not tested against some simple cross-sections to verify. Note units are metric"
   ]
  },
  {
   "cell_type": "code",
   "execution_count": 140,
   "id": "considerable-therapist",
   "metadata": {},
   "outputs": [
    {
     "name": "stdout",
     "output_type": "stream",
     "text": [
      "Q is 0.0, velocity is 0.0top width 8.298482612190128e-07 and maxdepth 0.0\n",
      "Q is 163.64519630176358, velocity is 0.27979985187891276top width 65.46334118818402 and maxdepth 0.263157894736878\n",
      "Q is 528.3703873180287, velocity is 0.4344237319027006top width 70.33615092956313 and maxdepth 0.526315789473756\n",
      "Q is 1055.7390352816485, velocity is 0.5577191107859949top width 75.22757003302888 and maxdepth 0.789473684210634\n",
      "Q is 1689.0742192158777, velocity is 0.6399307095537835top width 85.33091999537578 and maxdepth 1.0526315789472847\n",
      "Q is 2539.9202558236307, velocity is 0.6944018724397952top width 104.58397532010184 and maxdepth 1.3157894736841627\n",
      "Q is 3688.274600338391, velocity is 0.7931282695327309top width 108.89975580031245 and maxdepth 1.5789473684210407\n",
      "Q is 4791.998621208983, velocity is 0.8282059832534869top width 126.98099765318221 and maxdepth 1.8421052631579187\n",
      "Q is 6347.929101803038, velocity is 0.9068885756726521top width 134.0574362320935 and maxdepth 2.1052631578947967\n",
      "Q is 8091.779443291399, velocity is 0.9769978670567855top width 141.8533046834168 and maxdepth 2.3684210526316747\n",
      "Q is 12506.776808382752, velocity is 0.8737561565295292top width 289.8936323149542 and maxdepth 2.6315789473683253\n",
      "Q is 16398.2541117746, velocity is 0.9625494286510932top width 298.3989976991833 and maxdepth 2.8947368421052033\n",
      "Q is 20248.2962495809, velocity is 1.016830188685066top width 321.2742626360215 and maxdepth 3.1578947368420813\n",
      "Q is 23987.14586121422, velocity is 0.9978813540917514top width 399.0353103916881 and maxdepth 3.4210526315789593\n",
      "Q is 30215.675175349475, velocity is 1.087798171300704top width 405.1141775126204 and maxdepth 3.6842105263158373\n",
      "Q is 37020.726997963575, velocity is 1.1725674163777633top width 411.4373096289783 and maxdepth 3.9473684210527153\n",
      "Q is 44220.45694192243, velocity is 1.2477066778574726top width 420.7701913195881 and maxdepth 4.210526315789366\n",
      "Q is 0.0, velocity is 0top width 0 and maxdepth 0\n",
      "Q is 0.0, velocity is 0top width 0 and maxdepth 0\n",
      "Q is 0.0, velocity is 0top width 0 and maxdepth 0\n"
     ]
    }
   ],
   "source": [
    "# d = np.delete(sta2, (t,(0,1)))\n",
    "min_elev = np.min(sta2[:,1])\n",
    "max_elev = np.max(sta2[:,0])\n",
    "max_depth = 5.0\n",
    "stage_values = np.linspace(min_elev, min_elev+max_depth, 20, dtype=float)\n",
    "q_values = np.zeros(len(stage_values))\n",
    "for index,ws in enumerate(stage_values):\n",
    "    args = flowEst(wsElev=ws,slope=0.000049, n=.01, staElev=sta2, units='m')\n",
    "    print(f'Q is {args[3]/0.0283}, velocity is {args[4]}top width {args[2]} and maxdepth {args[5]}')\n",
    "    q_values[index] = args[3]"
   ]
  },
  {
   "cell_type": "code",
   "execution_count": 141,
   "id": "favorite-utilization",
   "metadata": {},
   "outputs": [],
   "source": [
    "site='06759500'\n",
    "meas = nwis.get_record(sites=site, service='measurements')\n",
    "si = nwis.get_record(sites=site, service='site')"
   ]
  },
  {
   "cell_type": "code",
   "execution_count": 142,
   "id": "detected-youth",
   "metadata": {},
   "outputs": [
    {
     "data": {
      "text/html": [
       "<div>\n",
       "<style scoped>\n",
       "    .dataframe tbody tr th:only-of-type {\n",
       "        vertical-align: middle;\n",
       "    }\n",
       "\n",
       "    .dataframe tbody tr th {\n",
       "        vertical-align: top;\n",
       "    }\n",
       "\n",
       "    .dataframe thead th {\n",
       "        text-align: right;\n",
       "    }\n",
       "</style>\n",
       "<table border=\"1\" class=\"dataframe\">\n",
       "  <thead>\n",
       "    <tr style=\"text-align: right;\">\n",
       "      <th></th>\n",
       "      <th>agency_cd</th>\n",
       "      <th>site_no</th>\n",
       "      <th>measurement_nu</th>\n",
       "      <th>measurement_dt</th>\n",
       "      <th>tz_cd</th>\n",
       "      <th>q_meas_used_fg</th>\n",
       "      <th>party_nm</th>\n",
       "      <th>site_visit_coll_agency_cd</th>\n",
       "      <th>gage_height_va</th>\n",
       "      <th>discharge_va</th>\n",
       "      <th>measured_rating_diff</th>\n",
       "      <th>gage_va_change</th>\n",
       "      <th>gage_va_time</th>\n",
       "      <th>control_type_cd</th>\n",
       "      <th>discharge_cd</th>\n",
       "    </tr>\n",
       "  </thead>\n",
       "  <tbody>\n",
       "    <tr>\n",
       "      <th>0</th>\n",
       "      <td>USGS</td>\n",
       "      <td>06759500</td>\n",
       "      <td>1</td>\n",
       "      <td>2001-12-06 14:00:00</td>\n",
       "      <td>MST</td>\n",
       "      <td>Yes</td>\n",
       "      <td>DES/GJS</td>\n",
       "      <td>USGS</td>\n",
       "      <td>10.00</td>\n",
       "      <td>307.0</td>\n",
       "      <td>Fair</td>\n",
       "      <td>0.00</td>\n",
       "      <td>0.80</td>\n",
       "      <td>Clear</td>\n",
       "      <td>NONE</td>\n",
       "    </tr>\n",
       "    <tr>\n",
       "      <th>1</th>\n",
       "      <td>USGS</td>\n",
       "      <td>06759500</td>\n",
       "      <td>2</td>\n",
       "      <td>2002-01-03 12:35:00</td>\n",
       "      <td>MST</td>\n",
       "      <td>Yes</td>\n",
       "      <td>DES</td>\n",
       "      <td>USGS</td>\n",
       "      <td>9.82</td>\n",
       "      <td>246.0</td>\n",
       "      <td>Fair</td>\n",
       "      <td>0.00</td>\n",
       "      <td>0.60</td>\n",
       "      <td>IceShore</td>\n",
       "      <td>NONE</td>\n",
       "    </tr>\n",
       "    <tr>\n",
       "      <th>2</th>\n",
       "      <td>USGS</td>\n",
       "      <td>06759500</td>\n",
       "      <td>3</td>\n",
       "      <td>2002-02-04 15:25:00</td>\n",
       "      <td>MST</td>\n",
       "      <td>Yes</td>\n",
       "      <td>DES</td>\n",
       "      <td>USGS</td>\n",
       "      <td>10.07</td>\n",
       "      <td>323.0</td>\n",
       "      <td>Fair</td>\n",
       "      <td>0.00</td>\n",
       "      <td>0.60</td>\n",
       "      <td>Clear</td>\n",
       "      <td>NONE</td>\n",
       "    </tr>\n",
       "    <tr>\n",
       "      <th>3</th>\n",
       "      <td>USGS</td>\n",
       "      <td>06759500</td>\n",
       "      <td>4</td>\n",
       "      <td>2002-03-05 14:35:00</td>\n",
       "      <td>MST</td>\n",
       "      <td>Yes</td>\n",
       "      <td>DES</td>\n",
       "      <td>USGS</td>\n",
       "      <td>10.73</td>\n",
       "      <td>639.0</td>\n",
       "      <td>Fair</td>\n",
       "      <td>0.00</td>\n",
       "      <td>1.00</td>\n",
       "      <td>Clear</td>\n",
       "      <td>NONE</td>\n",
       "    </tr>\n",
       "    <tr>\n",
       "      <th>4</th>\n",
       "      <td>USGS</td>\n",
       "      <td>06759500</td>\n",
       "      <td>5</td>\n",
       "      <td>2002-04-24 09:50:00</td>\n",
       "      <td>MDT</td>\n",
       "      <td>Yes</td>\n",
       "      <td>DES</td>\n",
       "      <td>USGS</td>\n",
       "      <td>9.17</td>\n",
       "      <td>37.3</td>\n",
       "      <td>Fair</td>\n",
       "      <td>0.00</td>\n",
       "      <td>0.40</td>\n",
       "      <td>Clear</td>\n",
       "      <td>NONE</td>\n",
       "    </tr>\n",
       "    <tr>\n",
       "      <th>...</th>\n",
       "      <td>...</td>\n",
       "      <td>...</td>\n",
       "      <td>...</td>\n",
       "      <td>...</td>\n",
       "      <td>...</td>\n",
       "      <td>...</td>\n",
       "      <td>...</td>\n",
       "      <td>...</td>\n",
       "      <td>...</td>\n",
       "      <td>...</td>\n",
       "      <td>...</td>\n",
       "      <td>...</td>\n",
       "      <td>...</td>\n",
       "      <td>...</td>\n",
       "      <td>...</td>\n",
       "    </tr>\n",
       "    <tr>\n",
       "      <th>217</th>\n",
       "      <td>USGS</td>\n",
       "      <td>06759500</td>\n",
       "      <td>218</td>\n",
       "      <td>2020-06-19 13:01:00</td>\n",
       "      <td>MDT</td>\n",
       "      <td>Yes</td>\n",
       "      <td>RJB</td>\n",
       "      <td>USGS</td>\n",
       "      <td>8.44</td>\n",
       "      <td>124.0</td>\n",
       "      <td>Fair</td>\n",
       "      <td>0.00</td>\n",
       "      <td>0.97</td>\n",
       "      <td>Clear</td>\n",
       "      <td>NONE</td>\n",
       "    </tr>\n",
       "    <tr>\n",
       "      <th>218</th>\n",
       "      <td>USGS</td>\n",
       "      <td>06759500</td>\n",
       "      <td>219</td>\n",
       "      <td>2020-08-05 14:02:30</td>\n",
       "      <td>MDT</td>\n",
       "      <td>Yes</td>\n",
       "      <td>RJB</td>\n",
       "      <td>USGS</td>\n",
       "      <td>8.90</td>\n",
       "      <td>289.0</td>\n",
       "      <td>Fair</td>\n",
       "      <td>-0.24</td>\n",
       "      <td>0.82</td>\n",
       "      <td>Clear</td>\n",
       "      <td>BYPS</td>\n",
       "    </tr>\n",
       "    <tr>\n",
       "      <th>219</th>\n",
       "      <td>USGS</td>\n",
       "      <td>06759500</td>\n",
       "      <td>220</td>\n",
       "      <td>2020-09-16 13:08:30</td>\n",
       "      <td>MDT</td>\n",
       "      <td>Yes</td>\n",
       "      <td>RJB</td>\n",
       "      <td>USGS</td>\n",
       "      <td>9.38</td>\n",
       "      <td>504.0</td>\n",
       "      <td>Fair</td>\n",
       "      <td>0.00</td>\n",
       "      <td>1.08</td>\n",
       "      <td>Clear</td>\n",
       "      <td>NONE</td>\n",
       "    </tr>\n",
       "    <tr>\n",
       "      <th>220</th>\n",
       "      <td>USGS</td>\n",
       "      <td>06759500</td>\n",
       "      <td>221</td>\n",
       "      <td>2020-10-21 12:08:30</td>\n",
       "      <td>MDT</td>\n",
       "      <td>Yes</td>\n",
       "      <td>RJB</td>\n",
       "      <td>USGS</td>\n",
       "      <td>8.69</td>\n",
       "      <td>216.0</td>\n",
       "      <td>Fair</td>\n",
       "      <td>-0.01</td>\n",
       "      <td>0.72</td>\n",
       "      <td>Clear</td>\n",
       "      <td>NONE</td>\n",
       "    </tr>\n",
       "    <tr>\n",
       "      <th>221</th>\n",
       "      <td>USGS</td>\n",
       "      <td>06759500</td>\n",
       "      <td>222</td>\n",
       "      <td>2020-12-04 11:37:30</td>\n",
       "      <td>MST</td>\n",
       "      <td>Yes</td>\n",
       "      <td>RJB</td>\n",
       "      <td>USGS</td>\n",
       "      <td>8.62</td>\n",
       "      <td>210.0</td>\n",
       "      <td>Good</td>\n",
       "      <td>0.01</td>\n",
       "      <td>0.85</td>\n",
       "      <td>Clear</td>\n",
       "      <td>NONE</td>\n",
       "    </tr>\n",
       "  </tbody>\n",
       "</table>\n",
       "<p>222 rows × 15 columns</p>\n",
       "</div>"
      ],
      "text/plain": [
       "    agency_cd   site_no  measurement_nu       measurement_dt tz_cd  \\\n",
       "0        USGS  06759500               1  2001-12-06 14:00:00   MST   \n",
       "1        USGS  06759500               2  2002-01-03 12:35:00   MST   \n",
       "2        USGS  06759500               3  2002-02-04 15:25:00   MST   \n",
       "3        USGS  06759500               4  2002-03-05 14:35:00   MST   \n",
       "4        USGS  06759500               5  2002-04-24 09:50:00   MDT   \n",
       "..        ...       ...             ...                  ...   ...   \n",
       "217      USGS  06759500             218  2020-06-19 13:01:00   MDT   \n",
       "218      USGS  06759500             219  2020-08-05 14:02:30   MDT   \n",
       "219      USGS  06759500             220  2020-09-16 13:08:30   MDT   \n",
       "220      USGS  06759500             221  2020-10-21 12:08:30   MDT   \n",
       "221      USGS  06759500             222  2020-12-04 11:37:30   MST   \n",
       "\n",
       "    q_meas_used_fg party_nm site_visit_coll_agency_cd  gage_height_va  \\\n",
       "0              Yes  DES/GJS                      USGS           10.00   \n",
       "1              Yes      DES                      USGS            9.82   \n",
       "2              Yes      DES                      USGS           10.07   \n",
       "3              Yes      DES                      USGS           10.73   \n",
       "4              Yes      DES                      USGS            9.17   \n",
       "..             ...      ...                       ...             ...   \n",
       "217            Yes      RJB                      USGS            8.44   \n",
       "218            Yes      RJB                      USGS            8.90   \n",
       "219            Yes      RJB                      USGS            9.38   \n",
       "220            Yes      RJB                      USGS            8.69   \n",
       "221            Yes      RJB                      USGS            8.62   \n",
       "\n",
       "     discharge_va measured_rating_diff  gage_va_change  gage_va_time  \\\n",
       "0           307.0                 Fair            0.00          0.80   \n",
       "1           246.0                 Fair            0.00          0.60   \n",
       "2           323.0                 Fair            0.00          0.60   \n",
       "3           639.0                 Fair            0.00          1.00   \n",
       "4            37.3                 Fair            0.00          0.40   \n",
       "..            ...                  ...             ...           ...   \n",
       "217         124.0                 Fair            0.00          0.97   \n",
       "218         289.0                 Fair           -0.24          0.82   \n",
       "219         504.0                 Fair            0.00          1.08   \n",
       "220         216.0                 Fair           -0.01          0.72   \n",
       "221         210.0                 Good            0.01          0.85   \n",
       "\n",
       "    control_type_cd discharge_cd  \n",
       "0             Clear         NONE  \n",
       "1          IceShore         NONE  \n",
       "2             Clear         NONE  \n",
       "3             Clear         NONE  \n",
       "4             Clear         NONE  \n",
       "..              ...          ...  \n",
       "217           Clear         NONE  \n",
       "218           Clear         BYPS  \n",
       "219           Clear         NONE  \n",
       "220           Clear         NONE  \n",
       "221           Clear         NONE  \n",
       "\n",
       "[222 rows x 15 columns]"
      ]
     },
     "execution_count": 142,
     "metadata": {},
     "output_type": "execute_result"
    }
   ],
   "source": [
    "meas"
   ]
  },
  {
   "cell_type": "code",
   "execution_count": 143,
   "id": "upset-blank",
   "metadata": {},
   "outputs": [],
   "source": [
    "meas1 = meas.loc[(meas['measured_rating_diff'].isin(['Good','Fair']))]\n",
    "meas1.head()\n",
    "meas1.reset_index(inplace = True)"
   ]
  },
  {
   "cell_type": "code",
   "execution_count": 144,
   "id": "animated-romania",
   "metadata": {},
   "outputs": [
    {
     "name": "stderr",
     "output_type": "stream",
     "text": [
      "C:\\Users\\rmcd\\Miniconda3\\envs\\nldi_xstool\\lib\\site-packages\\pandas\\core\\indexing.py:1597: SettingWithCopyWarning: \n",
      "A value is trying to be set on a copy of a slice from a DataFrame.\n",
      "Try using .loc[row_indexer,col_indexer] = value instead\n",
      "\n",
      "See the caveats in the documentation: https://pandas.pydata.org/pandas-docs/stable/user_guide/indexing.html#returning-a-view-versus-a-copy\n",
      "  self.obj[key] = value\n",
      "C:\\Users\\rmcd\\Miniconda3\\envs\\nldi_xstool\\lib\\site-packages\\pandas\\core\\indexing.py:1676: SettingWithCopyWarning: \n",
      "A value is trying to be set on a copy of a slice from a DataFrame.\n",
      "Try using .loc[row_indexer,col_indexer] = value instead\n",
      "\n",
      "See the caveats in the documentation: https://pandas.pydata.org/pandas-docs/stable/user_guide/indexing.html#returning-a-view-versus-a-copy\n",
      "  self._setitem_single_column(ilocs[0], value, pi)\n"
     ]
    },
    {
     "data": {
      "text/plain": [
       "<matplotlib.collections.PathCollection at 0x1fd2925a700>"
      ]
     },
     "execution_count": 144,
     "metadata": {},
     "output_type": "execute_result"
    },
    {
     "data": {
      "image/png": "[encoded data removed]",
      "text/plain": [
       "<Figure size 432x288 with 1 Axes>"
      ]
     },
     "metadata": {
      "needs_background": "light"
     },
     "output_type": "display_data"
    }
   ],
   "source": [
    "meas1.loc[:,'stage_elev'] = meas1.loc[:,'gage_height_va'].values\n",
    "meas1.loc[:,'stage_elev'] += si.loc[:,'alt_va'].values\n",
    "meas1.loc[:,'stage_elev'] *= 0.3048\n",
    "meas1.loc[:,'discharge_va'] *= 0.02831\n",
    "# meas = pd.read_csv('usgs06759500.csv', header=None, names=['stage','discharge'])\n",
    "ax = plt.subplot(111)\n",
    "meas1.plot.scatter(x='discharge_va', y='stage_elev', ax = ax)\n",
    "plt.scatter(q_values, stage_values, color='black')"
   ]
  },
  {
   "cell_type": "code",
   "execution_count": 170,
   "id": "grateful-height",
   "metadata": {},
   "outputs": [
    {
     "name": "stdout",
     "output_type": "stream",
     "text": [
      "0, ws is 1297.2562320000002, Q is 7.593540849106916, MQ is 8.69117\n",
      "1, ws is 1297.201368, Q is 5.708858356590622, MQ is 6.9642599999999995\n",
      "2, ws is 1297.277568, Q is 8.385681805244868, MQ is 9.144129999999999\n",
      "3, ws is 1297.478736, Q is 17.39696506594414, MQ is 18.09009\n",
      "4, ws is 1297.0032480000002, Q is 0.9070501267809578, MQ is 1.0559629999999998\n",
      "5, ws is 1297.1190720000002, Q is 3.3118358764823688, MQ is 3.00086\n",
      "6, ws is 1297.4634960000003, Q is 16.619807577521453, MQ is 17.63713\n",
      "7, ws is 1297.0764000000001, Q is 2.2855716204621084, MQ is 2.335575\n",
      "8, ws is 1297.0703040000003, Q is 2.151771560728882, MQ is 2.287448\n",
      "9, ws is 1297.03068, Q is 1.3642568467185316, MQ is 1.5570499999999998\n",
      "10, ws is 1297.2166080000002, Q is 6.2100484547184225, MQ is 5.20904\n",
      "11, ws is 1297.1952720000002, Q is 5.513273637119458, MQ is 5.20904\n",
      "12, ws is 1297.189176, Q is 5.3205066752261185, MQ is 5.152419999999999\n",
      "13, ws is 1297.2745200000002, Q is 8.270524056229304, MQ is 6.935949999999999\n",
      "14, ws is 1297.4878800000001, Q is 17.870492525389174, MQ is 16.08008\n",
      "15, ws is 1297.140408, Q is 3.8818294039454893, MQ is 2.281786\n",
      "16, ws is 1297.1099280000003, Q is 3.078977933422526, MQ is 4.04833\n",
      "17, ws is 1297.097736, Q is 2.779368749319987, MQ is 3.62368\n",
      "18, ws is 1297.2288, Q is 6.623459502521701, MQ is 7.72863\n",
      "19, ws is 1297.13736, Q is 3.798143108009252, MQ is 4.92594\n",
      "20, ws is 1297.2288, Q is 6.623459502521701, MQ is 7.672009999999999\n",
      "21, ws is 1297.3720560000002, Q is 12.27772803980945, MQ is 13.47556\n",
      "22, ws is 1297.225752, Q is 6.519075412910097, MQ is 6.8793299999999995\n",
      "23, ws is 1297.314144, Q is 9.818800802137632, MQ is 10.786109999999999\n",
      "24, ws is 1297.2623280000003, Q is 7.816533136270185, MQ is 8.52131\n",
      "25, ws is 1297.4513040000002, Q is 16.008975542665425, MQ is 16.986\n",
      "26, ws is 1297.4482560000001, Q is 15.85778591742637, MQ is 16.81614\n",
      "27, ws is 1297.277568, Q is 8.385681805244868, MQ is 9.03089\n",
      "28, ws is 1297.280616, Q is 8.501500903399528, MQ is 8.634549999999999\n",
      "29, ws is 1297.277568, Q is 8.385681805244868, MQ is 7.134119999999999\n",
      "30, ws is 1297.4116800000002, Q is 14.09118441664531, MQ is 13.871899999999998\n",
      "31, ws is 1297.59456, Q is 23.79058748274277, MQ is 22.648\n",
      "32, ws is 1297.5915120000002, Q is 23.61143156878406, MQ is 23.185889999999997\n",
      "33, ws is 1298.6186880000002, Q is 116.35020872775229, MQ is 129.09359999999998\n",
      "34, ws is 1296.98496, Q is 0.6453603851687995, MQ is 2.004348\n",
      "35, ws is 1297.067256, Q is 2.086106681596904, MQ is 3.9633999999999996\n",
      "36, ws is 1297.2592800000002, Q is 7.704702232639234, MQ is 10.304839999999999\n",
      "37, ws is 1297.201368, Q is 5.708858356590622, MQ is 8.69117\n",
      "38, ws is 1297.2562320000002, Q is 7.593540849106916, MQ is 11.380619999999999\n",
      "39, ws is 1297.16784, Q is 4.668245607543487, MQ is 8.83272\n",
      "40, ws is 1297.097736, Q is 2.779368749319987, MQ is 6.511299999999999\n",
      "41, ws is 1297.2623280000003, Q is 7.816533136270185, MQ is 12.1733\n",
      "42, ws is 1297.0002000000002, Q is 0.8609637925977367, MQ is 3.1990299999999996\n",
      "43, ws is 1297.0062960000002, Q is 0.9541019162801592, MQ is 3.14241\n",
      "44, ws is 1296.997152, Q is 0.8158523673003897, MQ is 2.709267\n",
      "45, ws is 1297.024584, Q is 1.2562042650883982, MQ is 4.4446699999999995\n",
      "46, ws is 1297.2166080000002, Q is 6.2100484547184225, MQ is 10.72949\n",
      "47, ws is 1297.317192, Q is 9.942459584986896, MQ is 13.56049\n",
      "48, ws is 1297.1221200000002, Q is 3.390990535303805, MQ is 8.323139999999999\n",
      "49, ws is 1297.326336, Q is 10.317306006756382, MQ is 13.786969999999998\n",
      "50, ws is 1297.356816, Q is 11.60840055062889, MQ is 16.08008\n",
      "51, ws is 1297.5793200000003, Q is 22.90065131915492, MQ is 29.4424\n",
      "52, ws is 1297.774392, Q is 34.95372890676268, MQ is 46.1453\n",
      "53, ws is 1296.994104, Q is 0.7717257283028414, MQ is 4.47298\n",
      "54, ws is 1297.0337280000003, Q is 1.4196294916059322, MQ is 5.71862\n",
      "55, ws is 1297.1343120000001, Q is 3.7152050105502683, MQ is 9.68202\n",
      "56, ws is 1296.9636240000002, Q is 0.3871790976496747, MQ is 4.2465\n",
      "57, ws is 1297.16784, Q is 4.668245607543487, MQ is 12.06006\n",
      "58, ws is 1297.2318480000001, Q is 6.728528369120708, MQ is 14.438099999999999\n",
      "59, ws is 1297.2501359999999, Q is 7.373232379384463, MQ is 15.825289999999999\n",
      "60, ws is 1296.9361920000001, Q is 0.13841560755468987, MQ is 5.520449999999999\n",
      "61, ws is 1296.9697200000003, Q is 0.45552044704055383, MQ is 6.28482\n",
      "62, ws is 1296.9392400000002, Q is 0.1609651837449701, MQ is 3.5670599999999997\n",
      "63, ws is 1297.1190720000002, Q is 3.3118358764823688, MQ is 8.69117\n",
      "64, ws is 1296.9057120000002, Q is 0.0010392290005156392, MQ is 1.6080079999999999\n",
      "65, ws is 1296.924, Q is 0.06257301148213154, MQ is 2.4488149999999997\n",
      "66, ws is 1297.2227040000002, Q is 6.415377752513101, MQ is 2.5479\n",
      "67, ws is 1297.064208, Q is 2.0212712437613476, MQ is 4.64284\n",
      "68, ws is 1297.0062960000002, Q is 0.9541019162801592, MQ is 14.183309999999999\n",
      "69, ws is 1297.024584, Q is 1.2562042650883982, MQ is 5.91679\n",
      "70, ws is 1297.161744, Q is 4.4883624228596695, MQ is 4.64284\n",
      "71, ws is 1297.2562320000002, Q is 7.593540849106916, MQ is 5.662\n",
      "72, ws is 1297.128216, Q is 3.5515844851831515, MQ is 12.56964\n",
      "73, ws is 1297.201368, Q is 5.708858356590622, MQ is 15.37233\n",
      "74, ws is 1297.085544, Q is 2.4923828683560374, MQ is 9.51216\n",
      "75, ws is 1297.088592, Q is 2.5629331131746675, MQ is 12.06006\n",
      "76, ws is 1297.0367760000001, Q is 1.4758909995931988, MQ is 9.00258\n",
      "77, ws is 1297.048968, Q is 1.7097033183650165, MQ is 8.974269999999999\n",
      "78, ws is 1297.0703040000003, Q is 2.151771560728882, MQ is 7.89849\n",
      "79, ws is 1297.067256, Q is 2.086106681596904, MQ is 7.672009999999999\n",
      "80, ws is 1297.012392, Q is 1.051065989844692, MQ is 8.66286\n",
      "81, ws is 1296.914856, Q is 0.022590009841524303, MQ is 9.11582\n",
      "82, ws is 1298.164536, Q is 65.78959134604142, MQ is 2.5337449999999997\n",
      "83, ws is 1297.554936, Q is 21.507227512952213, MQ is 0.588848\n",
      "84, ws is 1297.280616, Q is 8.501500903399528, MQ is 0.965371\n",
      "85, ws is 1297.03068, Q is 1.3642568467185316, MQ is 7.27567\n",
      "86, ws is 1297.0337280000003, Q is 1.4196294916059322, MQ is 3.6519899999999996\n",
      "87, ws is 1296.994104, Q is 0.7717257283028414, MQ is 84.92999999999999\n",
      "88, ws is 1297.0794480000002, Q is 2.3536980792509685, MQ is 39.634\n",
      "89, ws is 1297.0428720000002, Q is 1.5910557495857633, MQ is 20.97771\n",
      "90, ws is 1297.347672, Q is 11.214386753856969, MQ is 6.596229999999999\n",
      "91, ws is 1297.1861280000003, Q is 5.225184780458538, MQ is 6.48299\n",
      "92, ws is 1297.0703040000003, Q is 2.151771560728882, MQ is 6.08665\n",
      "93, ws is 1297.0154400000001, Q is 1.100961231419761, MQ is 10.134979999999999\n",
      "94, ws is 1296.90876, Q is 0.005714758306052374, MQ is 8.46469\n",
      "95, ws is 1297.0428720000002, Q is 1.5910557495857633, MQ is 22.78955\n",
      "96, ws is 1297.1129760000001, Q is 3.155826430332605, MQ is 12.31485\n",
      "97, ws is 1298.1127200000003, Q is 60.23352146182308, MQ is 8.2099\n",
      "98, ws is 1297.8414480000001, Q is 39.44673233754644, MQ is 6.4263699999999995\n",
      "99, ws is 1298.612592, Q is 115.45138803931746, MQ is 3.1990299999999996\n",
      "100, ws is 1299.3044880000002, Q is 235.5345519263806, MQ is 6.8793299999999995\n",
      "101, ws is 1296.9575280000001, Q is 0.3233777797815573, MQ is 9.144129999999999\n",
      "102, ws is 1297.06116, Q is 1.9572699050113813, MQ is 86.9117\n",
      "103, ws is 1296.9422880000002, Q is 0.18486028089364923, MQ is 59.167899999999996\n",
      "104, ws is 1297.5122640000002, Q is 19.15961574617155, MQ is 165.04729999999998\n",
      "105, ws is 1298.5577280000002, Q is 114.64166872301928, MQ is 277.7211\n",
      "106, ws is 1297.13736, Q is 3.798143108009252, MQ is 8.40807\n",
      "107, ws is 1297.2714720000001, Q is 8.156028971995944, MQ is 10.44639\n",
      "108, ws is 1297.128216, Q is 3.5515844851831515, MQ is 1.7127549999999998\n",
      "109, ws is 1297.0794480000002, Q is 2.3536980792509685, MQ is 14.098379999999999\n",
      "110, ws is 1297.1952720000002, Q is 5.513273637119458, MQ is 4.64284\n",
      "111, ws is 1297.0459200000003, Q is 1.6499470520012143, MQ is 5.3789\n",
      "112, ws is 1297.201368, Q is 5.708858356590622, MQ is 8.804409999999999\n",
      "113, ws is 1296.994104, Q is 0.7717257283028414, MQ is 43.8805\n",
      "114, ws is 1297.097736, Q is 2.779368749319987, MQ is 150.6092\n",
      "115, ws is 1296.972768, Q is 0.49134930340789545, MQ is 4.614529999999999\n",
      "116, ws is 1296.951432, Q is 0.2642771430449052, MQ is 14.29655\n",
      "117, ws is 1296.9270480000002, Q is 0.07927317632256614, MQ is 16.95769\n",
      "118, ws is 1298.5882080000001, Q is 111.8876777199158, MQ is 10.89935\n",
      "119, ws is 1297.8597359999999, Q is 40.72223513680474, MQ is 9.3423\n",
      "120, ws is 1296.911808, Q is 0.013040546543265077, MQ is 3.7935399999999997\n",
      "121, ws is 1297.021536, Q is 1.2035379570604503, MQ is 12.88105\n",
      "122, ws is 1297.283664, Q is 8.617980052815998, MQ is 8.35145\n",
      "123, ws is 1297.4269200000003, Q is 14.816539508769743, MQ is 16.33487\n",
      "124, ws is 1297.4513040000002, Q is 16.008975542665425, MQ is 6.70947\n",
      "125, ws is 1296.9697200000003, Q is 0.45552044704055383, MQ is 2.46297\n",
      "126, ws is 1297.088592, Q is 2.5629331131746675, MQ is 11.01259\n",
      "127, ws is 1297.283664, Q is 8.617980052815998, MQ is 6.90764\n",
      "128, ws is 1297.277568, Q is 8.385681805244868, MQ is 6.596229999999999\n",
      "129, ws is 1297.2348960000002, Q is 6.83428038488227, MQ is 5.690309999999999\n",
      "130, ws is 1297.0367760000001, Q is 1.4758909995931988, MQ is 202.1334\n",
      "131, ws is 1296.9575280000001, Q is 0.3233777797815573, MQ is 100.78359999999999\n",
      "132, ws is 1297.16784, Q is 4.668245607543487, MQ is 16.33487\n",
      "133, ws is 1297.170888, Q is 4.759273347179196, MQ is 12.42809\n",
      "134, ws is 1296.98496, Q is 0.6453603851687995, MQ is 10.33315\n",
      "135, ws is 1297.06116, Q is 1.9572699050113813, MQ is 11.97513\n",
      "136, ws is 1297.09164, Q is 2.6342833634165257, MQ is 23.41237\n",
      "137, ws is 1297.0764000000001, Q is 2.2855716204621084, MQ is 35.1044\n",
      "138, ws is 1297.1983200000002, Q is 5.610714746608223, MQ is 33.122699999999995\n",
      "139, ws is 1297.3720560000002, Q is 12.27772803980945, MQ is 4.55791\n",
      "140, ws is 1297.0459200000003, Q is 1.6499470520012143, MQ is 3.22734\n",
      "141, ws is 1297.530552, Q is 20.15151060307018, MQ is 9.08751\n",
      "142, ws is 1296.9575280000001, Q is 0.3233777797815573, MQ is 19.165869999999998\n",
      "143, ws is 1297.0398240000002, Q is 1.5330351070129966, MQ is 17.8353\n",
      "144, ws is 1297.2227040000002, Q is 6.415377752513101, MQ is 16.19332\n",
      "145, ws is 1297.9908, Q is 50.503572287973384, MQ is 1.166372\n",
      "146, ws is 1296.9300960000003, Q is 0.09752016718898138, MQ is 6.45468\n",
      "147, ws is 1297.0764000000001, Q is 2.2855716204621084, MQ is 4.50129\n",
      "148, ws is 1297.100784, Q is 2.8530965379385824, MQ is 12.31485\n",
      "149, ws is 1297.2227040000002, Q is 6.415377752513101, MQ is 12.7395\n",
      "150, ws is 1296.911808, Q is 0.013040546543265077, MQ is 3.7935399999999997\n",
      "151, ws is 1296.9392400000002, Q is 0.1609651837449701, MQ is 7.10581\n",
      "152, ws is 1296.920952, Q is 0.04749391467926475, MQ is 8.43638\n",
      "153, ws is 1297.067256, Q is 2.086106681596904, MQ is 10.33315\n"
     ]
    }
   ],
   "source": [
    "min_elev = np.min(sta2[:,1])\n",
    "max_elev = np.max(sta2[:,0])\n",
    "max_depth = 5.0\n",
    "stage_values = meas1.stage_elev.values\n",
    "sv = stage_values[stage_values > min_elev]\n",
    "q_values = np.zeros(len(sv))\n",
    "for index,ws in enumerate(sv):\n",
    "    args = flowEst(wsElev=ws,slope=0.000049, n=.01, staElev=sta2, units='m')\n",
    "    print(f'{index}, ws is {ws}, Q is {args[3]}, MQ is {meas1.discharge_va[index]}')\n",
    "    q_values[index] = args[3]"
   ]
  },
  {
   "cell_type": "code",
   "execution_count": 171,
   "id": "every-brisbane",
   "metadata": {},
   "outputs": [
    {
     "data": {
      "text/plain": [
       "0       8.691170\n",
       "1       6.964260\n",
       "2       9.144130\n",
       "3      18.090090\n",
       "4       1.055963\n",
       "         ...    \n",
       "180     3.510440\n",
       "181     8.181590\n",
       "182    14.268240\n",
       "183     6.114960\n",
       "184     5.945100\n",
       "Name: discharge_va, Length: 185, dtype: float64"
      ]
     },
     "execution_count": 171,
     "metadata": {},
     "output_type": "execute_result"
    }
   ],
   "source": [
    "meas1.discharge_va"
   ]
  },
  {
   "cell_type": "code",
   "execution_count": 173,
   "id": "fixed-telescope",
   "metadata": {},
   "outputs": [
    {
     "data": {
      "text/plain": [
       "<matplotlib.collections.PathCollection at 0x1fd24b9a850>"
      ]
     },
     "execution_count": 173,
     "metadata": {},
     "output_type": "execute_result"
    },
    {
     "data": {
      "image/png": "[encoded data removed]",
      "text/plain": [
       "<Figure size 432x288 with 1 Axes>"
      ]
     },
     "metadata": {
      "needs_background": "light"
     },
     "output_type": "display_data"
    }
   ],
   "source": [
    "ax = plt.subplot(111)\n",
    "meas1.plot.scatter(x='discharge_va', y='stage_elev', ax = ax)\n",
    "plt.scatter(q_values, sv, color='black')"
   ]
  },
  {
   "cell_type": "code",
   "execution_count": 174,
   "id": "numerical-island",
   "metadata": {},
   "outputs": [
    {
     "ename": "ConnectionError",
     "evalue": "Connection failed after 3 retries.",
     "output_type": "error",
     "traceback": [
      "\u001b[1;31m---------------------------------------------------------------------------\u001b[0m",
      "\u001b[1;31mHTTPError\u001b[0m                                 Traceback (most recent call last)",
      "\u001b[1;32m~\\Miniconda3\\envs\\nldi_xstool\\lib\\site-packages\\pygeoogc\\utils.py\u001b[0m in \u001b[0;36mget\u001b[1;34m(self, url, payload, headers)\u001b[0m\n\u001b[0;32m     90\u001b[0m         \u001b[1;32mtry\u001b[0m\u001b[1;33m:\u001b[0m\u001b[1;33m\u001b[0m\u001b[1;33m\u001b[0m\u001b[0m\n\u001b[1;32m---> 91\u001b[1;33m             \u001b[1;32mreturn\u001b[0m \u001b[0mself\u001b[0m\u001b[1;33m.\u001b[0m\u001b[0msession\u001b[0m\u001b[1;33m.\u001b[0m\u001b[0mget\u001b[0m\u001b[1;33m(\u001b[0m\u001b[0murl\u001b[0m\u001b[1;33m,\u001b[0m \u001b[0mparams\u001b[0m\u001b[1;33m=\u001b[0m\u001b[0mpayload\u001b[0m\u001b[1;33m,\u001b[0m \u001b[0mheaders\u001b[0m\u001b[1;33m=\u001b[0m\u001b[0mheaders\u001b[0m\u001b[1;33m)\u001b[0m\u001b[1;33m\u001b[0m\u001b[1;33m\u001b[0m\u001b[0m\n\u001b[0m\u001b[0;32m     92\u001b[0m         \u001b[1;32mexcept\u001b[0m \u001b[1;33m(\u001b[0m\u001b[0mConnectionError\u001b[0m\u001b[1;33m,\u001b[0m \u001b[0mRequestException\u001b[0m\u001b[1;33m)\u001b[0m\u001b[1;33m:\u001b[0m\u001b[1;33m\u001b[0m\u001b[1;33m\u001b[0m\u001b[0m\n",
      "\u001b[1;32m~\\Miniconda3\\envs\\nldi_xstool\\lib\\site-packages\\requests\\sessions.py\u001b[0m in \u001b[0;36mget\u001b[1;34m(self, url, **kwargs)\u001b[0m\n\u001b[0;32m    542\u001b[0m         \u001b[0mkwargs\u001b[0m\u001b[1;33m.\u001b[0m\u001b[0msetdefault\u001b[0m\u001b[1;33m(\u001b[0m\u001b[1;34m'allow_redirects'\u001b[0m\u001b[1;33m,\u001b[0m \u001b[1;32mTrue\u001b[0m\u001b[1;33m)\u001b[0m\u001b[1;33m\u001b[0m\u001b[1;33m\u001b[0m\u001b[0m\n\u001b[1;32m--> 543\u001b[1;33m         \u001b[1;32mreturn\u001b[0m \u001b[0mself\u001b[0m\u001b[1;33m.\u001b[0m\u001b[0mrequest\u001b[0m\u001b[1;33m(\u001b[0m\u001b[1;34m'GET'\u001b[0m\u001b[1;33m,\u001b[0m \u001b[0murl\u001b[0m\u001b[1;33m,\u001b[0m \u001b[1;33m**\u001b[0m\u001b[0mkwargs\u001b[0m\u001b[1;33m)\u001b[0m\u001b[1;33m\u001b[0m\u001b[1;33m\u001b[0m\u001b[0m\n\u001b[0m\u001b[0;32m    544\u001b[0m \u001b[1;33m\u001b[0m\u001b[0m\n",
      "\u001b[1;32m~\\Miniconda3\\envs\\nldi_xstool\\lib\\site-packages\\requests\\sessions.py\u001b[0m in \u001b[0;36mrequest\u001b[1;34m(self, method, url, params, data, headers, cookies, files, auth, timeout, allow_redirects, proxies, hooks, stream, verify, cert, json)\u001b[0m\n\u001b[0;32m    529\u001b[0m         \u001b[0msend_kwargs\u001b[0m\u001b[1;33m.\u001b[0m\u001b[0mupdate\u001b[0m\u001b[1;33m(\u001b[0m\u001b[0msettings\u001b[0m\u001b[1;33m)\u001b[0m\u001b[1;33m\u001b[0m\u001b[1;33m\u001b[0m\u001b[0m\n\u001b[1;32m--> 530\u001b[1;33m         \u001b[0mresp\u001b[0m \u001b[1;33m=\u001b[0m \u001b[0mself\u001b[0m\u001b[1;33m.\u001b[0m\u001b[0msend\u001b[0m\u001b[1;33m(\u001b[0m\u001b[0mprep\u001b[0m\u001b[1;33m,\u001b[0m \u001b[1;33m**\u001b[0m\u001b[0msend_kwargs\u001b[0m\u001b[1;33m)\u001b[0m\u001b[1;33m\u001b[0m\u001b[1;33m\u001b[0m\u001b[0m\n\u001b[0m\u001b[0;32m    531\u001b[0m \u001b[1;33m\u001b[0m\u001b[0m\n",
      "\u001b[1;32m~\\Miniconda3\\envs\\nldi_xstool\\lib\\site-packages\\requests\\sessions.py\u001b[0m in \u001b[0;36msend\u001b[1;34m(self, request, **kwargs)\u001b[0m\n\u001b[0;32m    649\u001b[0m         \u001b[1;31m# Response manipulation hooks\u001b[0m\u001b[1;33m\u001b[0m\u001b[1;33m\u001b[0m\u001b[1;33m\u001b[0m\u001b[0m\n\u001b[1;32m--> 650\u001b[1;33m         \u001b[0mr\u001b[0m \u001b[1;33m=\u001b[0m \u001b[0mdispatch_hook\u001b[0m\u001b[1;33m(\u001b[0m\u001b[1;34m'response'\u001b[0m\u001b[1;33m,\u001b[0m \u001b[0mhooks\u001b[0m\u001b[1;33m,\u001b[0m \u001b[0mr\u001b[0m\u001b[1;33m,\u001b[0m \u001b[1;33m**\u001b[0m\u001b[0mkwargs\u001b[0m\u001b[1;33m)\u001b[0m\u001b[1;33m\u001b[0m\u001b[1;33m\u001b[0m\u001b[0m\n\u001b[0m\u001b[0;32m    651\u001b[0m \u001b[1;33m\u001b[0m\u001b[0m\n",
      "\u001b[1;32m~\\Miniconda3\\envs\\nldi_xstool\\lib\\site-packages\\requests\\hooks.py\u001b[0m in \u001b[0;36mdispatch_hook\u001b[1;34m(key, hooks, hook_data, **kwargs)\u001b[0m\n\u001b[0;32m     30\u001b[0m         \u001b[1;32mfor\u001b[0m \u001b[0mhook\u001b[0m \u001b[1;32min\u001b[0m \u001b[0mhooks\u001b[0m\u001b[1;33m:\u001b[0m\u001b[1;33m\u001b[0m\u001b[1;33m\u001b[0m\u001b[0m\n\u001b[1;32m---> 31\u001b[1;33m             \u001b[0m_hook_data\u001b[0m \u001b[1;33m=\u001b[0m \u001b[0mhook\u001b[0m\u001b[1;33m(\u001b[0m\u001b[0mhook_data\u001b[0m\u001b[1;33m,\u001b[0m \u001b[1;33m**\u001b[0m\u001b[0mkwargs\u001b[0m\u001b[1;33m)\u001b[0m\u001b[1;33m\u001b[0m\u001b[1;33m\u001b[0m\u001b[0m\n\u001b[0m\u001b[0;32m     32\u001b[0m             \u001b[1;32mif\u001b[0m \u001b[0m_hook_data\u001b[0m \u001b[1;32mis\u001b[0m \u001b[1;32mnot\u001b[0m \u001b[1;32mNone\u001b[0m\u001b[1;33m:\u001b[0m\u001b[1;33m\u001b[0m\u001b[1;33m\u001b[0m\u001b[0m\n",
      "\u001b[1;32m~\\Miniconda3\\envs\\nldi_xstool\\lib\\site-packages\\pygeoogc\\utils.py\u001b[0m in \u001b[0;36m<lambda>\u001b[1;34m(r, *args, **kwargs)\u001b[0m\n\u001b[0;32m     80\u001b[0m             \u001b[0mself\u001b[0m\u001b[1;33m.\u001b[0m\u001b[0msession\u001b[0m\u001b[1;33m.\u001b[0m\u001b[0mmount\u001b[0m\u001b[1;33m(\u001b[0m\u001b[0mprefix\u001b[0m\u001b[1;33m,\u001b[0m \u001b[0madapter\u001b[0m\u001b[1;33m)\u001b[0m\u001b[1;33m\u001b[0m\u001b[1;33m\u001b[0m\u001b[0m\n\u001b[1;32m---> 81\u001b[1;33m         \u001b[0mself\u001b[0m\u001b[1;33m.\u001b[0m\u001b[0msession\u001b[0m\u001b[1;33m.\u001b[0m\u001b[0mhooks\u001b[0m \u001b[1;33m=\u001b[0m \u001b[1;33m{\u001b[0m\u001b[1;34m\"response\"\u001b[0m\u001b[1;33m:\u001b[0m \u001b[1;33m[\u001b[0m\u001b[1;32mlambda\u001b[0m \u001b[0mr\u001b[0m\u001b[1;33m,\u001b[0m \u001b[1;33m*\u001b[0m\u001b[0margs\u001b[0m\u001b[1;33m,\u001b[0m \u001b[1;33m**\u001b[0m\u001b[0mkwargs\u001b[0m\u001b[1;33m:\u001b[0m \u001b[0mr\u001b[0m\u001b[1;33m.\u001b[0m\u001b[0mraise_for_status\u001b[0m\u001b[1;33m(\u001b[0m\u001b[1;33m)\u001b[0m\u001b[1;33m]\u001b[0m\u001b[1;33m}\u001b[0m\u001b[1;33m\u001b[0m\u001b[1;33m\u001b[0m\u001b[0m\n\u001b[0m\u001b[0;32m     82\u001b[0m \u001b[1;33m\u001b[0m\u001b[0m\n",
      "\u001b[1;32m~\\Miniconda3\\envs\\nldi_xstool\\lib\\site-packages\\requests\\models.py\u001b[0m in \u001b[0;36mraise_for_status\u001b[1;34m(self)\u001b[0m\n\u001b[0;32m    940\u001b[0m         \u001b[1;32mif\u001b[0m \u001b[0mhttp_error_msg\u001b[0m\u001b[1;33m:\u001b[0m\u001b[1;33m\u001b[0m\u001b[1;33m\u001b[0m\u001b[0m\n\u001b[1;32m--> 941\u001b[1;33m             \u001b[1;32mraise\u001b[0m \u001b[0mHTTPError\u001b[0m\u001b[1;33m(\u001b[0m\u001b[0mhttp_error_msg\u001b[0m\u001b[1;33m,\u001b[0m \u001b[0mresponse\u001b[0m\u001b[1;33m=\u001b[0m\u001b[0mself\u001b[0m\u001b[1;33m)\u001b[0m\u001b[1;33m\u001b[0m\u001b[1;33m\u001b[0m\u001b[0m\n\u001b[0m\u001b[0;32m    942\u001b[0m \u001b[1;33m\u001b[0m\u001b[0m\n",
      "\u001b[1;31mHTTPError\u001b[0m: 404 Client Error: Not Found for url: https://labs.waterdata.usgs.gov/api/nldi/linked-data/nwissite/USGS-0672100/basin?f=json",
      "\nDuring handling of the above exception, another exception occurred:\n",
      "\u001b[1;31mConnectionError\u001b[0m                           Traceback (most recent call last)",
      "\u001b[1;32m<ipython-input-174-d540ad1622bd>\u001b[0m in \u001b[0;36m<module>\u001b[1;34m\u001b[0m\n\u001b[1;32m----> 1\u001b[1;33m \u001b[0mgagebasin\u001b[0m \u001b[1;33m=\u001b[0m \u001b[0mNLDI\u001b[0m\u001b[1;33m(\u001b[0m\u001b[1;33m)\u001b[0m\u001b[1;33m.\u001b[0m\u001b[0mgetfeature_byid\u001b[0m\u001b[1;33m(\u001b[0m\u001b[1;34m\"nwissite\"\u001b[0m\u001b[1;33m,\u001b[0m \u001b[1;34m\"USGS-0672100\"\u001b[0m\u001b[1;33m,\u001b[0m \u001b[0mbasin\u001b[0m\u001b[1;33m=\u001b[0m\u001b[1;32mTrue\u001b[0m\u001b[1;33m)\u001b[0m\u001b[1;33m.\u001b[0m\u001b[0mto_crs\u001b[0m\u001b[1;33m(\u001b[0m\u001b[1;34m'epsg:3857'\u001b[0m\u001b[1;33m)\u001b[0m\u001b[1;33m\u001b[0m\u001b[1;33m\u001b[0m\u001b[0m\n\u001b[0m\u001b[0;32m      2\u001b[0m \u001b[0mgageloc\u001b[0m \u001b[1;33m=\u001b[0m \u001b[0mNLDI\u001b[0m\u001b[1;33m(\u001b[0m\u001b[1;33m)\u001b[0m\u001b[1;33m.\u001b[0m\u001b[0mgetfeature_byid\u001b[0m\u001b[1;33m(\u001b[0m\u001b[1;34m\"nwissite\"\u001b[0m\u001b[1;33m,\u001b[0m \u001b[1;34m\"USGS-0672100\"\u001b[0m\u001b[1;33m,\u001b[0m \u001b[0mbasin\u001b[0m\u001b[1;33m=\u001b[0m\u001b[1;32mFalse\u001b[0m\u001b[1;33m)\u001b[0m\u001b[1;33m.\u001b[0m\u001b[0mto_crs\u001b[0m\u001b[1;33m(\u001b[0m\u001b[1;34m'epsg:3857'\u001b[0m\u001b[1;33m)\u001b[0m\u001b[1;33m\u001b[0m\u001b[1;33m\u001b[0m\u001b[0m\n\u001b[0;32m      3\u001b[0m \u001b[0mgageloc\u001b[0m\u001b[1;33m\u001b[0m\u001b[1;33m\u001b[0m\u001b[0m\n\u001b[0;32m      4\u001b[0m \u001b[1;31m# strmseg_basin = NLDI().getfeature_byid(\"comid\", \"3561878\", basin=True).to_crs('epsg:3857')\u001b[0m\u001b[1;33m\u001b[0m\u001b[1;33m\u001b[0m\u001b[1;33m\u001b[0m\u001b[0m\n\u001b[0;32m      5\u001b[0m \u001b[1;31m# strmseg_loc = NLDI().getfeature_byid(\"comid\", \"3561878\", basin=False).to_crs('epsg:3857')\u001b[0m\u001b[1;33m\u001b[0m\u001b[1;33m\u001b[0m\u001b[1;33m\u001b[0m\u001b[0m\n",
      "\u001b[1;32m~\\Miniconda3\\envs\\nldi_xstool\\lib\\site-packages\\pynhd\\pynhd.py\u001b[0m in \u001b[0;36mgetfeature_byid\u001b[1;34m(self, fsource, fid, basin)\u001b[0m\n\u001b[0;32m    269\u001b[0m             \u001b[0murl\u001b[0m \u001b[1;33m+=\u001b[0m \u001b[1;34m\"/basin\"\u001b[0m\u001b[1;33m\u001b[0m\u001b[1;33m\u001b[0m\u001b[0m\n\u001b[0;32m    270\u001b[0m \u001b[1;33m\u001b[0m\u001b[0m\n\u001b[1;32m--> 271\u001b[1;33m         \u001b[1;32mreturn\u001b[0m \u001b[0mgeoutils\u001b[0m\u001b[1;33m.\u001b[0m\u001b[0mjson2geodf\u001b[0m\u001b[1;33m(\u001b[0m\u001b[0mself\u001b[0m\u001b[1;33m.\u001b[0m\u001b[0m_geturl\u001b[0m\u001b[1;33m(\u001b[0m\u001b[0murl\u001b[0m\u001b[1;33m)\u001b[0m\u001b[1;33m,\u001b[0m \u001b[0mALT_CRS\u001b[0m\u001b[1;33m,\u001b[0m \u001b[0mDEF_CRS\u001b[0m\u001b[1;33m)\u001b[0m\u001b[1;33m\u001b[0m\u001b[1;33m\u001b[0m\u001b[0m\n\u001b[0m\u001b[0;32m    272\u001b[0m \u001b[1;33m\u001b[0m\u001b[0m\n\u001b[0;32m    273\u001b[0m     def getcharacteristic_byid(\n",
      "\u001b[1;32m~\\Miniconda3\\envs\\nldi_xstool\\lib\\site-packages\\pynhd\\pynhd.py\u001b[0m in \u001b[0;36m_geturl\u001b[1;34m(self, url, payload)\u001b[0m\n\u001b[0;32m    527\u001b[0m \u001b[1;33m\u001b[0m\u001b[0m\n\u001b[0;32m    528\u001b[0m         \u001b[1;32mtry\u001b[0m\u001b[1;33m:\u001b[0m\u001b[1;33m\u001b[0m\u001b[1;33m\u001b[0m\u001b[0m\n\u001b[1;32m--> 529\u001b[1;33m             \u001b[1;32mreturn\u001b[0m \u001b[0mself\u001b[0m\u001b[1;33m.\u001b[0m\u001b[0msession\u001b[0m\u001b[1;33m.\u001b[0m\u001b[0mget\u001b[0m\u001b[1;33m(\u001b[0m\u001b[0murl\u001b[0m\u001b[1;33m,\u001b[0m \u001b[0mpayload\u001b[0m\u001b[1;33m)\u001b[0m\u001b[1;33m.\u001b[0m\u001b[0mjson\u001b[0m\u001b[1;33m(\u001b[0m\u001b[1;33m)\u001b[0m\u001b[1;33m\u001b[0m\u001b[1;33m\u001b[0m\u001b[0m\n\u001b[0m\u001b[0;32m    530\u001b[0m         \u001b[1;32mexcept\u001b[0m \u001b[0mJSONDecodeError\u001b[0m\u001b[1;33m:\u001b[0m\u001b[1;33m\u001b[0m\u001b[1;33m\u001b[0m\u001b[0m\n\u001b[0;32m    531\u001b[0m             \u001b[1;32mraise\u001b[0m \u001b[0mZeroMatched\u001b[0m\u001b[1;33m(\u001b[0m\u001b[1;34m\"No feature was found with the provided inputs.\"\u001b[0m\u001b[1;33m)\u001b[0m\u001b[1;33m\u001b[0m\u001b[1;33m\u001b[0m\u001b[0m\n",
      "\u001b[1;32m~\\Miniconda3\\envs\\nldi_xstool\\lib\\site-packages\\pygeoogc\\utils.py\u001b[0m in \u001b[0;36mget\u001b[1;34m(self, url, payload, headers)\u001b[0m\n\u001b[0;32m     91\u001b[0m             \u001b[1;32mreturn\u001b[0m \u001b[0mself\u001b[0m\u001b[1;33m.\u001b[0m\u001b[0msession\u001b[0m\u001b[1;33m.\u001b[0m\u001b[0mget\u001b[0m\u001b[1;33m(\u001b[0m\u001b[0murl\u001b[0m\u001b[1;33m,\u001b[0m \u001b[0mparams\u001b[0m\u001b[1;33m=\u001b[0m\u001b[0mpayload\u001b[0m\u001b[1;33m,\u001b[0m \u001b[0mheaders\u001b[0m\u001b[1;33m=\u001b[0m\u001b[0mheaders\u001b[0m\u001b[1;33m)\u001b[0m\u001b[1;33m\u001b[0m\u001b[1;33m\u001b[0m\u001b[0m\n\u001b[0;32m     92\u001b[0m         \u001b[1;32mexcept\u001b[0m \u001b[1;33m(\u001b[0m\u001b[0mConnectionError\u001b[0m\u001b[1;33m,\u001b[0m \u001b[0mRequestException\u001b[0m\u001b[1;33m)\u001b[0m\u001b[1;33m:\u001b[0m\u001b[1;33m\u001b[0m\u001b[1;33m\u001b[0m\u001b[0m\n\u001b[1;32m---> 93\u001b[1;33m             \u001b[1;32mraise\u001b[0m \u001b[0mConnectionError\u001b[0m\u001b[1;33m(\u001b[0m\u001b[1;34mf\"Connection failed after {self.retries} retries.\"\u001b[0m\u001b[1;33m)\u001b[0m\u001b[1;33m\u001b[0m\u001b[1;33m\u001b[0m\u001b[0m\n\u001b[0m\u001b[0;32m     94\u001b[0m \u001b[1;33m\u001b[0m\u001b[0m\n\u001b[0;32m     95\u001b[0m     def post(\n",
      "\u001b[1;31mConnectionError\u001b[0m: Connection failed after 3 retries."
     ]
    }
   ],
   "source": [
    "gagebasin = NLDI().getfeature_byid(\"nwissite\", \"USGS-0672100\", basin=True).to_crs('epsg:3857')\n",
    "gageloc = NLDI().getfeature_byid(\"nwissite\", \"USGS-0672100\", basin=False).to_crs('epsg:3857')\n",
    "gageloc\n",
    "# strmseg_basin = NLDI().getfeature_byid(\"comid\", \"3561878\", basin=True).to_crs('epsg:3857')\n",
    "# strmseg_loc = NLDI().getfeature_byid(\"comid\", \"3561878\", basin=False).to_crs('epsg:3857')"
   ]
  },
  {
   "cell_type": "code",
   "execution_count": null,
   "id": "recent-label",
   "metadata": {},
   "outputs": [],
   "source": []
  },
  {
   "cell_type": "code",
   "execution_count": null,
   "id": "christian-flash",
   "metadata": {},
   "outputs": [],
   "source": []
  },
  {
   "cell_type": "code",
   "execution_count": null,
   "id": "alpine-bahrain",
   "metadata": {},
   "outputs": [],
   "source": []
  },
  {
   "cell_type": "code",
   "execution_count": 61,
   "id": "lightweight-sixth",
   "metadata": {},
   "outputs": [],
   "source": [
    "slope = pd.read_csv(r'elevslope.csv')"
   ]
  },
  {
   "cell_type": "code",
   "execution_count": 67,
   "id": "backed-panama",
   "metadata": {},
   "outputs": [
    {
     "data": {
      "text/html": [
       "<div>\n",
       "<style scoped>\n",
       "    .dataframe tbody tr th:only-of-type {\n",
       "        vertical-align: middle;\n",
       "    }\n",
       "\n",
       "    .dataframe tbody tr th {\n",
       "        vertical-align: top;\n",
       "    }\n",
       "\n",
       "    .dataframe thead th {\n",
       "        text-align: right;\n",
       "    }\n",
       "</style>\n",
       "<table border=\"1\" class=\"dataframe\">\n",
       "  <thead>\n",
       "    <tr style=\"text-align: right;\">\n",
       "      <th></th>\n",
       "      <th>COMID</th>\n",
       "      <th>FDATE</th>\n",
       "      <th>MAXELEVRAW</th>\n",
       "      <th>MINELEVRAW</th>\n",
       "      <th>MAXELEVSMO</th>\n",
       "      <th>MINELEVSMO</th>\n",
       "      <th>SLOPE</th>\n",
       "      <th>ELEVFIXED</th>\n",
       "      <th>HWTYPE</th>\n",
       "      <th>STATUSFLAG</th>\n",
       "      <th>SLOPELENKM</th>\n",
       "    </tr>\n",
       "  </thead>\n",
       "  <tbody>\n",
       "    <tr>\n",
       "      <th>24181</th>\n",
       "      <td>3561878</td>\n",
       "      <td>6/30/2009</td>\n",
       "      <td>-9998.0</td>\n",
       "      <td>129917.0</td>\n",
       "      <td>129920.0</td>\n",
       "      <td>129917.0</td>\n",
       "      <td>0.000049</td>\n",
       "      <td>0</td>\n",
       "      <td>NaN</td>\n",
       "      <td>A</td>\n",
       "      <td>0.606</td>\n",
       "    </tr>\n",
       "  </tbody>\n",
       "</table>\n",
       "</div>"
      ],
      "text/plain": [
       "         COMID      FDATE  MAXELEVRAW  MINELEVRAW  MAXELEVSMO  MINELEVSMO  \\\n",
       "24181  3561878  6/30/2009     -9998.0    129917.0    129920.0    129917.0   \n",
       "\n",
       "          SLOPE  ELEVFIXED HWTYPE STATUSFLAG  SLOPELENKM  \n",
       "24181  0.000049          0    NaN          A       0.606  "
      ]
     },
     "execution_count": 67,
     "metadata": {},
     "output_type": "execute_result"
    }
   ],
   "source": [
    "slope[slope.COMID==3561878]"
   ]
  },
  {
   "cell_type": "code",
   "execution_count": 56,
   "id": "quarterly-damage",
   "metadata": {},
   "outputs": [
    {
     "name": "stdout",
     "output_type": "stream",
     "text": [
      "0.07518151815181509\n"
     ]
    }
   ],
   "source": [
    "#3561878,6.49,0.09,1328.19,1299.17,1344.73,0,0.606\n",
    "slope = (1344.73-1299.17)/606.0\n",
    "print(slope)"
   ]
  },
  {
   "cell_type": "code",
   "execution_count": null,
   "id": "indian-project",
   "metadata": {},
   "outputs": [],
   "source": []
  }
 ],
 "metadata": {
  "kernelspec": {
   "display_name": "Python 3",
   "language": "python",
   "name": "python3"
  },
  "language_info": {
   "codemirror_mode": {
    "name": "ipython",
    "version": 3
   },
   "file_extension": ".py",
   "mimetype": "text/x-python",
   "name": "python",
   "nbconvert_exporter": "python",
   "pygments_lexer": "ipython3",
   "version": "3.9.2"
  }
 },
 "nbformat": 4,
 "nbformat_minor": 5
}
