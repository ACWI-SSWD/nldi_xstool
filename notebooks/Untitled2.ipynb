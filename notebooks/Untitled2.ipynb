{
 "cells": [
  {
   "cell_type": "code",
   "execution_count": 27,
   "id": "british-buying",
   "metadata": {},
   "outputs": [],
   "source": [
    "import geopandas as gpd\n",
    "import pandas as pd\n",
    "from shapely.geometry import Point, LineString\n",
    "import contextily as cx\n",
    "import matplotlib.pyplot as plt\n",
    "import os.path\n"
   ]
  },
  {
   "cell_type": "code",
   "execution_count": 28,
   "id": "patient-referral",
   "metadata": {},
   "outputs": [],
   "source": [
    "wgs = 'epsg:4326'\n",
    "lambert = 'epsg:3857'\n",
    "str_usgs_wesm = r'https://prd-tnm.s3.amazonaws.com/StagedProducts/Elevation/metadata/WESM.gpkg'"
   ]
  },
  {
   "cell_type": "code",
   "execution_count": 33,
   "id": "pediatric-segment",
   "metadata": {},
   "outputs": [],
   "source": [
    "flt_lat = 33.00\n",
    "flt_long = -96.513\n",
    "test = LineString([(-11668801.95636262, 4882415.44002516), (-11667852.38366605, 4883277.36205423)])\n",
    "s = gpd.GeoSeries(Point(flt_long, flt_lat), crs=wgs).to_crs(lambert)\n",
    "s2 = gpd.GeoSeries(test, crs=lambert).to_crs(wgs)\n",
    "list_extents = s[0].bounds\n",
    "list_extents2 = s2[0].bounds"
   ]
  },
  {
   "cell_type": "code",
   "execution_count": 34,
   "id": "south-incidence",
   "metadata": {},
   "outputs": [
    {
     "data": {
      "text/plain": [
       "(-104.82263144764313, 40.11326584076604, -104.81410129097603, 40.1191870441709)"
      ]
     },
     "execution_count": 34,
     "metadata": {},
     "output_type": "execute_result"
    }
   ],
   "source": [
    "list_extents2"
   ]
  },
  {
   "cell_type": "code",
   "execution_count": null,
   "id": "retained-seating",
   "metadata": {},
   "outputs": [],
   "source": []
  },
  {
   "cell_type": "code",
   "execution_count": 31,
   "id": "creative-penny",
   "metadata": {},
   "outputs": [
    {
     "name": "stderr",
     "output_type": "stream",
     "text": [
      "C:\\Users\\rmcd\\Miniconda3\\envs\\nldi_xstool\\lib\\site-packages\\geopandas\\geodataframe.py:422: RuntimeWarning: Sequential read of iterator was interrupted. Resetting iterator. This can negatively impact the performance.\n",
      "  for feature in features_lst:\n"
     ]
    }
   ],
   "source": [
    "gdf_usgs_wesm_index = gpd.read_file(str_usgs_wesm, bbox=list_extents2)"
   ]
  },
  {
   "cell_type": "code",
   "execution_count": 32,
   "id": "lonely-briefs",
   "metadata": {},
   "outputs": [
    {
     "data": {
      "text/html": [
       "<div>\n",
       "<style scoped>\n",
       "    .dataframe tbody tr th:only-of-type {\n",
       "        vertical-align: middle;\n",
       "    }\n",
       "\n",
       "    .dataframe tbody tr th {\n",
       "        vertical-align: top;\n",
       "    }\n",
       "\n",
       "    .dataframe thead th {\n",
       "        text-align: right;\n",
       "    }\n",
       "</style>\n",
       "<table border=\"1\" class=\"dataframe\">\n",
       "  <thead>\n",
       "    <tr style=\"text-align: right;\">\n",
       "      <th></th>\n",
       "      <th>workunit</th>\n",
       "      <th>workunit_id</th>\n",
       "      <th>workpackage</th>\n",
       "      <th>workpackage_id</th>\n",
       "      <th>collect_start</th>\n",
       "      <th>collect_end</th>\n",
       "      <th>ql</th>\n",
       "      <th>spec</th>\n",
       "      <th>p_method</th>\n",
       "      <th>dem_gsd_meters</th>\n",
       "      <th>...</th>\n",
       "      <th>opr_category</th>\n",
       "      <th>opr_reason</th>\n",
       "      <th>onemeter_category</th>\n",
       "      <th>onemeter_reason</th>\n",
       "      <th>seamless_category</th>\n",
       "      <th>seamless_reason</th>\n",
       "      <th>lpc_link</th>\n",
       "      <th>opr_link</th>\n",
       "      <th>metadata_link</th>\n",
       "      <th>geometry</th>\n",
       "    </tr>\n",
       "  </thead>\n",
       "  <tbody>\n",
       "    <tr>\n",
       "      <th>0</th>\n",
       "      <td>CO_SoPlatteRiver-Lot2a_2013</td>\n",
       "      <td>11005</td>\n",
       "      <td>South_Platte_River_Flood_LiDAR</td>\n",
       "      <td>6891</td>\n",
       "      <td>2013-10-25</td>\n",
       "      <td>2014-05-31</td>\n",
       "      <td>QL 2</td>\n",
       "      <td>USGS Lidar Base Specification 1.0</td>\n",
       "      <td>LIDAR</td>\n",
       "      <td>0.75</td>\n",
       "      <td>...</td>\n",
       "      <td>Meets with Variances</td>\n",
       "      <td>Meets 3DEP Source DEM requirements with base s...</td>\n",
       "      <td>Meets with Variances</td>\n",
       "      <td>None</td>\n",
       "      <td>None</td>\n",
       "      <td>None</td>\n",
       "      <td>ftp://rockyftp.cr.usgs.gov/vdelivery/Datasets/...</td>\n",
       "      <td>http://prd-tnm.s3.amazonaws.com/index.html?pre...</td>\n",
       "      <td>http://prd-tnm.s3.amazonaws.com/index.html?pre...</td>\n",
       "      <td>MULTIPOLYGON (((-105.15850 40.74520, -105.1411...</td>\n",
       "    </tr>\n",
       "  </tbody>\n",
       "</table>\n",
       "<p>1 rows × 26 columns</p>\n",
       "</div>"
      ],
      "text/plain": [
       "                      workunit  workunit_id                     workpackage  \\\n",
       "0  CO_SoPlatteRiver-Lot2a_2013        11005  South_Platte_River_Flood_LiDAR   \n",
       "\n",
       "   workpackage_id collect_start collect_end    ql  \\\n",
       "0            6891    2013-10-25  2014-05-31  QL 2   \n",
       "\n",
       "                                spec p_method  dem_gsd_meters  ...  \\\n",
       "0  USGS Lidar Base Specification 1.0    LIDAR            0.75  ...   \n",
       "\n",
       "           opr_category                                         opr_reason  \\\n",
       "0  Meets with Variances  Meets 3DEP Source DEM requirements with base s...   \n",
       "\n",
       "      onemeter_category onemeter_reason seamless_category seamless_reason  \\\n",
       "0  Meets with Variances            None              None            None   \n",
       "\n",
       "                                            lpc_link  \\\n",
       "0  ftp://rockyftp.cr.usgs.gov/vdelivery/Datasets/...   \n",
       "\n",
       "                                            opr_link  \\\n",
       "0  http://prd-tnm.s3.amazonaws.com/index.html?pre...   \n",
       "\n",
       "                                       metadata_link  \\\n",
       "0  http://prd-tnm.s3.amazonaws.com/index.html?pre...   \n",
       "\n",
       "                                            geometry  \n",
       "0  MULTIPOLYGON (((-105.15850 40.74520, -105.1411...  \n",
       "\n",
       "[1 rows x 26 columns]"
      ]
     },
     "execution_count": 32,
     "metadata": {},
     "output_type": "execute_result"
    }
   ],
   "source": [
    "gdf_usgs_wesm_index"
   ]
  },
  {
   "cell_type": "code",
   "execution_count": null,
   "id": "adequate-reproduction",
   "metadata": {},
   "outputs": [],
   "source": []
  }
 ],
 "metadata": {
  "kernelspec": {
   "display_name": "Python 3",
   "language": "python",
   "name": "python3"
  },
  "language_info": {
   "codemirror_mode": {
    "name": "ipython",
    "version": 3
   },
   "file_extension": ".py",
   "mimetype": "text/x-python",
   "name": "python",
   "nbconvert_exporter": "python",
   "pygments_lexer": "ipython3",
   "version": "3.9.2"
  }
 },
 "nbformat": 4,
 "nbformat_minor": 5
}
