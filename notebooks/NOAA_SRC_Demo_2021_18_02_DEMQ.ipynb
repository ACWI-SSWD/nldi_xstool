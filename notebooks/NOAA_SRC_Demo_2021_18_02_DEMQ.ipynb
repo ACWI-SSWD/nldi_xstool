{
 "cells": [
  {
   "cell_type": "markdown",
   "id": "changed-involvement",
   "metadata": {},
   "source": [
    "pygeohydro.readthedocs.io# Explore methods to develop cross-section tool and synthetic rating curve\n",
    "* Use Hydrodata packages to search NLDI and grab 3dep DEMs: pygeohydro.readthedocs.io\n",
    "* USGS 06721000 SOUTH PLATTE RIVER AT FORT LUPTON, CO.\n",
    "\n",
    "Richard McDonald rmcd@usgs.gov"
   ]
  },
  {
   "cell_type": "code",
   "execution_count": 1,
   "id": "signal-palace",
   "metadata": {},
   "outputs": [],
   "source": [
    "%matplotlib inline\n",
    "from nldi_xstool.XSGen import XSGen\n",
    "from nldi_xstool.ancillary import queryDEMsShape\n",
    "import py3dep\n",
    "from pynhd import NLDI, NHDPlusHR, WaterData\n",
    "import xarray as xr\n",
    "from matplotlib import pyplot as plt\n",
    "import numpy as np\n",
    "import pandas as pd\n",
    "import dataretrieval.nwis as nwis\n",
    "try:\n",
    "    from nldi_xstool.__openChannel import flowEst\n",
    "except ImportError:\n",
    "    from .__openChannel import flowEst"
   ]
  },
  {
   "cell_type": "markdown",
   "id": "eaa8b6f8-92d7-44ed-814b-866253cf581f",
   "metadata": {},
   "source": [
    "2021-04-14: Some recent changes to what was the hydrodata stack (https://pypi.org/project/hydrodata/) is now the HyRiver stack and some changes were made to the NLDI function.  Gone is the optional argument basin=true/false to getfeature_byid.  Now there is a new function get_basins.  Resulted in some minor changes to the code."
   ]
  },
  {
   "cell_type": "code",
   "execution_count": 2,
   "id": "b3153946-65fe-4f96-89b1-b31b7df34408",
   "metadata": {},
   "outputs": [],
   "source": [
    "gagebasin = NLDI().get_basins(\"06721000\").to_crs('epsg:3857')"
   ]
  },
  {
   "cell_type": "markdown",
   "id": "elegant-layout",
   "metadata": {},
   "source": [
    "### Use NLDI feature to grab USGS gage and associated NHD stream segment"
   ]
  },
  {
   "cell_type": "code",
   "execution_count": 3,
   "id": "ff311b60-7219-421b-bf1e-89c578aabdf8",
   "metadata": {},
   "outputs": [],
   "source": [
    "gageloc = NLDI().getfeature_byid(\"nwissite\", \"USGS-06721000\").to_crs('epsg:3857')"
   ]
  },
  {
   "cell_type": "code",
   "execution_count": 4,
   "id": "8ce54c81-2726-4c54-930a-724497c4bad4",
   "metadata": {},
   "outputs": [
    {
     "data": {
      "text/plain": [
       "<AxesSubplot:>"
      ]
     },
     "execution_count": 4,
     "metadata": {},
     "output_type": "execute_result"
    },
    {
     "data": {
      "image/png": "[encoded data removed]",
      "text/plain": [
       "<Figure size 432x288 with 1 Axes>"
      ]
     },
     "metadata": {
      "needs_background": "light"
     },
     "output_type": "display_data"
    }
   ],
   "source": [
    "ax = plt.subplot(111)\n",
    "gagebasin.plot(ax=ax)\n",
    "gageloc.plot(ax=ax, color='black')\n"
   ]
  },
  {
   "cell_type": "code",
   "execution_count": 5,
   "id": "covered-training",
   "metadata": {},
   "outputs": [
    {
     "name": "stdout",
     "output_type": "stream",
     "text": [
      "['225621'] 225621 225621\n"
     ]
    }
   ],
   "source": [
    "gagebasin = NLDI().get_basins(\"06721000\").to_crs('epsg:3857')\n",
    "gageloc = NLDI().getfeature_byid(\"nwissite\", \"USGS-06721000\").to_crs('epsg:3857')\n",
    "cid = gageloc.comid.values.astype(str)\n",
    "print(cid,gageloc.comid.values.astype(int)[0], cid[0]) \n",
    "# strmseg_basin = NLDI().getfeature_byid(\"comid\", cid[0], basin=True).to_crs('epsg:3857')\n",
    "strmseg_loc = NLDI().getfeature_byid(\"comid\", cid[0]).to_crs('epsg:3857')"
   ]
  },
  {
   "cell_type": "markdown",
   "id": "happy-signal",
   "metadata": {},
   "source": [
    "### From gage location grab associated stream segment comid, and from comid grab stream segment geometry"
   ]
  },
  {
   "cell_type": "code",
   "execution_count": 6,
   "id": "reflected-reception",
   "metadata": {},
   "outputs": [
    {
     "data": {
      "text/html": [
       "<div>\n",
       "<style scoped>\n",
       "    .dataframe tbody tr th:only-of-type {\n",
       "        vertical-align: middle;\n",
       "    }\n",
       "\n",
       "    .dataframe tbody tr th {\n",
       "        vertical-align: top;\n",
       "    }\n",
       "\n",
       "    .dataframe thead th {\n",
       "        text-align: right;\n",
       "    }\n",
       "</style>\n",
       "<table border=\"1\" class=\"dataframe\">\n",
       "  <thead>\n",
       "    <tr style=\"text-align: right;\">\n",
       "      <th></th>\n",
       "      <th></th>\n",
       "      <th>geometry</th>\n",
       "      <th>type</th>\n",
       "      <th>source</th>\n",
       "      <th>sourceName</th>\n",
       "      <th>identifier</th>\n",
       "      <th>name</th>\n",
       "      <th>uri</th>\n",
       "      <th>comid</th>\n",
       "      <th>reachcode</th>\n",
       "      <th>measure</th>\n",
       "      <th>navigation</th>\n",
       "    </tr>\n",
       "  </thead>\n",
       "  <tbody>\n",
       "    <tr>\n",
       "      <th>USGS-06721000</th>\n",
       "      <th>0</th>\n",
       "      <td>POINT (-11668351.314 4882827.631)</td>\n",
       "      <td>hydrolocation</td>\n",
       "      <td>nwissite</td>\n",
       "      <td>NWIS Sites</td>\n",
       "      <td>USGS-06721000</td>\n",
       "      <td>SOUTH PLATTE RIVER AT FORT LUPTON, CO.</td>\n",
       "      <td>https://waterdata.usgs.gov/monitoring-location...</td>\n",
       "      <td>225621</td>\n",
       "      <td>10190003000038</td>\n",
       "      <td>54.5836700000</td>\n",
       "      <td>https://labs.waterdata.usgs.gov/api/nldi/linke...</td>\n",
       "    </tr>\n",
       "  </tbody>\n",
       "</table>\n",
       "</div>"
      ],
      "text/plain": [
       "                                          geometry           type    source  \\\n",
       "USGS-06721000 0  POINT (-11668351.314 4882827.631)  hydrolocation  nwissite   \n",
       "\n",
       "                 sourceName     identifier  \\\n",
       "USGS-06721000 0  NWIS Sites  USGS-06721000   \n",
       "\n",
       "                                                   name  \\\n",
       "USGS-06721000 0  SOUTH PLATTE RIVER AT FORT LUPTON, CO.   \n",
       "\n",
       "                                                               uri   comid  \\\n",
       "USGS-06721000 0  https://waterdata.usgs.gov/monitoring-location...  225621   \n",
       "\n",
       "                      reachcode        measure  \\\n",
       "USGS-06721000 0  10190003000038  54.5836700000   \n",
       "\n",
       "                                                        navigation  \n",
       "USGS-06721000 0  https://labs.waterdata.usgs.gov/api/nldi/linke...  "
      ]
     },
     "execution_count": 6,
     "metadata": {},
     "output_type": "execute_result"
    }
   ],
   "source": [
    "gageloc"
   ]
  },
  {
   "cell_type": "code",
   "execution_count": 7,
   "id": "distant-amsterdam",
   "metadata": {},
   "outputs": [
    {
     "data": {
      "text/html": [
       "<div>\n",
       "<style scoped>\n",
       "    .dataframe tbody tr th:only-of-type {\n",
       "        vertical-align: middle;\n",
       "    }\n",
       "\n",
       "    .dataframe tbody tr th {\n",
       "        vertical-align: top;\n",
       "    }\n",
       "\n",
       "    .dataframe thead th {\n",
       "        text-align: right;\n",
       "    }\n",
       "</style>\n",
       "<table border=\"1\" class=\"dataframe\">\n",
       "  <thead>\n",
       "    <tr style=\"text-align: right;\">\n",
       "      <th></th>\n",
       "      <th></th>\n",
       "      <th>geometry</th>\n",
       "      <th>type</th>\n",
       "      <th>source</th>\n",
       "      <th>sourceName</th>\n",
       "      <th>identifier</th>\n",
       "      <th>name</th>\n",
       "      <th>uri</th>\n",
       "      <th>comid</th>\n",
       "      <th>navigation</th>\n",
       "    </tr>\n",
       "  </thead>\n",
       "  <tbody>\n",
       "    <tr>\n",
       "      <th>225621</th>\n",
       "      <th>0</th>\n",
       "      <td>LINESTRING (-11668411.409 4879619.512, -116684...</td>\n",
       "      <td></td>\n",
       "      <td>comid</td>\n",
       "      <td>NHDPlus comid</td>\n",
       "      <td>225621</td>\n",
       "      <td></td>\n",
       "      <td></td>\n",
       "      <td>225621</td>\n",
       "      <td>https://labs.waterdata.usgs.gov/api/nldi/linke...</td>\n",
       "    </tr>\n",
       "  </tbody>\n",
       "</table>\n",
       "</div>"
      ],
      "text/plain": [
       "                                                   geometry type source  \\\n",
       "225621 0  LINESTRING (-11668411.409 4879619.512, -116684...       comid   \n",
       "\n",
       "             sourceName identifier name uri   comid  \\\n",
       "225621 0  NHDPlus comid     225621           225621   \n",
       "\n",
       "                                                 navigation  \n",
       "225621 0  https://labs.waterdata.usgs.gov/api/nldi/linke...  "
      ]
     },
     "execution_count": 7,
     "metadata": {},
     "output_type": "execute_result"
    }
   ],
   "source": [
    "strmseg_loc"
   ]
  },
  {
   "cell_type": "markdown",
   "id": "breathing-quality",
   "metadata": {},
   "source": [
    "XSGen class fits a tensioned spline to the stream segment geometry and then generates a cross-section given a Width and numpoints (ny) perpendicular to splined stream segment. This could be extended to build a grid or series of cross-section on stream segment and develope a reach averaged cross-section, which would be \"like\" the HAND method."
   ]
  },
  {
   "cell_type": "code",
   "execution_count": 8,
   "id": "32e71e26",
   "metadata": {},
   "outputs": [
    {
     "data": {
      "text/plain": [
       "40"
      ]
     },
     "execution_count": 8,
     "metadata": {},
     "output_type": "execute_result"
    }
   ],
   "source": [
    "len(strmseg_loc.geometry[0].coords)\n"
   ]
  },
  {
   "cell_type": "code",
   "execution_count": 9,
   "id": "educational-sport",
   "metadata": {},
   "outputs": [
    {
     "name": "stdout",
     "output_type": "stream",
     "text": [
      "40\n"
     ]
    },
    {
     "data": {
      "image/png": "[encoded data removed]",
      "text/plain": [
       "<Figure size 432x288 with 1 Axes>"
      ]
     },
     "metadata": {
      "needs_background": "light"
     },
     "output_type": "display_data"
    }
   ],
   "source": [
    "# print(geomfeat.head(), geom2afeat.head())\n",
    "xs = XSGen(point=gageloc, cl_geom=strmseg_loc, ny=101, width=1000, tension=0.5)\n",
    "xs_line = xs.get_xs()\n",
    "ax = plt.subplot(111)\n",
    "gageloc.plot(ax=ax)\n",
    "strmseg_loc.plot(ax=ax)\n",
    "xs_line.plot(ax=ax)\n",
    "xs.get_strm_seg_spline().plot(ax=ax, colors='r')\n",
    "xs_line.envelope.plot(ax=ax, facecolor=\"none\", edgecolor='black')\n",
    "plt.show()"
   ]
  },
  {
   "cell_type": "code",
   "execution_count": 10,
   "id": "036e1141-e11c-4bca-b467-3b4530555a03",
   "metadata": {},
   "outputs": [
    {
     "name": "stdout",
     "output_type": "stream",
     "text": [
      "<class 'pandas.core.frame.DataFrame'>\n",
      "           minx          miny          maxx          maxy\n",
      "0 -1.166870e+07  4.882518e+06 -1.166795e+07  4.883183e+06\n",
      "                                                   geometry type source  \\\n",
      "225621 0  LINESTRING (-104.81912 40.09405, -104.81987 40...       comid   \n",
      "\n",
      "             sourceName identifier name uri   comid  \\\n",
      "225621 0  NHDPlus comid     225621           225621   \n",
      "\n",
      "                                                 navigation  \n",
      "225621 0  https://labs.waterdata.usgs.gov/api/nldi/linke...  \n"
     ]
    }
   ],
   "source": [
    "print(type(xs_line.envelope.bounds))\n",
    "print(xs_line.envelope.bounds)\n",
    "print(strmseg_loc.to_crs('epsg:4326'))"
   ]
  },
  {
   "cell_type": "code",
   "execution_count": 11,
   "id": "e7785f78-2731-4724-9747-a6d8acbdf422",
   "metadata": {},
   "outputs": [
    {
     "name": "stdout",
     "output_type": "stream",
     "text": [
      "            name                                           geometry\n",
      "0  cross-section  LINESTRING (-104.81498 40.11854, -104.81505 40...\n",
      "(-104.82169282640318, 40.1139734336367, -104.81497878335709, 40.11853749862493)\n",
      "{'res_1m': True, 'res_3m': False, 'res_5m': False, 'res_10m': True, 'res_30m': True, 'res_60m': False}\n"
     ]
    }
   ],
   "source": [
    "xs_line_geom = xs_line.to_crs('epsg:4326')\n",
    "print(xs_line_geom)\n",
    "bbox = xs_line_geom.geometry[0].envelope.bounds\n",
    "print(bbox)\n",
    "query = queryDEMsShape(bbox)\n",
    "print(query)"
   ]
  },
  {
   "cell_type": "code",
   "execution_count": 12,
   "id": "4b9196ef",
   "metadata": {},
   "outputs": [],
   "source": [
    "bbox = xs_line.geometry[0].bounds"
   ]
  },
  {
   "cell_type": "code",
   "execution_count": 13,
   "id": "cbded4dc",
   "metadata": {},
   "outputs": [
    {
     "name": "stdout",
     "output_type": "stream",
     "text": [
      "747.4038530550897 664.3699876125902\n"
     ]
    }
   ],
   "source": [
    "width = abs(bbox[0]-bbox[2])\n",
    "height = abs(bbox[1]-bbox[3])\n",
    "print(width, height)"
   ]
  },
  {
   "cell_type": "code",
   "execution_count": 14,
   "id": "5be601e0",
   "metadata": {},
   "outputs": [
    {
     "data": {
      "text/plain": [
       "(-11668797.391809102,\n",
       " 4882418.514793716,\n",
       " -11667850.143386122,\n",
       " 4883282.729351256)"
      ]
     },
     "execution_count": 14,
     "metadata": {},
     "output_type": "execute_result"
    }
   ],
   "source": [
    "bb = xs_line.buffer(100)\n",
    "bb.geometry[0].bounds"
   ]
  },
  {
   "cell_type": "code",
   "execution_count": 15,
   "id": "b6fa8a3a",
   "metadata": {},
   "outputs": [
    {
     "data": {
      "text/plain": [
       "(-11668797.46952414, 4882418.43707868, -11667850.065671084, 4883282.8070662925)"
      ]
     },
     "execution_count": 15,
     "metadata": {},
     "output_type": "execute_result"
    }
   ],
   "source": [
    "bb1 = (xs_line.total_bounds) - ((100., 100., -100., -100.))\n",
    "tuple(bb1)"
   ]
  },
  {
   "cell_type": "markdown",
   "id": "returning-memory",
   "metadata": {},
   "source": [
    "Use py3dep from Hydrodata to retrieve 10m DEM.\n",
    "* Future work: download available DEM products 10m, 3m, 1m, LIDAR, LIDAR+Topobathy where available"
   ]
  },
  {
   "cell_type": "code",
   "execution_count": 16,
   "id": "placed-paper",
   "metadata": {},
   "outputs": [
    {
     "name": "stdout",
     "output_type": "stream",
     "text": [
      "            name                                           geometry\n",
      "0  cross-section  LINESTRING (-11667950.066 4883182.807, -116679...\n"
     ]
    },
    {
     "data": {
      "text/plain": [
       "(-11669133.350562328,\n",
       " -11667850.065671086,\n",
       " 4879418.485864566,\n",
       " 4883841.053796304)"
      ]
     },
     "execution_count": 16,
     "metadata": {},
     "output_type": "execute_result"
    },
    {
     "data": {
      "image/png": "[encoded data removed]",
      "text/plain": [
       "<Figure size 432x288 with 2 Axes>"
      ]
     },
     "metadata": {
      "needs_background": "light"
     },
     "output_type": "display_data"
    }
   ],
   "source": [
    "#Buffer bounding box of cross-section otherwise interpolation with elevation below returns nans near end points\n",
    "xs_line_geom = xs_line.to_crs('epsg:3857')\n",
    "print(xs_line_geom)\n",
    "t1 = (xs_line_geom.total_bounds) + ((-100.,-100.,100., 100.))\n",
    "dem = py3dep.get_map(\"DEM\", tuple(t1), resolution=10, geo_crs=\"EPSG:3857\", crs=\"epsg:3857\")\n",
    "\n",
    "ax = plt.subplot(111)\n",
    "strmseg_loc.plot(ax=ax)\n",
    "xs_line_geom.plot(ax=ax, colors='black')\n",
    "xs.get_strm_seg_spline().plot(ax=ax, colors='r')\n",
    "xs_line.envelope.plot(ax=ax, facecolor=\"none\", edgecolor='black')\n",
    "dem.plot(ax=ax)\n",
    "gageloc.plot(ax=ax)\n",
    "ax.axis('equal')\n",
    "# plt.tight_layout()"
   ]
  },
  {
   "cell_type": "markdown",
   "id": "6fe6a8f9-db12-42ad-9a86-458f631dcc23",
   "metadata": {},
   "source": [
    "elevation_bycoords below uses arimap, crappy resolution"
   ]
  },
  {
   "cell_type": "code",
   "execution_count": 17,
   "id": "dd84df16-5e4b-4a05-a087-c5eeb30fa5eb",
   "metadata": {},
   "outputs": [],
   "source": [
    "# type(xs_line.geometry[0])\n",
    "# # print(list(xs_line.geometry[0].coords))\n",
    "# # xs_line.geometry.coords.x\n",
    "# elev = py3dep.elevation_bycoords(list(xs_line.geometry[0].coords), crs=\"epsg:3857\")"
   ]
  },
  {
   "cell_type": "code",
   "execution_count": 18,
   "id": "a8ccac65-206a-4b60-993f-3572e92481e6",
   "metadata": {},
   "outputs": [],
   "source": [
    "# elev"
   ]
  },
  {
   "cell_type": "code",
   "execution_count": 19,
   "id": "excited-multimedia",
   "metadata": {},
   "outputs": [
    {
     "data": {
      "text/plain": [
       "array([-11668797.46952414,   4882418.43707868, -11667850.06567108,\n",
       "         4883282.80706629])"
      ]
     },
     "execution_count": 19,
     "metadata": {},
     "output_type": "execute_result"
    }
   ],
   "source": [
    "t1"
   ]
  },
  {
   "cell_type": "markdown",
   "id": "shaped-sussex",
   "metadata": {},
   "source": [
    "Get cross-section points (XSGen class) and interpolate DEM to xs locations, Uses xarray interp method. Not sure how xarray does the interp - needs investigation. For example does it do a nearest neighbor or does it interpolate grid?"
   ]
  },
  {
   "cell_type": "code",
   "execution_count": 20,
   "id": "voluntary-motorcycle",
   "metadata": {},
   "outputs": [
    {
     "name": "stdout",
     "output_type": "stream",
     "text": [
      "<class 'xarray.core.dataarray.DataArray'>\n"
     ]
    },
    {
     "data": {
      "image/png": "[encoded data removed]",
      "text/plain": [
       "<Figure size 432x288 with 1 Axes>"
      ]
     },
     "metadata": {
      "needs_background": "light"
     },
     "output_type": "display_data"
    }
   ],
   "source": [
    "x,y = xs.get_xs_points()\n",
    "dsx = xr.DataArray(x, dims='z')\n",
    "dsy = xr.DataArray(y, dims='z')\n",
    "dsi = dem.interp(x=('z',x), y=('z',y))\n",
    "dsi.plot()\n",
    "print(type(dsi))"
   ]
  },
  {
   "cell_type": "code",
   "execution_count": 21,
   "id": "living-absence",
   "metadata": {},
   "outputs": [
    {
     "name": "stdout",
     "output_type": "stream",
     "text": [
      "[   0.   10.   20.   30.   40.   50.   60.   70.   80.   90.  100.  110.\n",
      "  120.  130.  140.  150.  160.  170.  180.  190.  200.  210.  220.  230.\n",
      "  240.  250.  260.  270.  280.  290.  300.  310.  320.  330.  340.  350.\n",
      "  360.  370.  380.  390.  400.  410.  420.  430.  440.  450.  460.  470.\n",
      "  480.  490.  500.  510.  520.  530.  540.  550.  560.  570.  580.  590.\n",
      "  600.  610.  620.  630.  640.  650.  660.  670.  680.  690.  700.  710.\n",
      "  720.  730.  740.  750.  760.  770.  780.  790.  800.  810.  820.  830.\n",
      "  840.  850.  860.  870.  880.  890.  900.  910.  920.  930.  940.  950.\n",
      "  960.  970.  980.  990. 1000.]\n"
     ]
    },
    {
     "data": {
      "text/html": [
       "<div>\n",
       "<style scoped>\n",
       "    .dataframe tbody tr th:only-of-type {\n",
       "        vertical-align: middle;\n",
       "    }\n",
       "\n",
       "    .dataframe tbody tr th {\n",
       "        vertical-align: top;\n",
       "    }\n",
       "\n",
       "    .dataframe thead th {\n",
       "        text-align: right;\n",
       "    }\n",
       "</style>\n",
       "<table border=\"1\" class=\"dataframe\">\n",
       "  <thead>\n",
       "    <tr style=\"text-align: right;\">\n",
       "      <th></th>\n",
       "      <th>x</th>\n",
       "      <th>y</th>\n",
       "      <th>elevation</th>\n",
       "      <th>distance</th>\n",
       "    </tr>\n",
       "    <tr>\n",
       "      <th>z</th>\n",
       "      <th></th>\n",
       "      <th></th>\n",
       "      <th></th>\n",
       "      <th></th>\n",
       "    </tr>\n",
       "  </thead>\n",
       "  <tbody>\n",
       "    <tr>\n",
       "      <th>0</th>\n",
       "      <td>-1.166795e+07</td>\n",
       "      <td>4.883183e+06</td>\n",
       "      <td>1485.548273</td>\n",
       "      <td>0.0</td>\n",
       "    </tr>\n",
       "    <tr>\n",
       "      <th>1</th>\n",
       "      <td>-1.166796e+07</td>\n",
       "      <td>4.883176e+06</td>\n",
       "      <td>1485.439231</td>\n",
       "      <td>10.0</td>\n",
       "    </tr>\n",
       "    <tr>\n",
       "      <th>2</th>\n",
       "      <td>-1.166797e+07</td>\n",
       "      <td>4.883170e+06</td>\n",
       "      <td>1485.319185</td>\n",
       "      <td>20.0</td>\n",
       "    </tr>\n",
       "    <tr>\n",
       "      <th>3</th>\n",
       "      <td>-1.166797e+07</td>\n",
       "      <td>4.883163e+06</td>\n",
       "      <td>1485.205292</td>\n",
       "      <td>30.0</td>\n",
       "    </tr>\n",
       "    <tr>\n",
       "      <th>4</th>\n",
       "      <td>-1.166798e+07</td>\n",
       "      <td>4.883156e+06</td>\n",
       "      <td>1485.207562</td>\n",
       "      <td>40.0</td>\n",
       "    </tr>\n",
       "    <tr>\n",
       "      <th>...</th>\n",
       "      <td>...</td>\n",
       "      <td>...</td>\n",
       "      <td>...</td>\n",
       "      <td>...</td>\n",
       "    </tr>\n",
       "    <tr>\n",
       "      <th>96</th>\n",
       "      <td>-1.166867e+07</td>\n",
       "      <td>4.882545e+06</td>\n",
       "      <td>1474.662902</td>\n",
       "      <td>960.0</td>\n",
       "    </tr>\n",
       "    <tr>\n",
       "      <th>97</th>\n",
       "      <td>-1.166868e+07</td>\n",
       "      <td>4.882538e+06</td>\n",
       "      <td>1474.666677</td>\n",
       "      <td>970.0</td>\n",
       "    </tr>\n",
       "    <tr>\n",
       "      <th>98</th>\n",
       "      <td>-1.166868e+07</td>\n",
       "      <td>4.882532e+06</td>\n",
       "      <td>1474.651639</td>\n",
       "      <td>980.0</td>\n",
       "    </tr>\n",
       "    <tr>\n",
       "      <th>99</th>\n",
       "      <td>-1.166869e+07</td>\n",
       "      <td>4.882525e+06</td>\n",
       "      <td>1474.650024</td>\n",
       "      <td>990.0</td>\n",
       "    </tr>\n",
       "    <tr>\n",
       "      <th>100</th>\n",
       "      <td>-1.166870e+07</td>\n",
       "      <td>4.882518e+06</td>\n",
       "      <td>1474.650024</td>\n",
       "      <td>1000.0</td>\n",
       "    </tr>\n",
       "  </tbody>\n",
       "</table>\n",
       "<p>101 rows × 4 columns</p>\n",
       "</div>"
      ],
      "text/plain": [
       "                x             y    elevation  distance\n",
       "z                                                     \n",
       "0   -1.166795e+07  4.883183e+06  1485.548273       0.0\n",
       "1   -1.166796e+07  4.883176e+06  1485.439231      10.0\n",
       "2   -1.166797e+07  4.883170e+06  1485.319185      20.0\n",
       "3   -1.166797e+07  4.883163e+06  1485.205292      30.0\n",
       "4   -1.166798e+07  4.883156e+06  1485.207562      40.0\n",
       "..            ...           ...          ...       ...\n",
       "96  -1.166867e+07  4.882545e+06  1474.662902     960.0\n",
       "97  -1.166868e+07  4.882538e+06  1474.666677     970.0\n",
       "98  -1.166868e+07  4.882532e+06  1474.651639     980.0\n",
       "99  -1.166869e+07  4.882525e+06  1474.650024     990.0\n",
       "100 -1.166870e+07  4.882518e+06  1474.650024    1000.0\n",
       "\n",
       "[101 rows x 4 columns]"
      ]
     },
     "execution_count": 21,
     "metadata": {},
     "output_type": "execute_result"
    }
   ],
   "source": [
    "pdsi = dsi.to_dataframe()\n",
    "x = dsi.coords['x'].values -dsi.coords['x'].values[0]\n",
    "y = dsi.coords['y'].values -dsi.coords['y'].values[0]\n",
    "dist = np.hypot(x,y)\n",
    "print(dist)\n",
    "pdsi['distance'] = dist\n",
    "pdsi"
   ]
  },
  {
   "cell_type": "code",
   "execution_count": 22,
   "id": "studied-watts",
   "metadata": {},
   "outputs": [
    {
     "name": "stdout",
     "output_type": "stream",
     "text": [
      "42 77 1487.3696769180308 1486.1870307953725\n"
     ]
    }
   ],
   "source": [
    "values = dsi.values\n",
    "lmi = np.where(values == max(values[:49]))[0][0]\n",
    "rmi = np.where(values == max(values[50:]))[0][0]\n",
    "print(lmi,rmi, values[lmi], values[rmi])"
   ]
  },
  {
   "cell_type": "code",
   "execution_count": 23,
   "id": "desperate-manitoba",
   "metadata": {},
   "outputs": [
    {
     "data": {
      "text/plain": [
       "[<matplotlib.lines.Line2D at 0x7f097cd0a9a0>]"
      ]
     },
     "execution_count": 23,
     "metadata": {},
     "output_type": "execute_result"
    },
    {
     "data": {
      "image/png": "[encoded data removed]",
      "text/plain": [
       "<Figure size 432x288 with 1 Axes>"
      ]
     },
     "metadata": {
      "needs_background": "light"
     },
     "output_type": "display_data"
    }
   ],
   "source": [
    "dsi[lmi:rmi].plot()"
   ]
  },
  {
   "cell_type": "markdown",
   "id": "determined-haven",
   "metadata": {},
   "source": [
    "Calculate distance (stationing) between points for flow calculation.  "
   ]
  },
  {
   "cell_type": "code",
   "execution_count": 24,
   "id": "engaged-hungarian",
   "metadata": {},
   "outputs": [],
   "source": [
    "\n",
    "x = dsi.coords['x'].values[lmi:rmi] -dsi.coords['x'].values[lmi]\n",
    "y = dsi.coords['y'].values[lmi:rmi] -dsi.coords['y'].values[lmi]\n",
    "dist = np.hypot(x,y)\n",
    "elev = dsi.values[lmi:rmi]\n",
    "tlen = len(dist)\n",
    "# print(tlen)\n",
    "sta2 = np.zeros((tlen,2))\n",
    "t = []\n",
    "for index,(tx,ty) in enumerate(zip(dist,elev)):\n",
    "    if not np.isnan(ty):\n",
    "        a = np.array((tx,ty))\n",
    "        sta2[index] = a\n",
    "#         print(a)\n",
    "    else:\n",
    "        t.append(index)"
   ]
  },
  {
   "cell_type": "code",
   "execution_count": 25,
   "id": "united-petite",
   "metadata": {},
   "outputs": [
    {
     "data": {
      "text/plain": [
       "0.00170803"
      ]
     },
     "execution_count": 25,
     "metadata": {},
     "output_type": "execute_result"
    }
   ],
   "source": [
    "slope = pd.read_csv(r'elevslope.csv')\n",
    "segslope = slope[slope.COMID==gageloc.comid.values.astype(int)[0]]\n",
    "segslope.SLOPE.values[0]"
   ]
  },
  {
   "cell_type": "markdown",
   "id": "talented-optimization",
   "metadata": {},
   "source": [
    "Using pyGFT flow calculation steady uniform flow using Manning equation on arbitrary cross-section. I have not tested against some simple cross-sections to verify. Note units are metric\n",
    "\n",
    "*  simple example where a set of stage values are passed.  Slope is specified from NHD but manning-n is simply specified.  Below we'll calibrate mannin-n over a range of possible values"
   ]
  },
  {
   "cell_type": "code",
   "execution_count": 26,
   "id": "another-solution",
   "metadata": {},
   "outputs": [
    {
     "name": "stdout",
     "output_type": "stream",
     "text": [
      "index -1 is out of bounds for axis 0 with size 0\n",
      "Q is 0.0, velocity is 0top width 0 and maxdepth 0\n",
      "Q is 264.57020359376446, velocity is 0.5707119446974667top width 64.66621356072882 and maxdepth 0.263157894736878\n",
      "Q is 1036.8725891456154, velocity is 0.9416941330290683top width 72.44562798511978 and maxdepth 0.526315789473756\n",
      "Q is 2241.4746517969797, velocity is 1.2444902295898932top width 77.98068334602414 and maxdepth 0.789473684210634\n",
      "Q is 3829.5729838780558, velocity is 1.5010327488038473top width 83.3666053745412 and maxdepth 1.0526315789472847\n",
      "Q is 5786.726274252645, velocity is 1.7265829201013911top width 88.75252740305828 and maxdepth 1.3157894736841627\n",
      "Q is 8006.185474272098, velocity is 1.9020288667168839top width 96.39463050381225 and maxdepth 1.5789473684210407\n",
      "Q is 10561.40123216022, velocity is 2.0522074957574956top width 105.1512991648049 and maxdepth 1.8421052631579187\n",
      "Q is 13737.876744056819, velocity is 2.232904566832566top width 110.7425228780858 and maxdepth 2.1052631578947967\n",
      "Q is 17077.94624545884, velocity is 2.36659222268262top width 119.02997254020022 and maxdepth 2.3684210526316747\n",
      "Q is 19986.720232171487, velocity is 1.8316637044572939top width 264.5178602448051 and maxdepth 2.6315789473683253\n",
      "Q is 27225.78460909168, velocity is 2.0242944784296046top width 280.61881448223295 and maxdepth 2.8947368421052033\n",
      "Q is 35546.86385997544, velocity is 2.203372633880452top width 296.4116436850548 and maxdepth 3.1578947368420813\n",
      "index 0 is out of bounds for axis 0 with size 0\n",
      "Q is 0.0, velocity is 0top width 0 and maxdepth 0\n",
      "index 0 is out of bounds for axis 0 with size 0\n",
      "Q is 0.0, velocity is 0top width 0 and maxdepth 0\n",
      "index 0 is out of bounds for axis 0 with size 0\n",
      "Q is 0.0, velocity is 0top width 0 and maxdepth 0\n",
      "index 0 is out of bounds for axis 0 with size 0\n",
      "Q is 0.0, velocity is 0top width 0 and maxdepth 0\n",
      "index 0 is out of bounds for axis 0 with size 0\n",
      "Q is 0.0, velocity is 0top width 0 and maxdepth 0\n",
      "too many indices for array: array is 1-dimensional, but 2 were indexed\n",
      "Q is 0.0, velocity is 0top width 0 and maxdepth 0\n",
      "too many indices for array: array is 1-dimensional, but 2 were indexed\n",
      "Q is 0.0, velocity is 0top width 0 and maxdepth 0\n"
     ]
    }
   ],
   "source": [
    "# d = np.delete(sta2, (t,(0,1)))\n",
    "min_elev = np.min(sta2[:,1])\n",
    "max_elev = np.max(sta2[:,0])\n",
    "max_depth = 5.0\n",
    "stage_values = np.linspace(min_elev, min_elev+max_depth, 20, dtype=float)\n",
    "q_values = np.zeros(len(stage_values))\n",
    "for index,ws in enumerate(stage_values):\n",
    "    args = flowEst(wsElev=ws,slope=segslope.SLOPE.values[0], n=.025, staElev=sta2, units='m')\n",
    "    print(f'Q is {args[3]/0.0283}, velocity is {args[4]}top width {args[2]} and maxdepth {args[5]}')\n",
    "    q_values[index] = args[3]"
   ]
  },
  {
   "cell_type": "markdown",
   "id": "decimal-essay",
   "metadata": {},
   "source": [
    "Get gage measurement data from nwis to compare with sythetic rating curve, and get site data to provide gage datum.  Datum could be a problem and attention should ultimately be paid to gage to the vertical datum of gage for example navd88 or ngvd29.  I'm not yet paying attention to that."
   ]
  },
  {
   "cell_type": "code",
   "execution_count": 27,
   "id": "described-collaboration",
   "metadata": {},
   "outputs": [],
   "source": [
    "site='06721000'\n",
    "meas = nwis.get_record(sites=site, service='measurements')\n",
    "si = nwis.get_record(sites=site, service='site')"
   ]
  },
  {
   "cell_type": "code",
   "execution_count": 28,
   "id": "relative-sailing",
   "metadata": {},
   "outputs": [
    {
     "data": {
      "text/html": [
       "<div>\n",
       "<style scoped>\n",
       "    .dataframe tbody tr th:only-of-type {\n",
       "        vertical-align: middle;\n",
       "    }\n",
       "\n",
       "    .dataframe tbody tr th {\n",
       "        vertical-align: top;\n",
       "    }\n",
       "\n",
       "    .dataframe thead th {\n",
       "        text-align: right;\n",
       "    }\n",
       "</style>\n",
       "<table border=\"1\" class=\"dataframe\">\n",
       "  <thead>\n",
       "    <tr style=\"text-align: right;\">\n",
       "      <th></th>\n",
       "      <th>agency_cd</th>\n",
       "      <th>site_no</th>\n",
       "      <th>measurement_nu</th>\n",
       "      <th>measurement_dt</th>\n",
       "      <th>tz_cd</th>\n",
       "      <th>q_meas_used_fg</th>\n",
       "      <th>party_nm</th>\n",
       "      <th>site_visit_coll_agency_cd</th>\n",
       "      <th>gage_height_va</th>\n",
       "      <th>discharge_va</th>\n",
       "      <th>measured_rating_diff</th>\n",
       "      <th>gage_va_change</th>\n",
       "      <th>gage_va_time</th>\n",
       "      <th>control_type_cd</th>\n",
       "      <th>discharge_cd</th>\n",
       "    </tr>\n",
       "  </thead>\n",
       "  <tbody>\n",
       "    <tr>\n",
       "      <th>0</th>\n",
       "      <td>USGS</td>\n",
       "      <td>06721000</td>\n",
       "      <td>1</td>\n",
       "      <td>2003-05-14 09:30:00</td>\n",
       "      <td>MDT</td>\n",
       "      <td>Yes</td>\n",
       "      <td>DGS</td>\n",
       "      <td>USGS</td>\n",
       "      <td>4.75</td>\n",
       "      <td>751</td>\n",
       "      <td>Fair</td>\n",
       "      <td>-0.01</td>\n",
       "      <td>1.10</td>\n",
       "      <td>Clear</td>\n",
       "      <td>NONE</td>\n",
       "    </tr>\n",
       "    <tr>\n",
       "      <th>1</th>\n",
       "      <td>USGS</td>\n",
       "      <td>06721000</td>\n",
       "      <td>2</td>\n",
       "      <td>2003-06-10 13:00:00</td>\n",
       "      <td>MDT</td>\n",
       "      <td>Yes</td>\n",
       "      <td>DGS</td>\n",
       "      <td>USGS</td>\n",
       "      <td>4.76</td>\n",
       "      <td>781</td>\n",
       "      <td>Fair</td>\n",
       "      <td>0.01</td>\n",
       "      <td>1.00</td>\n",
       "      <td>Clear</td>\n",
       "      <td>NONE</td>\n",
       "    </tr>\n",
       "    <tr>\n",
       "      <th>2</th>\n",
       "      <td>USGS</td>\n",
       "      <td>06721000</td>\n",
       "      <td>3</td>\n",
       "      <td>2003-07-03 07:50:00</td>\n",
       "      <td>MDT</td>\n",
       "      <td>Yes</td>\n",
       "      <td>DGS</td>\n",
       "      <td>USGS</td>\n",
       "      <td>4.48</td>\n",
       "      <td>658</td>\n",
       "      <td>Fair</td>\n",
       "      <td>0.01</td>\n",
       "      <td>1.50</td>\n",
       "      <td>Clear</td>\n",
       "      <td>NONE</td>\n",
       "    </tr>\n",
       "    <tr>\n",
       "      <th>3</th>\n",
       "      <td>USGS</td>\n",
       "      <td>06721000</td>\n",
       "      <td>4</td>\n",
       "      <td>2003-09-02 12:55:00</td>\n",
       "      <td>MDT</td>\n",
       "      <td>Yes</td>\n",
       "      <td>DGS</td>\n",
       "      <td>USGS</td>\n",
       "      <td>3.98</td>\n",
       "      <td>369</td>\n",
       "      <td>Fair</td>\n",
       "      <td>-0.05</td>\n",
       "      <td>1.10</td>\n",
       "      <td>Clear</td>\n",
       "      <td>NONE</td>\n",
       "    </tr>\n",
       "    <tr>\n",
       "      <th>4</th>\n",
       "      <td>USGS</td>\n",
       "      <td>06721000</td>\n",
       "      <td>5</td>\n",
       "      <td>2003-10-15 11:40:00</td>\n",
       "      <td>MDT</td>\n",
       "      <td>Yes</td>\n",
       "      <td>DGS</td>\n",
       "      <td>USGS</td>\n",
       "      <td>3.58</td>\n",
       "      <td>209</td>\n",
       "      <td>Fair</td>\n",
       "      <td>0.00</td>\n",
       "      <td>0.90</td>\n",
       "      <td>Clear</td>\n",
       "      <td>NONE</td>\n",
       "    </tr>\n",
       "    <tr>\n",
       "      <th>...</th>\n",
       "      <td>...</td>\n",
       "      <td>...</td>\n",
       "      <td>...</td>\n",
       "      <td>...</td>\n",
       "      <td>...</td>\n",
       "      <td>...</td>\n",
       "      <td>...</td>\n",
       "      <td>...</td>\n",
       "      <td>...</td>\n",
       "      <td>...</td>\n",
       "      <td>...</td>\n",
       "      <td>...</td>\n",
       "      <td>...</td>\n",
       "      <td>...</td>\n",
       "      <td>...</td>\n",
       "    </tr>\n",
       "    <tr>\n",
       "      <th>164</th>\n",
       "      <td>USGS</td>\n",
       "      <td>06721000</td>\n",
       "      <td>166</td>\n",
       "      <td>2020-11-20 08:57:30</td>\n",
       "      <td>MST</td>\n",
       "      <td>Yes</td>\n",
       "      <td>DBM</td>\n",
       "      <td>USGS</td>\n",
       "      <td>3.34</td>\n",
       "      <td>285</td>\n",
       "      <td>Fair</td>\n",
       "      <td>0.00</td>\n",
       "      <td>0.68</td>\n",
       "      <td>Clear</td>\n",
       "      <td>NONE</td>\n",
       "    </tr>\n",
       "    <tr>\n",
       "      <th>165</th>\n",
       "      <td>USGS</td>\n",
       "      <td>06721000</td>\n",
       "      <td>167</td>\n",
       "      <td>2021-01-05 12:17:30</td>\n",
       "      <td>MST</td>\n",
       "      <td>Yes</td>\n",
       "      <td>DBM</td>\n",
       "      <td>USGS</td>\n",
       "      <td>3.52</td>\n",
       "      <td>311</td>\n",
       "      <td>Fair</td>\n",
       "      <td>0.01</td>\n",
       "      <td>0.50</td>\n",
       "      <td>Clear</td>\n",
       "      <td>NONE</td>\n",
       "    </tr>\n",
       "    <tr>\n",
       "      <th>166</th>\n",
       "      <td>USGS</td>\n",
       "      <td>06721000</td>\n",
       "      <td>168</td>\n",
       "      <td>2021-02-22 11:05:30</td>\n",
       "      <td>MST</td>\n",
       "      <td>Yes</td>\n",
       "      <td>DBM</td>\n",
       "      <td>Unspe</td>\n",
       "      <td>3.64</td>\n",
       "      <td>368</td>\n",
       "      <td>Good</td>\n",
       "      <td>0.01</td>\n",
       "      <td>0.75</td>\n",
       "      <td>Clear</td>\n",
       "      <td>NONE</td>\n",
       "    </tr>\n",
       "    <tr>\n",
       "      <th>167</th>\n",
       "      <td>USGS</td>\n",
       "      <td>06721000</td>\n",
       "      <td>169</td>\n",
       "      <td>2021-04-06 10:41:00</td>\n",
       "      <td>MDT</td>\n",
       "      <td>Yes</td>\n",
       "      <td>DBM</td>\n",
       "      <td>USGS</td>\n",
       "      <td>3.33</td>\n",
       "      <td>269</td>\n",
       "      <td>Fair</td>\n",
       "      <td>0.02</td>\n",
       "      <td>0.70</td>\n",
       "      <td>Clear</td>\n",
       "      <td>NONE</td>\n",
       "    </tr>\n",
       "    <tr>\n",
       "      <th>168</th>\n",
       "      <td>USGS</td>\n",
       "      <td>06721000</td>\n",
       "      <td>170</td>\n",
       "      <td>2021-05-18 11:46:30</td>\n",
       "      <td>MDT</td>\n",
       "      <td>Yes</td>\n",
       "      <td>RJB</td>\n",
       "      <td>USGS</td>\n",
       "      <td>4.92</td>\n",
       "      <td>1140</td>\n",
       "      <td>Fair</td>\n",
       "      <td>-0.11</td>\n",
       "      <td>1.62</td>\n",
       "      <td>DebrisLight</td>\n",
       "      <td>NONE</td>\n",
       "    </tr>\n",
       "  </tbody>\n",
       "</table>\n",
       "<p>169 rows × 15 columns</p>\n",
       "</div>"
      ],
      "text/plain": [
       "    agency_cd   site_no  measurement_nu       measurement_dt tz_cd  \\\n",
       "0        USGS  06721000               1  2003-05-14 09:30:00   MDT   \n",
       "1        USGS  06721000               2  2003-06-10 13:00:00   MDT   \n",
       "2        USGS  06721000               3  2003-07-03 07:50:00   MDT   \n",
       "3        USGS  06721000               4  2003-09-02 12:55:00   MDT   \n",
       "4        USGS  06721000               5  2003-10-15 11:40:00   MDT   \n",
       "..        ...       ...             ...                  ...   ...   \n",
       "164      USGS  06721000             166  2020-11-20 08:57:30   MST   \n",
       "165      USGS  06721000             167  2021-01-05 12:17:30   MST   \n",
       "166      USGS  06721000             168  2021-02-22 11:05:30   MST   \n",
       "167      USGS  06721000             169  2021-04-06 10:41:00   MDT   \n",
       "168      USGS  06721000             170  2021-05-18 11:46:30   MDT   \n",
       "\n",
       "    q_meas_used_fg party_nm site_visit_coll_agency_cd  gage_height_va  \\\n",
       "0              Yes      DGS                      USGS            4.75   \n",
       "1              Yes      DGS                      USGS            4.76   \n",
       "2              Yes      DGS                      USGS            4.48   \n",
       "3              Yes      DGS                      USGS            3.98   \n",
       "4              Yes      DGS                      USGS            3.58   \n",
       "..             ...      ...                       ...             ...   \n",
       "164            Yes      DBM                      USGS            3.34   \n",
       "165            Yes      DBM                      USGS            3.52   \n",
       "166            Yes      DBM                     Unspe            3.64   \n",
       "167            Yes      DBM                      USGS            3.33   \n",
       "168            Yes      RJB                      USGS            4.92   \n",
       "\n",
       "     discharge_va measured_rating_diff  gage_va_change  gage_va_time  \\\n",
       "0             751                 Fair           -0.01          1.10   \n",
       "1             781                 Fair            0.01          1.00   \n",
       "2             658                 Fair            0.01          1.50   \n",
       "3             369                 Fair           -0.05          1.10   \n",
       "4             209                 Fair            0.00          0.90   \n",
       "..            ...                  ...             ...           ...   \n",
       "164           285                 Fair            0.00          0.68   \n",
       "165           311                 Fair            0.01          0.50   \n",
       "166           368                 Good            0.01          0.75   \n",
       "167           269                 Fair            0.02          0.70   \n",
       "168          1140                 Fair           -0.11          1.62   \n",
       "\n",
       "    control_type_cd discharge_cd  \n",
       "0             Clear         NONE  \n",
       "1             Clear         NONE  \n",
       "2             Clear         NONE  \n",
       "3             Clear         NONE  \n",
       "4             Clear         NONE  \n",
       "..              ...          ...  \n",
       "164           Clear         NONE  \n",
       "165           Clear         NONE  \n",
       "166           Clear         NONE  \n",
       "167           Clear         NONE  \n",
       "168     DebrisLight         NONE  \n",
       "\n",
       "[169 rows x 15 columns]"
      ]
     },
     "execution_count": 28,
     "metadata": {},
     "output_type": "execute_result"
    }
   ],
   "source": [
    "meas"
   ]
  },
  {
   "cell_type": "markdown",
   "id": "violent-illness",
   "metadata": {},
   "source": [
    "Might be interesting in some cases to filter measurements"
   ]
  },
  {
   "cell_type": "code",
   "execution_count": 29,
   "id": "recreational-discipline",
   "metadata": {},
   "outputs": [],
   "source": [
    "meas1 = meas.loc[(meas['measured_rating_diff'].isin(['Good','Fair','Poor']))]\n",
    "meas1.head()\n",
    "meas1.reset_index(inplace = True)"
   ]
  },
  {
   "cell_type": "markdown",
   "id": "described-murder",
   "metadata": {},
   "source": [
    "Plot of measured discharges vs synthetic rating curve"
   ]
  },
  {
   "cell_type": "code",
   "execution_count": 30,
   "id": "selected-narrative",
   "metadata": {},
   "outputs": [
    {
     "data": {
      "text/plain": [
       "<matplotlib.collections.PathCollection at 0x7f097b466e80>"
      ]
     },
     "execution_count": 30,
     "metadata": {},
     "output_type": "execute_result"
    },
    {
     "data": {
      "image/png": "[encoded data removed]",
      "text/plain": [
       "<Figure size 432x288 with 1 Axes>"
      ]
     },
     "metadata": {
      "needs_background": "light"
     },
     "output_type": "display_data"
    }
   ],
   "source": [
    "meas1.loc[:,'stage_elev'] = meas1.loc[:,'gage_height_va'].values\n",
    "# add gage datum to gage measurements\n",
    "meas1.loc[:,'stage_elev'] += si.loc[:,'alt_va'].values\n",
    "meas1.loc[:,'stage_elev'] *= 0.3048\n",
    "meas1.loc[:,'discharge_va'] *= 0.02831\n",
    "# meas = pd.read_csv('usgs06759500.csv', header=None, names=['stage','discharge'])\n",
    "ax = plt.subplot(111)\n",
    "meas1.plot.scatter(x='discharge_va', y='stage_elev', ax = ax)\n",
    "plt.scatter(q_values, stage_values, color='black')"
   ]
  },
  {
   "cell_type": "markdown",
   "id": "tropical-jimmy",
   "metadata": {},
   "source": [
    "Same analysis as above but use measured stage values to calculate sythetic flow values and determine rmse of each n-value SRC.\n",
    "* remove measured stages less than minimum elevation in DEM cross-section "
   ]
  },
  {
   "cell_type": "code",
   "execution_count": 31,
   "id": "clinical-prairie",
   "metadata": {},
   "outputs": [
    {
     "name": "stdout",
     "output_type": "stream",
     "text": [
      "0.01 87.32386761816996\n",
      "0.011 73.87413594631735\n",
      "0.011999999999999999 63.235782240992634\n",
      "0.012999999999999998 54.87910708561826\n",
      "0.013999999999999997 48.43563160537795\n",
      "0.014999999999999996 43.63158625943483\n",
      "0.015999999999999993 40.240186635915755\n",
      "0.016999999999999994 38.049847656571565\n",
      "0.017999999999999995 36.85010052629823\n",
      "0.018999999999999993 36.43409205658128\n",
      "0.01999999999999999 36.610262870518405\n",
      "0.02099999999999999 37.2136708687105\n",
      "0.021999999999999992 38.11139437305996\n",
      "0.02299999999999999 39.20179341326242\n",
      "0.023999999999999987 40.41010004236654\n",
      "0.024999999999999988 41.68283218487781\n",
      "0.02599999999999999 42.98253357438655\n",
      "0.02699999999999999 44.28344189199637\n",
      "0.027999999999999983 45.56816801952753\n",
      "0.028999999999999984 46.82525069461528\n",
      "0.029999999999999985 48.047395761186785\n",
      "0.030999999999999986 49.23022343003069\n",
      "0.03199999999999998 50.37138205800551\n",
      "0.03299999999999998 51.469922519805735\n",
      "0.03399999999999998 52.52585661313992\n",
      "0.03499999999999998 53.539845165395505\n",
      "0.035999999999999976 54.51297761791256\n",
      "0.03699999999999998 55.44661627734932\n",
      "0.03799999999999998 56.342286421053274\n",
      "0.03899999999999998 57.20159902229654\n",
      "0.03999999999999997 58.0261967514895\n",
      "0.040999999999999974 58.81771662787089\n",
      "0.041999999999999975 59.57776460255046\n",
      "0.042999999999999976 60.307898696719434\n",
      "0.04399999999999998 61.00961826956462\n",
      "0.04499999999999997 61.68435766693329\n",
      "0.04599999999999997 62.33348298564041\n",
      "0.04699999999999997 62.95829103606536\n",
      "0.047999999999999966 63.560009836786996\n",
      "0.04899999999999997 64.13980015709177\n",
      "0.04999999999999997 64.69875775573136\n",
      "(array([9]),)\n"
     ]
    },
    {
     "data": {
      "image/png": "[encoded data removed]",
      "text/plain": [
       "<Figure size 432x288 with 1 Axes>"
      ]
     },
     "metadata": {
      "needs_background": "light"
     },
     "output_type": "display_data"
    }
   ],
   "source": [
    "def rmse(meas, sim):\n",
    "    return np.sqrt(np.square(np.subtract(meas, sim)).mean())\n",
    "\n",
    "min_elev = np.min(sta2[:,1])\n",
    "max_elev = np.max(sta2[:,0])\n",
    "max_depth = 5.0\n",
    "stage_values = meas1.stage_elev.values\n",
    "# remove measured stages less than mimimum elevation in DEM cross-section\n",
    "sv = stage_values[stage_values > min_elev]\n",
    "mq = meas1.discharge_va.values[stage_values > min_elev]\n",
    "q_values = np.zeros(len(sv))\n",
    "nvals = np.arange(0.01,0.051,0.001,dtype=float)\n",
    "rmse_vals = np.zeros(len(nvals))\n",
    "calvals = np.zeros((len(nvals),len(q_values)))\n",
    "for tindex,n in enumerate(nvals):\n",
    "    for index,ws in enumerate(sv):\n",
    "        args = flowEst(wsElev=ws,slope=segslope.SLOPE.values[0], n=n, staElev=sta2, units='m')\n",
    "#         print(f'{index}, ws is {ws}, Q is {args[3]}, MQ is {meas1.discharge_va[index]}')\n",
    "        q_values[index] = args[3]\n",
    "        calvals[tindex, index] = args[3]\n",
    "    print(n, rmse(mq, q_values))\n",
    "    rmse_vals[tindex] = rmse(mq, q_values)\n",
    "\n",
    "plt.scatter(nvals, rmse_vals)\n",
    "print(np.where(rmse_vals == min(rmse_vals)))\n",
    "minrmse_index = np.where(rmse_vals == min(rmse_vals))[0]"
   ]
  },
  {
   "cell_type": "code",
   "execution_count": 32,
   "id": "opposite-account",
   "metadata": {},
   "outputs": [
    {
     "data": {
      "text/plain": [
       "<matplotlib.legend.Legend at 0x7f097b399700>"
      ]
     },
     "execution_count": 32,
     "metadata": {},
     "output_type": "execute_result"
    },
    {
     "data": {
      "image/png": "[encoded data removed]",
      "text/plain": [
       "<Figure size 432x288 with 1 Axes>"
      ]
     },
     "metadata": {
      "needs_background": "light"
     },
     "output_type": "display_data"
    }
   ],
   "source": [
    "plt.scatter(calvals[minrmse_index,:], sv, label='simulated')\n",
    "plt.scatter(mq, sv, label='measured')\n",
    "plt.legend()"
   ]
  },
  {
   "cell_type": "code",
   "execution_count": 33,
   "id": "after-identification",
   "metadata": {},
   "outputs": [
    {
     "data": {
      "text/plain": [
       "0      21.26081\n",
       "1      22.11011\n",
       "2      18.62798\n",
       "3      10.44639\n",
       "4       5.91679\n",
       "         ...   \n",
       "164     8.06835\n",
       "165     8.80441\n",
       "166    10.41808\n",
       "167     7.61539\n",
       "168    32.27340\n",
       "Name: discharge_va, Length: 169, dtype: float64"
      ]
     },
     "execution_count": 33,
     "metadata": {},
     "output_type": "execute_result"
    }
   ],
   "source": [
    "meas1.discharge_va"
   ]
  },
  {
   "cell_type": "markdown",
   "id": "acoustic-ebony",
   "metadata": {},
   "source": [
    "Quick experiment curve fitting measured data"
   ]
  },
  {
   "cell_type": "code",
   "execution_count": 34,
   "id": "favorite-advantage",
   "metadata": {},
   "outputs": [
    {
     "name": "stdout",
     "output_type": "stream",
     "text": [
      "169 169\n"
     ]
    }
   ],
   "source": [
    "from scipy.optimize import curve_fit\n",
    "ds = meas1.discharge_va.values\n",
    "st = meas1.stage_elev.values\n",
    "print(len(ds), len(st))"
   ]
  },
  {
   "cell_type": "code",
   "execution_count": 35,
   "id": "facial-smith",
   "metadata": {},
   "outputs": [],
   "source": [
    "def func(x, a, b):\n",
    "    return a + b*np.log(x)\n",
    "popt,pcov = curve_fit(func, ds, st)"
   ]
  },
  {
   "cell_type": "code",
   "execution_count": 36,
   "id": "included-paint",
   "metadata": {},
   "outputs": [
    {
     "data": {
      "image/png": "[encoded data removed]",
      "text/plain": [
       "<Figure size 432x288 with 1 Axes>"
      ]
     },
     "metadata": {
      "needs_background": "light"
     },
     "output_type": "display_data"
    }
   ],
   "source": [
    "ax = plt.subplot(111)\n",
    "meas1.plot.scatter(x='discharge_va', y='stage_elev', ax = ax, label='measured')\n",
    "ax.scatter(ds, func(ds,*popt), color='black', label='log-fit')\n",
    "plt.legend()\n",
    "plt.show()"
   ]
  },
  {
   "cell_type": "code",
   "execution_count": null,
   "id": "rocky-trade",
   "metadata": {},
   "outputs": [],
   "source": []
  },
  {
   "cell_type": "code",
   "execution_count": 37,
   "id": "latter-korea",
   "metadata": {},
   "outputs": [],
   "source": [
    "slope = pd.read_csv(r'elevslope.csv')"
   ]
  },
  {
   "cell_type": "code",
   "execution_count": 38,
   "id": "vocational-girlfriend",
   "metadata": {},
   "outputs": [
    {
     "data": {
      "text/html": [
       "<div>\n",
       "<style scoped>\n",
       "    .dataframe tbody tr th:only-of-type {\n",
       "        vertical-align: middle;\n",
       "    }\n",
       "\n",
       "    .dataframe tbody tr th {\n",
       "        vertical-align: top;\n",
       "    }\n",
       "\n",
       "    .dataframe thead th {\n",
       "        text-align: right;\n",
       "    }\n",
       "</style>\n",
       "<table border=\"1\" class=\"dataframe\">\n",
       "  <thead>\n",
       "    <tr style=\"text-align: right;\">\n",
       "      <th></th>\n",
       "      <th>COMID</th>\n",
       "      <th>FDATE</th>\n",
       "      <th>MAXELEVRAW</th>\n",
       "      <th>MINELEVRAW</th>\n",
       "      <th>MAXELEVSMO</th>\n",
       "      <th>MINELEVSMO</th>\n",
       "      <th>SLOPE</th>\n",
       "      <th>ELEVFIXED</th>\n",
       "      <th>HWTYPE</th>\n",
       "      <th>STATUSFLAG</th>\n",
       "      <th>SLOPELENKM</th>\n",
       "    </tr>\n",
       "  </thead>\n",
       "  <tbody>\n",
       "    <tr>\n",
       "      <th>24181</th>\n",
       "      <td>3561878</td>\n",
       "      <td>6/30/2009</td>\n",
       "      <td>-9998.0</td>\n",
       "      <td>129917.0</td>\n",
       "      <td>129920.0</td>\n",
       "      <td>129917.0</td>\n",
       "      <td>0.000049</td>\n",
       "      <td>0</td>\n",
       "      <td>NaN</td>\n",
       "      <td>A</td>\n",
       "      <td>0.606</td>\n",
       "    </tr>\n",
       "  </tbody>\n",
       "</table>\n",
       "</div>"
      ],
      "text/plain": [
       "         COMID      FDATE  MAXELEVRAW  MINELEVRAW  MAXELEVSMO  MINELEVSMO  \\\n",
       "24181  3561878  6/30/2009     -9998.0    129917.0    129920.0    129917.0   \n",
       "\n",
       "          SLOPE  ELEVFIXED HWTYPE STATUSFLAG  SLOPELENKM  \n",
       "24181  0.000049          0    NaN          A       0.606  "
      ]
     },
     "execution_count": 38,
     "metadata": {},
     "output_type": "execute_result"
    }
   ],
   "source": [
    "slope[slope.COMID==3561878]"
   ]
  },
  {
   "cell_type": "code",
   "execution_count": 39,
   "id": "binding-terrorist",
   "metadata": {},
   "outputs": [
    {
     "name": "stdout",
     "output_type": "stream",
     "text": [
      "0.07518151815181509\n"
     ]
    }
   ],
   "source": [
    "#3561878,6.49,0.09,1328.19,1299.17,1344.73,0,0.606\n",
    "slope = (1344.73-1299.17)/606.0\n",
    "print(slope)"
   ]
  },
  {
   "cell_type": "code",
   "execution_count": null,
   "id": "amended-horizon",
   "metadata": {},
   "outputs": [],
   "source": []
  },
  {
   "cell_type": "code",
   "execution_count": null,
   "id": "36d37e11-0787-45c0-92a4-eb5f505ddada",
   "metadata": {},
   "outputs": [],
   "source": []
  }
 ],
 "metadata": {
  "kernelspec": {
   "display_name": "Python 3",
   "language": "python",
   "name": "python3"
  },
  "language_info": {
   "codemirror_mode": {
    "name": "ipython",
    "version": 3
   },
   "file_extension": ".py",
   "mimetype": "text/x-python",
   "name": "python",
   "nbconvert_exporter": "python",
   "pygments_lexer": "ipython3",
   "version": "3.9.2"
  },
  "metadata": {
   "interpreter": {
    "hash": "33fd6611e902258d9fc11e5d50f6ae17f2c8550f72c9a6a9a72f163ce7110a39"
   }
  }
 },
 "nbformat": 4,
 "nbformat_minor": 5
}
