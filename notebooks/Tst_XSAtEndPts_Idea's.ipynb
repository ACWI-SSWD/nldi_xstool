{
 "cells": [
  {
   "cell_type": "code",
   "execution_count": 1,
   "id": "b992ef4b-18a6-4020-af68-01f11ffb7317",
   "metadata": {},
   "outputs": [],
   "source": [
    "ls = [(40.272798, -103.800787), (40.267335, -103.801134)]"
   ]
  },
  {
   "cell_type": "code",
   "execution_count": 2,
   "id": "78aa2b1a-15b4-4605-9c42-a39fb121b065",
   "metadata": {},
   "outputs": [
    {
     "data": {
      "text/plain": [
       "[(40.272798, -103.800787), (40.267335, -103.801134)]"
      ]
     },
     "execution_count": 2,
     "metadata": {},
     "output_type": "execute_result"
    }
   ],
   "source": [
    "ls"
   ]
  },
  {
   "cell_type": "code",
   "execution_count": 3,
   "id": "46d1d682-e432-4be4-ad5b-92560d9e2f92",
   "metadata": {},
   "outputs": [
    {
     "name": "stdout",
     "output_type": "stream",
     "text": [
      "40.272798 -103.800787\n",
      "40.267335 -103.801134\n",
      "[<shapely.geometry.point.Point object at 0x7f991de463a0>, <shapely.geometry.point.Point object at 0x7f996cd64d90>]\n",
      "  pointofinterest        Lat         Lon\n",
      "0            this  40.272798 -103.800787\n",
      "1            this  40.267335 -103.801134\n",
      "     name                                           geometry\n",
      "0  xspath  LINESTRING (-11555050.753 4905664.092, -115550...\n"
     ]
    }
   ],
   "source": [
    "import pandas as pd\n",
    "import geopandas as gpd\n",
    "import numpy as np\n",
    "from shapely.geometry import LineString, Point\n",
    "lat=[]\n",
    "lon=[]\n",
    "lnst=[]\n",
    "for pt in ls:\n",
    "    print(pt[0], pt[1])\n",
    "    lat.append(pt[0])\n",
    "    lon.append(pt[1])\n",
    "    lnst.append(Point(pt[1], pt[0]))\n",
    "print(lnst)\n",
    "df = pd.DataFrame({'pointofinterest': ['this', 'this'],\n",
    "                       'Lat': np.asarray(lat),\n",
    "                       'Lon': np.asarray(lon)})\n",
    "print(df)\n",
    "d = {'name': ['xspath'], 'geometry': [LineString(lnst)]}\n",
    "gpd_pt = gpd.GeoDataFrame(d, crs=\"EPSG:4326\")\n",
    "gpd_pt.to_crs(epsg=3857, inplace=True)\n",
    "print(gpd_pt)"
   ]
  },
  {
   "cell_type": "code",
   "execution_count": 4,
   "id": "735263c9-5871-4965-91ca-a4c59ee93ce3",
   "metadata": {},
   "outputs": [
    {
     "data": {
      "text/plain": [
       "<AxesSubplot:>"
      ]
     },
     "execution_count": 4,
     "metadata": {},
     "output_type": "execute_result"
    }
   ],
   "source": [
    "gpd_pt.plot()"
   ]
  },
  {
   "cell_type": "code",
   "execution_count": 5,
   "id": "55701a28-7a2c-43d6-acf1-154d894d4d9d",
   "metadata": {},
   "outputs": [
    {
     "data": {
      "text/plain": [
       "<Projected CRS: EPSG:5071>\n",
       "Name: WGS 84 / Pseudo-Mercator\n",
       "Axis Info [cartesian]:\n",
       "- X[east]: Easting (metre)\n",
       "- Y[north]: Northing (metre)\n",
       "Area of Use:\n",
       "- name: World between 85.06°S and 85.06°N.\n",
       "- bounds: (-180.0, -85.06, 180.0, 85.06)\n",
       "Coordinate Operation:\n",
       "- name: Popular Visualisation Pseudo-Mercator\n",
       "- method: Popular Visualisation Pseudo Mercator\n",
       "Datum: World Geodetic System 1984 ensemble\n",
       "- Ellipsoid: WGS 84\n",
       "- Prime Meridian: Greenwich"
      ]
     },
     "execution_count": 5,
     "metadata": {},
     "output_type": "execute_result"
    }
   ],
   "source": [
    "gpd_pt.crs"
   ]
  },
  {
   "cell_type": "code",
   "execution_count": 6,
   "id": "fbe4bf0f-9114-4ded-bc83-5819ffa27477",
   "metadata": {},
   "outputs": [
    {
     "data": {
      "text/plain": [
       "0    True\n",
       "dtype: bool"
      ]
     },
     "execution_count": 6,
     "metadata": {},
     "output_type": "execute_result"
    }
   ],
   "source": [
    "gpd_pt.is_valid"
   ]
  },
  {
   "cell_type": "code",
   "execution_count": 7,
   "id": "441a4066-6b3f-4f9b-afce-64b86f8172d7",
   "metadata": {},
   "outputs": [
    {
     "data": {
      "text/plain": [
       "7.979649728265518"
      ]
     },
     "execution_count": 7,
     "metadata": {},
     "output_type": "execute_result"
    }
   ],
   "source": [
    "spacing = gpd_pt.geometry[0].length/100.\n",
    "spacing"
   ]
  },
  {
   "cell_type": "code",
   "execution_count": 8,
   "id": "638176d4-df23-4744-b99a-e9aa8488f436",
   "metadata": {},
   "outputs": [
    {
     "name": "stdout",
     "output_type": "stream",
     "text": [
      "797.9649728265518\n"
     ]
    },
    {
     "ename": "TypeError",
     "evalue": "'float' object is not subscriptable",
     "output_type": "error",
     "traceback": [
      "\u001b[0;31m---------------------------------------------------------------------------\u001b[0m",
      "\u001b[0;31mTypeError\u001b[0m                                 Traceback (most recent call last)",
      "\u001b[0;32m<ipython-input-8-0b9de234fd20>\u001b[0m in \u001b[0;36m<module>\u001b[0;34m\u001b[0m\n\u001b[1;32m     16\u001b[0m     \u001b[0mpoint\u001b[0m \u001b[0;34m=\u001b[0m \u001b[0mline\u001b[0m\u001b[0;34m.\u001b[0m\u001b[0minterpolate\u001b[0m\u001b[0;34m(\u001b[0m\u001b[0md\u001b[0m\u001b[0;34m)\u001b[0m\u001b[0;34m\u001b[0m\u001b[0;34m\u001b[0m\u001b[0m\n\u001b[1;32m     17\u001b[0m     \u001b[0mresult\u001b[0m\u001b[0;34m.\u001b[0m\u001b[0mappend\u001b[0m\u001b[0;34m(\u001b[0m\u001b[0;34m(\u001b[0m\u001b[0mpoint\u001b[0m\u001b[0;34m.\u001b[0m\u001b[0mx\u001b[0m\u001b[0;34m,\u001b[0m \u001b[0mpoint\u001b[0m\u001b[0;34m.\u001b[0m\u001b[0my\u001b[0m\u001b[0;34m)\u001b[0m\u001b[0;34m)\u001b[0m\u001b[0;34m\u001b[0m\u001b[0;34m\u001b[0m\u001b[0m\n\u001b[0;32m---> 18\u001b[0;31m     \u001b[0md\u001b[0m \u001b[0;34m+=\u001b[0m \u001b[0mspacing\u001b[0m\u001b[0;34m[\u001b[0m\u001b[0;36m0\u001b[0m\u001b[0;34m]\u001b[0m\u001b[0;34m\u001b[0m\u001b[0;34m\u001b[0m\u001b[0m\n\u001b[0m\u001b[1;32m     19\u001b[0m \u001b[0;34m\u001b[0m\u001b[0m\n\u001b[1;32m     20\u001b[0m \u001b[0mpoint\u001b[0m \u001b[0;34m=\u001b[0m \u001b[0mline\u001b[0m\u001b[0;34m.\u001b[0m\u001b[0minterpolate\u001b[0m\u001b[0;34m(\u001b[0m\u001b[0mlength\u001b[0m\u001b[0;34m)\u001b[0m\u001b[0;34m\u001b[0m\u001b[0;34m\u001b[0m\u001b[0m\n",
      "\u001b[0;31mTypeError\u001b[0m: 'float' object is not subscriptable"
     ]
    }
   ],
   "source": [
    "result = []\n",
    "line = gpd_pt.geometry[0]\n",
    "type(line)\n",
    "length = line.length\n",
    "print(length)\n",
    "d = 0.0\n",
    "# point = line.interpolate(d)\n",
    "# print(point)\n",
    "# d += spacing\n",
    "# point = line.interpolate(d)\n",
    "# print(point)\n",
    "# d1 = np.linspace(0,length, 100)\n",
    "# print(d1)\n",
    "# point = line.interpolate(d1)\n",
    "while d < length:\n",
    "    point = line.interpolate(d)\n",
    "    result.append((point.x, point.y))\n",
    "    d += spacing[0]\n",
    "    \n",
    "point = line.interpolate(length)\n",
    "result.append((point.x, point.y))\n",
    "\n",
    "print(result, type(result))\n",
    "print(np.asarray(result)[:][0])"
   ]
  },
  {
   "cell_type": "code",
   "execution_count": 9,
   "id": "60d111e2-716e-45c7-a61c-2f74d19a48b9",
   "metadata": {},
   "outputs": [],
   "source": [
    "from nldi_xstool.nldi_xstool import getXSAtEndPts"
   ]
  },
  {
   "cell_type": "code",
   "execution_count": 10,
   "id": "996c6ab5-9984-4628-9094-7cfa63f43162",
   "metadata": {},
   "outputs": [],
   "source": [
    "test = getXSAtEndPts(ls, 100)"
   ]
  },
  {
   "cell_type": "code",
   "execution_count": 11,
   "id": "1cac94ce-b2f8-45d7-a0c4-b1722c2f9256",
   "metadata": {},
   "outputs": [
    {
     "data": {
      "text/html": [
       "<div>\n",
       "<style scoped>\n",
       "    .dataframe tbody tr th:only-of-type {\n",
       "        vertical-align: middle;\n",
       "    }\n",
       "\n",
       "    .dataframe tbody tr th {\n",
       "        vertical-align: top;\n",
       "    }\n",
       "\n",
       "    .dataframe thead th {\n",
       "        text-align: right;\n",
       "    }\n",
       "</style>\n",
       "<table border=\"1\" class=\"dataframe\">\n",
       "  <thead>\n",
       "    <tr style=\"text-align: right;\">\n",
       "      <th></th>\n",
       "      <th>elevation</th>\n",
       "      <th>distance</th>\n",
       "      <th>geometry</th>\n",
       "    </tr>\n",
       "    <tr>\n",
       "      <th>z</th>\n",
       "      <th></th>\n",
       "      <th></th>\n",
       "      <th></th>\n",
       "    </tr>\n",
       "  </thead>\n",
       "  <tbody>\n",
       "    <tr>\n",
       "      <th>0</th>\n",
       "      <td>0.0</td>\n",
       "      <td>0.0</td>\n",
       "      <td>POINT (0.00000 0.00000)</td>\n",
       "    </tr>\n",
       "    <tr>\n",
       "      <th>1</th>\n",
       "      <td>0.0</td>\n",
       "      <td>0.0</td>\n",
       "      <td>POINT (0.00000 0.00000)</td>\n",
       "    </tr>\n",
       "    <tr>\n",
       "      <th>2</th>\n",
       "      <td>0.0</td>\n",
       "      <td>0.0</td>\n",
       "      <td>POINT (0.00000 0.00000)</td>\n",
       "    </tr>\n",
       "    <tr>\n",
       "      <th>3</th>\n",
       "      <td>0.0</td>\n",
       "      <td>0.0</td>\n",
       "      <td>POINT (0.00000 0.00000)</td>\n",
       "    </tr>\n",
       "    <tr>\n",
       "      <th>4</th>\n",
       "      <td>0.0</td>\n",
       "      <td>0.0</td>\n",
       "      <td>POINT (0.00000 0.00000)</td>\n",
       "    </tr>\n",
       "    <tr>\n",
       "      <th>...</th>\n",
       "      <td>...</td>\n",
       "      <td>...</td>\n",
       "      <td>...</td>\n",
       "    </tr>\n",
       "    <tr>\n",
       "      <th>96</th>\n",
       "      <td>0.0</td>\n",
       "      <td>0.0</td>\n",
       "      <td>POINT (0.00000 0.00000)</td>\n",
       "    </tr>\n",
       "    <tr>\n",
       "      <th>97</th>\n",
       "      <td>0.0</td>\n",
       "      <td>0.0</td>\n",
       "      <td>POINT (0.00000 0.00000)</td>\n",
       "    </tr>\n",
       "    <tr>\n",
       "      <th>98</th>\n",
       "      <td>0.0</td>\n",
       "      <td>0.0</td>\n",
       "      <td>POINT (0.00000 0.00000)</td>\n",
       "    </tr>\n",
       "    <tr>\n",
       "      <th>99</th>\n",
       "      <td>0.0</td>\n",
       "      <td>0.0</td>\n",
       "      <td>POINT (0.00000 0.00000)</td>\n",
       "    </tr>\n",
       "    <tr>\n",
       "      <th>100</th>\n",
       "      <td>0.0</td>\n",
       "      <td>0.0</td>\n",
       "      <td>POINT (0.00000 0.00000)</td>\n",
       "    </tr>\n",
       "  </tbody>\n",
       "</table>\n",
       "<p>101 rows × 3 columns</p>\n",
       "</div>"
      ],
      "text/plain": [
       "     elevation  distance                 geometry\n",
       "z                                                \n",
       "0          0.0       0.0  POINT (0.00000 0.00000)\n",
       "1          0.0       0.0  POINT (0.00000 0.00000)\n",
       "2          0.0       0.0  POINT (0.00000 0.00000)\n",
       "3          0.0       0.0  POINT (0.00000 0.00000)\n",
       "4          0.0       0.0  POINT (0.00000 0.00000)\n",
       "..         ...       ...                      ...\n",
       "96         0.0       0.0  POINT (0.00000 0.00000)\n",
       "97         0.0       0.0  POINT (0.00000 0.00000)\n",
       "98         0.0       0.0  POINT (0.00000 0.00000)\n",
       "99         0.0       0.0  POINT (0.00000 0.00000)\n",
       "100        0.0       0.0  POINT (0.00000 0.00000)\n",
       "\n",
       "[101 rows x 3 columns]"
      ]
     },
     "execution_count": 11,
     "metadata": {},
     "output_type": "execute_result"
    }
   ],
   "source": [
    "test"
   ]
  },
  {
   "cell_type": "code",
   "execution_count": 12,
   "id": "6f3f1c36-e114-4a10-966c-8d3378e3c8b0",
   "metadata": {},
   "outputs": [
    {
     "data": {
      "text/plain": [
       "<AxesSubplot:xlabel='z'>"
      ]
     },
     "execution_count": 12,
     "metadata": {},
     "output_type": "execute_result"
    }
   ],
   "source": [
    "test.elevation.plot()"
   ]
  },
  {
   "cell_type": "code",
   "execution_count": 13,
   "id": "db52c7e5-40a7-46cd-ac22-a07101eea4bf",
   "metadata": {},
   "outputs": [
    {
     "data": {
      "text/plain": [
       "<AxesSubplot:>"
      ]
     },
     "execution_count": 13,
     "metadata": {},
     "output_type": "execute_result"
    }
   ],
   "source": [
    "test.plot(column='elevation', markersize=1)"
   ]
  },
  {
   "cell_type": "code",
   "execution_count": 14,
   "id": "96f38dae-b7e1-4d8c-9ccf-a43ed9c4c7df",
   "metadata": {},
   "outputs": [],
   "source": [
    "p1 = gpd_pt.geometry[0].coords[0]\n",
    "p2 = gpd_pt.geometry[0].coords[1]\n",
    "dx = (p1[0]-p2[0])/100.0\n",
    "dy = (p1[1]-p2[1])/100.0"
   ]
  },
  {
   "cell_type": "code",
   "execution_count": null,
   "id": "6b9c7474-de80-4d46-9303-3be8f48deba3",
   "metadata": {},
   "outputs": [],
   "source": []
  },
  {
   "cell_type": "code",
   "execution_count": 15,
   "id": "e5a2b6f6-3075-4814-b906-2503e2410dc4",
   "metadata": {},
   "outputs": [
    {
     "name": "stdout",
     "output_type": "stream",
     "text": [
      "0.38627863306552174 7.970294762644917\n"
     ]
    }
   ],
   "source": [
    "print(dx, dy)"
   ]
  },
  {
   "cell_type": "code",
   "execution_count": 16,
   "id": "0ef4702c-16d9-4ac9-90c1-6226a473bae4",
   "metadata": {},
   "outputs": [
    {
     "ename": "SyntaxError",
     "evalue": "invalid syntax (<ipython-input-16-b9c9999eb818>, line 1)",
     "output_type": "error",
     "traceback": [
      "\u001b[0;36m  File \u001b[0;32m\"<ipython-input-16-b9c9999eb818>\"\u001b[0;36m, line \u001b[0;32m1\u001b[0m\n\u001b[0;31m    for x in line\u001b[0m\n\u001b[0m                 ^\u001b[0m\n\u001b[0;31mSyntaxError\u001b[0m\u001b[0;31m:\u001b[0m invalid syntax\n"
     ]
    }
   ],
   "source": [
    "for x in line"
   ]
  },
  {
   "cell_type": "code",
   "execution_count": null,
   "id": "f9f86a22",
   "metadata": {},
   "outputs": [],
   "source": []
  }
 ],
 "metadata": {
  "kernelspec": {
   "display_name": "Python 3",
   "language": "python",
   "name": "python3"
  },
  "language_info": {
   "codemirror_mode": {
    "name": "ipython",
    "version": 3
   },
   "file_extension": ".py",
   "mimetype": "text/x-python",
   "name": "python",
   "nbconvert_exporter": "python",
   "pygments_lexer": "ipython3",
   "version": "3.9.2"
  }
 },
 "nbformat": 4,
 "nbformat_minor": 5
}
