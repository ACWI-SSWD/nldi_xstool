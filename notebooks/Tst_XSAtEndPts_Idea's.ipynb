{
 "cells": [
  {
   "cell_type": "code",
   "execution_count": 52,
   "id": "b992ef4b-18a6-4020-af68-01f11ffb7317",
   "metadata": {},
   "outputs": [],
   "source": [
    "ls = [(40.272798, -103.800787), (40.267335, -103.801134)]"
   ]
  },
  {
   "cell_type": "code",
   "execution_count": 53,
   "id": "78aa2b1a-15b4-4605-9c42-a39fb121b065",
   "metadata": {},
   "outputs": [
    {
     "data": {
      "text/plain": [
       "[(40.272798, -103.800787), (40.267335, -103.801134)]"
      ]
     },
     "execution_count": 53,
     "metadata": {},
     "output_type": "execute_result"
    }
   ],
   "source": [
    "ls"
   ]
  },
  {
   "cell_type": "code",
   "execution_count": 54,
   "id": "46d1d682-e432-4be4-ad5b-92560d9e2f92",
   "metadata": {},
   "outputs": [
    {
     "name": "stdout",
     "output_type": "stream",
     "text": [
      "40.272798 -103.800787\n",
      "40.267335 -103.801134\n",
      "[<shapely.geometry.point.Point object at 0x00000296B0562BB0>, <shapely.geometry.point.Point object at 0x00000296B05625B0>]\n",
      "  pointofinterest        Lat         Lon\n",
      "0            this  40.272798 -103.800787\n",
      "1            this  40.267335 -103.801134\n",
      "     name                                           geometry\n",
      "0  xspath  LINESTRING (-11555050.753 4905664.092, -115550...\n"
     ]
    }
   ],
   "source": [
    "import pandas as pd\n",
    "import geopandas as gpd\n",
    "import numpy as np\n",
    "from shapely.geometry import LineString, Point\n",
    "lat=[]\n",
    "lon=[]\n",
    "lnst=[]\n",
    "for pt in ls:\n",
    "    print(pt[0], pt[1])\n",
    "    lat.append(pt[0])\n",
    "    lon.append(pt[1])\n",
    "    lnst.append(Point(pt[1], pt[0]))\n",
    "print(lnst)\n",
    "df = pd.DataFrame({'pointofinterest': ['this', 'this'],\n",
    "                       'Lat': np.asarray(lat),\n",
    "                       'Lon': np.asarray(lon)})\n",
    "print(df)\n",
    "d = {'name': ['xspath'], 'geometry': [LineString(lnst)]}\n",
    "gpd_pt = gpd.GeoDataFrame(d, crs=\"EPSG:4326\")\n",
    "gpd_pt.to_crs(epsg=3857, inplace=True)\n",
    "print(gpd_pt)"
   ]
  },
  {
   "cell_type": "code",
   "execution_count": 55,
   "id": "735263c9-5871-4965-91ca-a4c59ee93ce3",
   "metadata": {},
   "outputs": [
    {
     "data": {
      "text/plain": [
       "<AxesSubplot:>"
      ]
     },
     "execution_count": 55,
     "metadata": {},
     "output_type": "execute_result"
    },
    {
     "data": {
      "image/png": "[encoded data removed]",
      "text/plain": [
       "<Figure size 432x288 with 1 Axes>"
      ]
     },
     "metadata": {
      "needs_background": "light"
     },
     "output_type": "display_data"
    }
   ],
   "source": [
    "gpd_pt.plot()"
   ]
  },
  {
   "cell_type": "code",
   "execution_count": 92,
   "id": "55701a28-7a2c-43d6-acf1-154d894d4d9d",
   "metadata": {},
   "outputs": [
    {
     "data": {
      "text/plain": [
       "<Projected CRS: EPSG:3857>\n",
       "Name: WGS 84 / Pseudo-Mercator\n",
       "Axis Info [cartesian]:\n",
       "- X[east]: Easting (metre)\n",
       "- Y[north]: Northing (metre)\n",
       "Area of Use:\n",
       "- name: World between 85.06°S and 85.06°N.\n",
       "- bounds: (-180.0, -85.06, 180.0, 85.06)\n",
       "Coordinate Operation:\n",
       "- name: Popular Visualisation Pseudo-Mercator\n",
       "- method: Popular Visualisation Pseudo Mercator\n",
       "Datum: World Geodetic System 1984\n",
       "- Ellipsoid: WGS 84\n",
       "- Prime Meridian: Greenwich"
      ]
     },
     "execution_count": 92,
     "metadata": {},
     "output_type": "execute_result"
    }
   ],
   "source": [
    "gpd_pt.crs"
   ]
  },
  {
   "cell_type": "code",
   "execution_count": 56,
   "id": "fbe4bf0f-9114-4ded-bc83-5819ffa27477",
   "metadata": {},
   "outputs": [
    {
     "data": {
      "text/plain": [
       "0    True\n",
       "dtype: bool"
      ]
     },
     "execution_count": 56,
     "metadata": {},
     "output_type": "execute_result"
    }
   ],
   "source": [
    "gpd_pt.is_valid"
   ]
  },
  {
   "cell_type": "code",
   "execution_count": 91,
   "id": "441a4066-6b3f-4f9b-afce-64b86f8172d7",
   "metadata": {},
   "outputs": [
    {
     "data": {
      "text/plain": [
       "7.979649728265518"
      ]
     },
     "execution_count": 91,
     "metadata": {},
     "output_type": "execute_result"
    }
   ],
   "source": [
    "spacing = gpd_pt.geometry[0].length/100.\n",
    "spacing"
   ]
  },
  {
   "cell_type": "code",
   "execution_count": 89,
   "id": "638176d4-df23-4744-b99a-e9aa8488f436",
   "metadata": {},
   "outputs": [
    {
     "name": "stdout",
     "output_type": "stream",
     "text": [
      "797.9649728265518\n",
      "[(-11555050.75278105, 4905664.091696049), (-11555051.139059683, 4905656.121401287), (-11555051.525338316, 4905648.151106523), (-11555051.91161695, 4905640.180811761), (-11555052.297895582, 4905632.210516999), (-11555052.684174215, 4905624.240222236), (-11555053.070452848, 4905616.269927473), (-11555053.456731481, 4905608.29963271), (-11555053.843010115, 4905600.329337948), (-11555054.229288748, 4905592.359043186), (-11555054.61556738, 4905584.388748422), (-11555055.001846014, 4905576.41845366), (-11555055.388124647, 4905568.448158897), (-11555055.77440328, 4905560.477864135), (-11555056.160681913, 4905552.507569372), (-11555056.546960546, 4905544.537274609), (-11555056.933239179, 4905536.566979847), (-11555057.319517812, 4905528.5966850845), (-11555057.705796445, 4905520.626390321), (-11555058.092075078, 4905512.656095559), (-11555058.47835371, 4905504.685800796), (-11555058.864632344, 4905496.715506034), (-11555059.250910977, 4905488.745211271), (-11555059.63718961, 4905480.774916508), (-11555060.023468243, 4905472.804621746), (-11555060.409746876, 4905464.834326983), (-11555060.79602551, 4905456.86403222), (-11555061.182304144, 4905448.893737458), (-11555061.568582777, 4905440.923442695), (-11555061.95486141, 4905432.953147932), (-11555062.341140043, 4905424.98285317), (-11555062.727418676, 4905417.012558407), (-11555063.113697309, 4905409.042263645), (-11555063.499975942, 4905401.071968881), (-11555063.886254575, 4905393.101674119), (-11555064.272533208, 4905385.131379357), (-11555064.658811841, 4905377.161084594), (-11555065.045090474, 4905369.190789831), (-11555065.431369107, 4905361.2204950685), (-11555065.81764774, 4905353.250200306), (-11555066.203926373, 4905345.279905544), (-11555066.590205006, 4905337.30961078), (-11555066.97648364, 4905329.339316018), (-11555067.362762272, 4905321.3690212555), (-11555067.749040905, 4905313.398726493), (-11555068.135319538, 4905305.42843173), (-11555068.521598171, 4905297.458136967), (-11555068.907876804, 4905289.487842205), (-11555069.294155437, 4905281.517547443), (-11555069.68043407, 4905273.547252679), (-11555070.066712704, 4905265.576957917), (-11555070.452991337, 4905257.606663154), (-11555070.83926997, 4905249.636368391), (-11555071.225548603, 4905241.666073629), (-11555071.611827236, 4905233.695778866), (-11555071.998105869, 4905225.725484104), (-11555072.384384502, 4905217.755189341), (-11555072.770663135, 4905209.784894578), (-11555073.156941768, 4905201.814599816), (-11555073.5432204, 4905193.844305053), (-11555073.929499034, 4905185.87401029), (-11555074.315777667, 4905177.903715528), (-11555074.7020563, 4905169.933420765), (-11555075.088334933, 4905161.963126003), (-11555075.474613566, 4905153.9928312395), (-11555075.860892199, 4905146.022536477), (-11555076.247170832, 4905138.052241715), (-11555076.633449465, 4905130.081946952), (-11555077.019728098, 4905122.111652189), (-11555077.406006731, 4905114.1413574265), (-11555077.792285364, 4905106.171062664), (-11555078.178563997, 4905098.200767902), (-11555078.56484263, 4905090.230473138), (-11555078.951121263, 4905082.260178376), (-11555079.337399896, 4905074.289883614), (-11555079.723678531, 4905066.31958885), (-11555080.109957164, 4905058.349294088), (-11555080.496235797, 4905050.378999325), (-11555080.88251443, 4905042.408704563), (-11555081.268793063, 4905034.4384098), (-11555081.655071696, 4905026.468115037), (-11555082.04135033, 4905018.497820275), (-11555082.427628962, 4905010.5275255125), (-11555082.813907595, 4905002.557230749), (-11555083.200186228, 4904994.586935987), (-11555083.586464861, 4904986.616641224), (-11555083.972743494, 4904978.646346462), (-11555084.359022127, 4904970.676051699), (-11555084.74530076, 4904962.705756936), (-11555085.131579394, 4904954.735462174), (-11555085.517858027, 4904946.765167411), (-11555085.90413666, 4904938.794872648), (-11555086.290415293, 4904930.824577886), (-11555086.676693926, 4904922.854283123), (-11555087.062972559, 4904914.883988361), (-11555087.449251192, 4904906.913693598), (-11555087.835529825, 4904898.943398835), (-11555088.221808458, 4904890.973104073), (-11555088.60808709, 4904883.00280931), (-11555088.994365724, 4904875.032514547), (-11555089.380644357, 4904867.062219785), (-11555089.380644357, 4904867.062219785)] <class 'list'>\n",
      "[-11555050.75278105   4905664.09169605]\n"
     ]
    }
   ],
   "source": [
    "result = []\n",
    "line = gpd_pt.geometry[0]\n",
    "type(line)\n",
    "length = line.length\n",
    "print(length)\n",
    "d = 0.0\n",
    "# point = line.interpolate(d)\n",
    "# print(point)\n",
    "# d += spacing\n",
    "# point = line.interpolate(d)\n",
    "# print(point)\n",
    "# d1 = np.linspace(0,length, 100)\n",
    "# print(d1)\n",
    "# point = line.interpolate(d1)\n",
    "while d < length:\n",
    "    point = line.interpolate(d)\n",
    "    result.append((point.x, point.y))\n",
    "    d += spacing[0]\n",
    "    \n",
    "point = line.interpolate(length)\n",
    "result.append((point.x, point.y))\n",
    "\n",
    "print(result, type(result))\n",
    "print(np.asarray(result)[:][0])"
   ]
  },
  {
   "cell_type": "code",
   "execution_count": 94,
   "id": "60d111e2-716e-45c7-a61c-2f74d19a48b9",
   "metadata": {},
   "outputs": [],
   "source": [
    "from nldi_xstool.nldi_xstool import getXSAtEndPts"
   ]
  },
  {
   "cell_type": "code",
   "execution_count": 95,
   "id": "996c6ab5-9984-4628-9094-7cfa63f43162",
   "metadata": {},
   "outputs": [
    {
     "name": "stdout",
     "output_type": "stream",
     "text": [
      "geom: [(40.272798, -103.800787), (40.267335, -103.801134)] numpts: 100 file: None\n",
      "LINESTRING (-103.800787 40.272798, -103.801134 40.267335)\n",
      "     name                                           geometry\n",
      "0  xspath  LINESTRING (-103.80079 40.27280, -103.80113 40...\n",
      "     name                                           geometry\n",
      "0  xspath  LINESTRING (-11555050.753 4905664.092, -115550...\n",
      "     name                                           geometry\n",
      "0  xspath  LINESTRING (-11555050.753 4905664.092, -115550... 100\n"
     ]
    }
   ],
   "source": [
    "test = getXSAtEndPts(ls, 100)"
   ]
  },
  {
   "cell_type": "code",
   "execution_count": 99,
   "id": "1cac94ce-b2f8-45d7-a0c4-b1722c2f9256",
   "metadata": {},
   "outputs": [
    {
     "data": {
      "text/html": [
       "<div>\n",
       "<style scoped>\n",
       "    .dataframe tbody tr th:only-of-type {\n",
       "        vertical-align: middle;\n",
       "    }\n",
       "\n",
       "    .dataframe tbody tr th {\n",
       "        vertical-align: top;\n",
       "    }\n",
       "\n",
       "    .dataframe thead th {\n",
       "        text-align: right;\n",
       "    }\n",
       "</style>\n",
       "<table border=\"1\" class=\"dataframe\">\n",
       "  <thead>\n",
       "    <tr style=\"text-align: right;\">\n",
       "      <th></th>\n",
       "      <th>elevation</th>\n",
       "      <th>geometry</th>\n",
       "    </tr>\n",
       "    <tr>\n",
       "      <th>z</th>\n",
       "      <th></th>\n",
       "      <th></th>\n",
       "    </tr>\n",
       "  </thead>\n",
       "  <tbody>\n",
       "    <tr>\n",
       "      <th>0</th>\n",
       "      <td>1300.583041</td>\n",
       "      <td>POINT (-103.80079 40.27280)</td>\n",
       "    </tr>\n",
       "    <tr>\n",
       "      <th>1</th>\n",
       "      <td>1300.719080</td>\n",
       "      <td>POINT (-103.80079 40.27274)</td>\n",
       "    </tr>\n",
       "    <tr>\n",
       "      <th>2</th>\n",
       "      <td>1300.807615</td>\n",
       "      <td>POINT (-103.80079 40.27269)</td>\n",
       "    </tr>\n",
       "    <tr>\n",
       "      <th>3</th>\n",
       "      <td>1300.807748</td>\n",
       "      <td>POINT (-103.80080 40.27263)</td>\n",
       "    </tr>\n",
       "    <tr>\n",
       "      <th>4</th>\n",
       "      <td>1300.711975</td>\n",
       "      <td>POINT (-103.80080 40.27258)</td>\n",
       "    </tr>\n",
       "    <tr>\n",
       "      <th>...</th>\n",
       "      <td>...</td>\n",
       "      <td>...</td>\n",
       "    </tr>\n",
       "    <tr>\n",
       "      <th>96</th>\n",
       "      <td>1301.410560</td>\n",
       "      <td>POINT (-103.80112 40.26755)</td>\n",
       "    </tr>\n",
       "    <tr>\n",
       "      <th>97</th>\n",
       "      <td>1301.398750</td>\n",
       "      <td>POINT (-103.80112 40.26750)</td>\n",
       "    </tr>\n",
       "    <tr>\n",
       "      <th>98</th>\n",
       "      <td>1301.416394</td>\n",
       "      <td>POINT (-103.80113 40.26744)</td>\n",
       "    </tr>\n",
       "    <tr>\n",
       "      <th>99</th>\n",
       "      <td>1301.403393</td>\n",
       "      <td>POINT (-103.80113 40.26739)</td>\n",
       "    </tr>\n",
       "    <tr>\n",
       "      <th>100</th>\n",
       "      <td>1301.370247</td>\n",
       "      <td>POINT (-103.80113 40.26733)</td>\n",
       "    </tr>\n",
       "  </tbody>\n",
       "</table>\n",
       "<p>101 rows × 2 columns</p>\n",
       "</div>"
      ],
      "text/plain": [
       "       elevation                     geometry\n",
       "z                                            \n",
       "0    1300.583041  POINT (-103.80079 40.27280)\n",
       "1    1300.719080  POINT (-103.80079 40.27274)\n",
       "2    1300.807615  POINT (-103.80079 40.27269)\n",
       "3    1300.807748  POINT (-103.80080 40.27263)\n",
       "4    1300.711975  POINT (-103.80080 40.27258)\n",
       "..           ...                          ...\n",
       "96   1301.410560  POINT (-103.80112 40.26755)\n",
       "97   1301.398750  POINT (-103.80112 40.26750)\n",
       "98   1301.416394  POINT (-103.80113 40.26744)\n",
       "99   1301.403393  POINT (-103.80113 40.26739)\n",
       "100  1301.370247  POINT (-103.80113 40.26733)\n",
       "\n",
       "[101 rows x 2 columns]"
      ]
     },
     "execution_count": 99,
     "metadata": {},
     "output_type": "execute_result"
    }
   ],
   "source": [
    "test"
   ]
  },
  {
   "cell_type": "code",
   "execution_count": 100,
   "id": "6f3f1c36-e114-4a10-966c-8d3378e3c8b0",
   "metadata": {},
   "outputs": [
    {
     "data": {
      "text/plain": [
       "<AxesSubplot:xlabel='z'>"
      ]
     },
     "execution_count": 100,
     "metadata": {},
     "output_type": "execute_result"
    },
    {
     "data": {
      "image/png": "[encoded data removed]",
      "text/plain": [
       "<Figure size 432x288 with 1 Axes>"
      ]
     },
     "metadata": {
      "needs_background": "light"
     },
     "output_type": "display_data"
    }
   ],
   "source": [
    "test.elevation.plot()"
   ]
  },
  {
   "cell_type": "code",
   "execution_count": 104,
   "id": "db52c7e5-40a7-46cd-ac22-a07101eea4bf",
   "metadata": {},
   "outputs": [
    {
     "data": {
      "text/plain": [
       "<AxesSubplot:>"
      ]
     },
     "execution_count": 104,
     "metadata": {},
     "output_type": "execute_result"
    },
    {
     "data": {
      "image/png": "[encoded data removed]",
      "text/plain": [
       "<Figure size 432x288 with 1 Axes>"
      ]
     },
     "metadata": {
      "needs_background": "light"
     },
     "output_type": "display_data"
    }
   ],
   "source": [
    "test.plot(column='elevation', markersize=1)"
   ]
  },
  {
   "cell_type": "code",
   "execution_count": 62,
   "id": "96f38dae-b7e1-4d8c-9ccf-a43ed9c4c7df",
   "metadata": {},
   "outputs": [],
   "source": [
    "p1 = gpd_pt.geometry[0].coords[0]\n",
    "p2 = gpd_pt.geometry[0].coords[1]\n",
    "dx = (p1[0]-p2[0])/100.0\n",
    "dy = (p1[1]-p2[1])/100.0"
   ]
  },
  {
   "cell_type": "code",
   "execution_count": null,
   "id": "6b9c7474-de80-4d46-9303-3be8f48deba3",
   "metadata": {},
   "outputs": [],
   "source": []
  },
  {
   "cell_type": "code",
   "execution_count": 63,
   "id": "e5a2b6f6-3075-4814-b906-2503e2410dc4",
   "metadata": {},
   "outputs": [
    {
     "name": "stdout",
     "output_type": "stream",
     "text": [
      "0.38627863306552174 7.970294762644917\n"
     ]
    }
   ],
   "source": [
    "print(dx, dy)"
   ]
  },
  {
   "cell_type": "code",
   "execution_count": null,
   "id": "0ef4702c-16d9-4ac9-90c1-6226a473bae4",
   "metadata": {},
   "outputs": [],
   "source": [
    "for x in line"
   ]
  }
 ],
 "metadata": {
  "kernelspec": {
   "display_name": "Python 3",
   "language": "python",
   "name": "python3"
  },
  "language_info": {
   "codemirror_mode": {
    "name": "ipython",
    "version": 3
   },
   "file_extension": ".py",
   "mimetype": "text/x-python",
   "name": "python",
   "nbconvert_exporter": "python",
   "pygments_lexer": "ipython3",
   "version": "3.9.2"
  }
 },
 "nbformat": 4,
 "nbformat_minor": 5
}
