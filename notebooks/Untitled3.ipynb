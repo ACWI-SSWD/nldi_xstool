{
 "cells": [
  {
   "cell_type": "code",
   "execution_count": 1,
   "id": "56bfb663-b1ed-4af2-9ac0-54ca7ada143b",
   "metadata": {},
   "outputs": [],
   "source": [
    "from nldi_xstool.XSGen import XSGen\n",
    "from nldi_xstool.COGridGen import COGridGen\n",
    "from nldi_xstool.ancillary import queryDEMsShape\n",
    "import py3dep\n",
    "from pynhd import NLDI, NHDPlusHR, WaterData\n"
   ]
  },
  {
   "cell_type": "code",
   "execution_count": 2,
   "id": "4452d26e-f0ff-432c-97c8-bbffaf2e3f02",
   "metadata": {},
   "outputs": [],
   "source": [
    "stationid = \"09152500\"\n"
   ]
  },
  {
   "cell_type": "code",
   "execution_count": 3,
   "id": "7c996c37-59a5-4218-813c-1e11c1e3fa6f",
   "metadata": {},
   "outputs": [],
   "source": [
    "flw_up = NLDI().navigate_byid(\n",
    "    fsource=\"nwissite\",\n",
    "    fid=f\"USGS-{stationid}\",\n",
    "    navigation=\"upstreamMain\",\n",
    "    source=\"flowlines\",\n",
    "    distance=2)\n",
    "\n",
    "flw_dwn = NLDI().navigate_byid(\n",
    "    fsource=\"nwissite\",\n",
    "    fid=f\"USGS-{stationid}\",\n",
    "    navigation=\"downstreamMain\",\n",
    "    source=\"flowlines\",\n",
    "    distance=2)"
   ]
  },
  {
   "cell_type": "code",
   "execution_count": 4,
   "id": "0e2071bf-daa5-4eee-83d8-a6f1dab91ad8",
   "metadata": {},
   "outputs": [],
   "source": [
    "flw_tot =flw_up[::-1].reset_index(drop=True).append(flw_dwn[1:])"
   ]
  },
  {
   "cell_type": "code",
   "execution_count": 5,
   "id": "91a7170c-7de8-43a5-adb8-cc42fd1138ce",
   "metadata": {},
   "outputs": [
    {
     "data": {
      "text/html": [
       "<div>\n",
       "<style scoped>\n",
       "    .dataframe tbody tr th:only-of-type {\n",
       "        vertical-align: middle;\n",
       "    }\n",
       "\n",
       "    .dataframe tbody tr th {\n",
       "        vertical-align: top;\n",
       "    }\n",
       "\n",
       "    .dataframe thead th {\n",
       "        text-align: right;\n",
       "    }\n",
       "</style>\n",
       "<table border=\"1\" class=\"dataframe\">\n",
       "  <thead>\n",
       "    <tr style=\"text-align: right;\">\n",
       "      <th></th>\n",
       "      <th>geometry</th>\n",
       "      <th>nhdplus_comid</th>\n",
       "    </tr>\n",
       "  </thead>\n",
       "  <tbody>\n",
       "    <tr>\n",
       "      <th>0</th>\n",
       "      <td>LINESTRING (-108.45700 38.96766, -108.45561 38...</td>\n",
       "      <td>3232581</td>\n",
       "    </tr>\n",
       "    <tr>\n",
       "      <th>1</th>\n",
       "      <td>LINESTRING (-108.45517 38.97181, -108.45443 38...</td>\n",
       "      <td>3232577</td>\n",
       "    </tr>\n",
       "    <tr>\n",
       "      <th>2</th>\n",
       "      <td>LINESTRING (-108.45446 38.97629, -108.45406 38...</td>\n",
       "      <td>3232573</td>\n",
       "    </tr>\n",
       "    <tr>\n",
       "      <th>3</th>\n",
       "      <td>LINESTRING (-108.45378 38.97856, -108.45365 38...</td>\n",
       "      <td>3232569</td>\n",
       "    </tr>\n",
       "    <tr>\n",
       "      <th>1</th>\n",
       "      <td>LINESTRING (-108.45236 38.98708, -108.45351 38...</td>\n",
       "      <td>3232553</td>\n",
       "    </tr>\n",
       "  </tbody>\n",
       "</table>\n",
       "</div>"
      ],
      "text/plain": [
       "                                            geometry nhdplus_comid\n",
       "0  LINESTRING (-108.45700 38.96766, -108.45561 38...       3232581\n",
       "1  LINESTRING (-108.45517 38.97181, -108.45443 38...       3232577\n",
       "2  LINESTRING (-108.45446 38.97629, -108.45406 38...       3232573\n",
       "3  LINESTRING (-108.45378 38.97856, -108.45365 38...       3232569\n",
       "1  LINESTRING (-108.45236 38.98708, -108.45351 38...       3232553"
      ]
     },
     "execution_count": 5,
     "metadata": {},
     "output_type": "execute_result"
    }
   ],
   "source": [
    "flw_tot"
   ]
  },
  {
   "cell_type": "code",
   "execution_count": 6,
   "id": "04e5b1f8-6aa2-4540-a2c2-7ed6d1658910",
   "metadata": {},
   "outputs": [
    {
     "data": {
      "text/plain": [
       "5"
      ]
     },
     "execution_count": 6,
     "metadata": {},
     "output_type": "execute_result"
    }
   ],
   "source": [
    "len(flw_tot)"
   ]
  },
  {
   "cell_type": "code",
   "execution_count": 7,
   "id": "81a7a109-498e-4129-827b-5edd44ac0fad",
   "metadata": {},
   "outputs": [
    {
     "name": "stdout",
     "output_type": "stream",
     "text": [
      "-12075044.650454653 4716039.578198419 -12071716.654702356 4721039.572030521\n",
      "22\n"
     ]
    }
   ],
   "source": [
    "flw_tot.to_crs(\"epsg:3857\", inplace=True)\n",
    "flw_tot.plot()\n",
    "# catchments.to_crs(\"epsg:3857\", inplace=True)\n",
    "# catchments.plot()\n",
    "\n",
    "flw_tot_b = flw_tot.buffer(1000)\n",
    "minx = min(flw_tot_b.geometry.bounds.minx)\n",
    "miny = min(flw_tot_b.geometry.bounds.miny)\n",
    "maxx = max(flw_tot_b.geometry.bounds.maxx)\n",
    "maxy = max(flw_tot_b.geometry.bounds.maxy)\n",
    "print(minx, miny, maxx, maxy)\n",
    "\n",
    "dem = py3dep.get_map( \n",
    "    \"DEM\",\n",
    "    tuple((minx, miny, maxx, maxy)), \n",
    "    resolution=10, \n",
    "    geo_crs=\"epsg:3857\", \n",
    "    crs=\"epsg:3857\")\n",
    "\n",
    "grid = COGridGen(\n",
    "    cl_geom=flw_tot,\n",
    "    nx=20,\n",
    "    ny=30,\n",
    "    width=1000\n",
    ")\n",
    "\n",
    "tmp=0"
   ]
  },
  {
   "cell_type": "code",
   "execution_count": 8,
   "id": "a9fe5e30-d491-4cd1-bc60-74b98c299f5e",
   "metadata": {},
   "outputs": [],
   "source": [
    "dims = grid.getGridDims()"
   ]
  },
  {
   "cell_type": "code",
   "execution_count": 9,
   "id": "e5a1c1f3-fd34-4014-9246-71c3d8b9af76",
   "metadata": {},
   "outputs": [
    {
     "data": {
      "text/plain": [
       "(20, 30)"
      ]
     },
     "execution_count": 9,
     "metadata": {},
     "output_type": "execute_result"
    }
   ],
   "source": [
    "dims"
   ]
  },
  {
   "cell_type": "code",
   "execution_count": 10,
   "id": "048fcd65-9b98-4bd3-960d-fcd492aad64d",
   "metadata": {},
   "outputs": [],
   "source": [
    "values = grid.getXYGrid()"
   ]
  },
  {
   "cell_type": "code",
   "execution_count": 19,
   "id": "d98c4b2f-2009-4a12-b2f7-f1617c1df55e",
   "metadata": {},
   "outputs": [
    {
     "data": {
      "image/png": "[encoded data removed]",
      "text/plain": [
       "<Figure size 640x480 with 1 Axes>"
      ]
     },
     "metadata": {},
     "output_type": "display_data"
    }
   ],
   "source": [
    "import matplotlib.pyplot as plt\n",
    "fig, ax = plt.subplots()\n",
    "ax.set_aspect('equal')\n",
    "ax.scatter(values[0], values[1])\n",
    "\n",
    "plt.show()"
   ]
  },
  {
   "cell_type": "code",
   "execution_count": null,
   "id": "c7cbe0e3-f330-4660-9c7b-50e3ce99f11e",
   "metadata": {},
   "outputs": [],
   "source": []
  },
  {
   "cell_type": "code",
   "execution_count": null,
   "id": "6cfc4958-3023-4076-adb5-d4d0e48ac54b",
   "metadata": {},
   "outputs": [],
   "source": []
  }
 ],
 "metadata": {
  "kernelspec": {
   "display_name": "Python 3",
   "language": "python",
   "name": "python3"
  },
  "language_info": {
   "codemirror_mode": {
    "name": "ipython",
    "version": 3
   },
   "file_extension": ".py",
   "mimetype": "text/x-python",
   "name": "python",
   "nbconvert_exporter": "python",
   "pygments_lexer": "ipython3",
   "version": "3.9.2"
  }
 },
 "nbformat": 4,
 "nbformat_minor": 5
}
