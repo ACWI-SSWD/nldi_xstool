{
 "cells": [
  {
   "cell_type": "code",
   "execution_count": 95,
   "id": "3f9d2c88-a3f6-4a82-847d-7014c13e6de0",
   "metadata": {},
   "outputs": [],
   "source": [
    "import requests\n",
    "import dataretrieval.nwis as nwis\n",
    "import geopandas as gpd"
   ]
  },
  {
   "cell_type": "code",
   "execution_count": 4,
   "id": "c0d074ee-b3d7-40d8-9e36-cd27d94b018c",
   "metadata": {},
   "outputs": [],
   "source": [
    "site=\"07116500\"\n",
    "meas = nwis.get_record(sites=site, service='measurements')\n",
    "si = nwis.get_record(sites=site, service='site')"
   ]
  },
  {
   "cell_type": "code",
   "execution_count": 5,
   "id": "efb42972-d547-4559-9fff-e9bc969131cb",
   "metadata": {},
   "outputs": [
    {
     "data": {
      "text/html": [
       "<div>\n",
       "<style scoped>\n",
       "    .dataframe tbody tr th:only-of-type {\n",
       "        vertical-align: middle;\n",
       "    }\n",
       "\n",
       "    .dataframe tbody tr th {\n",
       "        vertical-align: top;\n",
       "    }\n",
       "\n",
       "    .dataframe thead th {\n",
       "        text-align: right;\n",
       "    }\n",
       "</style>\n",
       "<table border=\"1\" class=\"dataframe\">\n",
       "  <thead>\n",
       "    <tr style=\"text-align: right;\">\n",
       "      <th></th>\n",
       "      <th>agency_cd</th>\n",
       "      <th>site_no</th>\n",
       "      <th>station_nm</th>\n",
       "      <th>site_tp_cd</th>\n",
       "      <th>lat_va</th>\n",
       "      <th>long_va</th>\n",
       "      <th>dec_lat_va</th>\n",
       "      <th>dec_long_va</th>\n",
       "      <th>coord_meth_cd</th>\n",
       "      <th>coord_acy_cd</th>\n",
       "      <th>...</th>\n",
       "      <th>local_time_fg</th>\n",
       "      <th>reliability_cd</th>\n",
       "      <th>gw_file_cd</th>\n",
       "      <th>nat_aqfr_cd</th>\n",
       "      <th>aqfr_cd</th>\n",
       "      <th>aqfr_type_cd</th>\n",
       "      <th>well_depth_va</th>\n",
       "      <th>hole_depth_va</th>\n",
       "      <th>depth_src_cd</th>\n",
       "      <th>project_no</th>\n",
       "    </tr>\n",
       "  </thead>\n",
       "  <tbody>\n",
       "    <tr>\n",
       "      <th>0</th>\n",
       "      <td>USGS</td>\n",
       "      <td>07116500</td>\n",
       "      <td>HUERFANO RIVER NEAR BOONE, CO.</td>\n",
       "      <td>ST</td>\n",
       "      <td>381330</td>\n",
       "      <td>1041537</td>\n",
       "      <td>38.225002</td>\n",
       "      <td>-104.2608</td>\n",
       "      <td>M</td>\n",
       "      <td>F</td>\n",
       "      <td>...</td>\n",
       "      <td>Y</td>\n",
       "      <td>NaN</td>\n",
       "      <td>NYNNNNNN</td>\n",
       "      <td>NaN</td>\n",
       "      <td>NaN</td>\n",
       "      <td>NaN</td>\n",
       "      <td>NaN</td>\n",
       "      <td>NaN</td>\n",
       "      <td>NaN</td>\n",
       "      <td>NaN</td>\n",
       "    </tr>\n",
       "  </tbody>\n",
       "</table>\n",
       "<p>1 rows × 42 columns</p>\n",
       "</div>"
      ],
      "text/plain": [
       "  agency_cd   site_no                      station_nm site_tp_cd  lat_va  \\\n",
       "0      USGS  07116500  HUERFANO RIVER NEAR BOONE, CO.         ST  381330   \n",
       "\n",
       "   long_va  dec_lat_va  dec_long_va coord_meth_cd coord_acy_cd  ...  \\\n",
       "0  1041537   38.225002    -104.2608             M            F  ...   \n",
       "\n",
       "  local_time_fg reliability_cd  gw_file_cd  nat_aqfr_cd  aqfr_cd aqfr_type_cd  \\\n",
       "0             Y            NaN    NYNNNNNN          NaN      NaN          NaN   \n",
       "\n",
       "  well_depth_va  hole_depth_va  depth_src_cd  project_no  \n",
       "0           NaN            NaN           NaN         NaN  \n",
       "\n",
       "[1 rows x 42 columns]"
      ]
     },
     "execution_count": 5,
     "metadata": {},
     "output_type": "execute_result"
    }
   ],
   "source": [
    "si"
   ]
  },
  {
   "cell_type": "code",
   "execution_count": 38,
   "id": "e4d5e616-6e5e-4b7c-a2ff-3a6ba2f69644",
   "metadata": {},
   "outputs": [
    {
     "name": "stdout",
     "output_type": "stream",
     "text": [
      "attribute: agency_cd, value: USGS\n",
      "attribute: site_no, value: 07116500\n",
      "attribute: station_nm, value: HUERFANO RIVER NEAR BOONE, CO.\n",
      "attribute: site_tp_cd, value: ST\n",
      "attribute: lat_va, value: 381330\n",
      "attribute: long_va, value: 1041537\n",
      "attribute: dec_lat_va, value: 38.2250024\n",
      "attribute: dec_long_va, value: -104.2607996\n",
      "attribute: coord_meth_cd, value: M\n",
      "attribute: coord_acy_cd, value: F\n",
      "attribute: coord_datum_cd, value: NAD27\n",
      "attribute: dec_coord_datum_cd, value: NAD83\n",
      "attribute: district_cd, value: 8\n",
      "attribute: state_cd, value: 8\n",
      "attribute: county_cd, value: 101\n",
      "attribute: country_cd, value: US\n",
      "attribute: land_net_ds, value:   NENES18 T021S R061W\n",
      "attribute: map_nm, value: nan\n",
      "attribute: map_scale_fc, value: nan\n",
      "attribute: alt_va, value: 4443.74\n",
      "attribute: alt_meth_cd, value: U\n",
      "attribute: alt_acy_va, value: 15\n",
      "attribute: alt_datum_cd, value: NGVD29\n",
      "attribute: huc_cd, value: 11020006\n",
      "attribute: basin_cd, value: nan\n",
      "attribute: topo_cd, value: nan\n",
      "attribute: instruments_cd, value: NNNNYNNNNNNNNNNNNNNNNNNNNNNNNN\n",
      "attribute: construction_dt, value: nan\n",
      "attribute: inventory_dt, value: nan\n",
      "attribute: drain_area_va, value: 1859\n",
      "attribute: contrib_drain_area_va, value: nan\n",
      "attribute: tz_cd, value: MST\n",
      "attribute: local_time_fg, value: Y\n",
      "attribute: reliability_cd, value: nan\n",
      "attribute: gw_file_cd, value: NYNNNNNN\n",
      "attribute: nat_aqfr_cd, value: nan\n",
      "attribute: aqfr_cd, value: nan\n",
      "attribute: aqfr_type_cd, value: nan\n",
      "attribute: well_depth_va, value: nan\n",
      "attribute: hole_depth_va, value: nan\n",
      "attribute: depth_src_cd, value: nan\n",
      "attribute: project_no, value: nan\n"
     ]
    }
   ],
   "source": [
    "for col in si:\n",
    "    print(f'attribute: {col}, value: {si[col].values[0]}')\n",
    "#     if col in ['alt_va', 'alt_meth_cd', 'alt_acy_va', 'alt_datum_cd']:\n",
    "#         print(f'attribute: {col}, value: {si[col].values[0]}')"
   ]
  },
  {
   "cell_type": "code",
   "execution_count": 35,
   "id": "803e72fa-6ede-4381-9645-65528d50fb5b",
   "metadata": {},
   "outputs": [
    {
     "data": {
      "text/plain": [
       "'N381330'"
      ]
     },
     "execution_count": 35,
     "metadata": {},
     "output_type": "execute_result"
    }
   ],
   "source": [
    "latstr = 'lat_va'\n",
    "str = f'N{si[latstr].values[0]}'\n",
    "str"
   ]
  },
  {
   "cell_type": "code",
   "execution_count": 69,
   "id": "7ffb9518-0065-45a4-9392-5753dbb39e23",
   "metadata": {},
   "outputs": [],
   "source": [
    "url = \"https://www.ngs.noaa.gov/api/ncat/llh\"\n",
    "lat_str = 'lat_va'\n",
    "lon_str = 'long_va'\n",
    "alt_str = 'alt_va'\n",
    "indatum_str = 'coord_datum_cd'\n",
    "outdatum_str = 'NAD83(2011)'\n",
    "inVertDataum_str = 'NGVD29'\n",
    "outVertDataum = 'NAVD88'\n",
    "\n",
    "ohgt = float(si[alt_str].values[0])*.3048\n",
    "repr(ohgt)\n",
    "# print(lat=f'N{si[latstr].values[0]}'\n",
    "payload = {\n",
    "    'lat':f'N{si[latstr].values[0]}',\n",
    "    'lon':f'W{si[lon_str].values[0]}',\n",
    "    'orthoHt': repr(ohgt),\n",
    "    'inDatum':f'{si[indatum_str].values[0]}',\n",
    "    'outDatum':outdatum_str,\n",
    "    'inVertDatum':inVertDataum_str,\n",
    "    'outVertDatum':outVertDataum \n",
    "}"
   ]
  },
  {
   "cell_type": "code",
   "execution_count": 70,
   "id": "25093c8a-968f-4b9d-9943-63963c72eb00",
   "metadata": {},
   "outputs": [
    {
     "data": {
      "text/plain": [
       "{'lat': 'N381330',\n",
       " 'lon': 'W1041537',\n",
       " 'orthoHt': '1354.451952',\n",
       " 'inDatum': 'NAD27',\n",
       " 'outDatum': 'NAD83(2011)',\n",
       " 'inVertDatum': 'NGVD29',\n",
       " 'outVertDatum': 'NAVD88'}"
      ]
     },
     "execution_count": 70,
     "metadata": {},
     "output_type": "execute_result"
    }
   ],
   "source": [
    "payload"
   ]
  },
  {
   "cell_type": "code",
   "execution_count": 80,
   "id": "8dd42a03-19b1-49b0-a466-50165118d8fd",
   "metadata": {},
   "outputs": [
    {
     "name": "stdout",
     "output_type": "stream",
     "text": [
      "{'ID': '1620693787140', 'nadconVersion': '5.0', 'vertconVersion': '3.0', 'srcDatum': 'NAD27', 'destDatum': 'NAD83(2011)', 'srcVertDatum': 'NGVD29', 'destVertDatum': 'NAVD88', 'srcLat': '38.2250000000', 'srcLatDms': 'N381330.00000', 'destLat': '38.2250061349', 'destLatDms': 'N381330.02209', 'deltaLat': '0.681', 'sigLat': '0.002757', 'sigLat_m': '0.0850', 'srcLon': '-104.2602777778', 'srcLonDms': 'W1041537.00000', 'destLon': '-104.2608026762', 'destLonDms': 'W1041538.88963', 'deltaLon': '-45.962', 'sigLon': '0.003251', 'sigLon_m': '0.0791', 'srcEht': 'N/A', 'destEht': 'N/A', 'sigEht': 'N/A', 'srcOrthoht': '1354.452', 'destOrthoht': '1355.236', 'sigOrthoht': '0.002', 'spcZone': 'CO S-0503', 'spcNorthing_m': '478,474.027', 'spcEasting_m': '1,022,903.594', 'spcNorthing_usft': '1,569,793.537', 'spcEasting_usft': '3,355,976.210', 'spcNorthing_ift': '1,569,796.676', 'spcEasting_ift': '3,355,982.921', 'spcConvergence': '00 45 36.35', 'spcScaleFactor': '0.99996861', 'spcCombinedFactor': 'N/A', 'utmZone': 'UTM Zone 13', 'utmNorthing': '4,231,038.653', 'utmEasting': '564,701.179', 'utmConvergence': '00 27 26.62', 'utmScaleFactor': '0.99965156', 'utmCombinedFactor': 'N/A', 'x': 'N/A', 'y': 'N/A', 'z': 'N/A', 'usng': '13SEC6470131038'}\n"
     ]
    }
   ],
   "source": [
    "r = requests.get(url, params=payload)\n",
    "resp = r.json()\n",
    "print(resp)"
   ]
  },
  {
   "cell_type": "code",
   "execution_count": 77,
   "id": "df94a7c5-aa89-4e15-a02b-654c07c4bf80",
   "metadata": {},
   "outputs": [
    {
     "data": {
      "text/plain": [
       "1355.236"
      ]
     },
     "execution_count": 77,
     "metadata": {},
     "output_type": "execute_result"
    }
   ],
   "source": [
    "float(resp['destOrthoht'])"
   ]
  },
  {
   "cell_type": "code",
   "execution_count": 68,
   "id": "59d7b740-98b7-419e-b274-5ea3aaf2577e",
   "metadata": {},
   "outputs": [
    {
     "data": {
      "text/plain": [
       "<Response [200]>"
      ]
     },
     "execution_count": 68,
     "metadata": {},
     "output_type": "execute_result"
    }
   ],
   "source": [
    "r"
   ]
  },
  {
   "cell_type": "code",
   "execution_count": 102,
   "id": "d704987b-e60f-40a2-9b0d-250ab3eb24b4",
   "metadata": {},
   "outputs": [
    {
     "ename": "NameError",
     "evalue": "name 'false' is not defined",
     "output_type": "error",
     "traceback": [
      "\u001b[0;31m---------------------------------------------------------------------------\u001b[0m",
      "\u001b[0;31mNameError\u001b[0m                                 Traceback (most recent call last)",
      "\u001b[0;32m<ipython-input-102-47f725afbd49>\u001b[0m in \u001b[0;36m<module>\u001b[0;34m\u001b[0m\n\u001b[0;32m----> 1\u001b[0;31m \u001b[0;32mdef\u001b[0m \u001b[0mgetGageDatum\u001b[0m\u001b[0;34m(\u001b[0m\u001b[0mgagenum\u001b[0m\u001b[0;34m,\u001b[0m \u001b[0mverbose\u001b[0m\u001b[0;34m=\u001b[0m\u001b[0mfalse\u001b[0m\u001b[0;34m)\u001b[0m\u001b[0;34m:\u001b[0m\u001b[0;34m\u001b[0m\u001b[0;34m\u001b[0m\u001b[0m\n\u001b[0m\u001b[1;32m      2\u001b[0m     \u001b[0msi\u001b[0m \u001b[0;34m=\u001b[0m \u001b[0mnwis\u001b[0m\u001b[0;34m.\u001b[0m\u001b[0mget_record\u001b[0m\u001b[0;34m(\u001b[0m\u001b[0msites\u001b[0m\u001b[0;34m=\u001b[0m\u001b[0mgagenum\u001b[0m\u001b[0;34m,\u001b[0m \u001b[0mservice\u001b[0m\u001b[0;34m=\u001b[0m\u001b[0;34m'site'\u001b[0m\u001b[0;34m)\u001b[0m\u001b[0;34m\u001b[0m\u001b[0;34m\u001b[0m\u001b[0m\n\u001b[1;32m      3\u001b[0m     \u001b[0;32mif\u001b[0m \u001b[0msi\u001b[0m\u001b[0;34m[\u001b[0m\u001b[0;34m'alt_datum_cd'\u001b[0m\u001b[0;34m]\u001b[0m\u001b[0;34m.\u001b[0m\u001b[0mvalues\u001b[0m\u001b[0;34m[\u001b[0m\u001b[0;36m0\u001b[0m\u001b[0;34m]\u001b[0m \u001b[0;34m==\u001b[0m \u001b[0;34m'NGVD29'\u001b[0m\u001b[0;34m:\u001b[0m\u001b[0;34m\u001b[0m\u001b[0;34m\u001b[0m\u001b[0m\n\u001b[1;32m      4\u001b[0m \u001b[0;31m#         print('conversion')\u001b[0m\u001b[0;34m\u001b[0m\u001b[0;34m\u001b[0m\u001b[0;34m\u001b[0m\u001b[0m\n\u001b[1;32m      5\u001b[0m         \u001b[0murl\u001b[0m \u001b[0;34m=\u001b[0m \u001b[0;34m\"https://www.ngs.noaa.gov/api/ncat/llh\"\u001b[0m\u001b[0;34m\u001b[0m\u001b[0;34m\u001b[0m\u001b[0m\n",
      "\u001b[0;31mNameError\u001b[0m: name 'false' is not defined"
     ]
    }
   ],
   "source": [
    "def getGageDatum(gagenum, verbose=false):\n",
    "    si = nwis.get_record(sites=gagenum, service='site')\n",
    "    if si['alt_datum_cd'].values[0] == 'NGVD29':\n",
    "#         print('conversion')\n",
    "        url = \"https://www.ngs.noaa.gov/api/ncat/llh\"\n",
    "        lat_str = 'lat_va'\n",
    "        lon_str = 'long_va'\n",
    "        alt_str = 'alt_va'\n",
    "        indatum_str = 'coord_datum_cd'\n",
    "        outdatum_str = 'NAD83(2011)'\n",
    "        inVertDataum_str = 'NGVD29'\n",
    "        outVertDataum = 'NAVD88'\n",
    "        if f'{si[indatum_str].values[0]}' == 'NAD83':\n",
    "            indatum = 'NAD83(2011)'\n",
    "        else:\n",
    "            indatum = f'{si[indatum_str].values[0]}'\n",
    "\n",
    "        ohgt = float(si[alt_str].values[0])*.3048\n",
    "        repr(ohgt)\n",
    "        # print(lat=f'N{si[latstr].values[0]}'\n",
    "        payload = {\n",
    "            'lat':f'N{si[latstr].values[0]}',\n",
    "            'lon':f'W{si[lon_str].values[0]}',\n",
    "            'orthoHt': repr(ohgt),\n",
    "            'inDatum':indatum,\n",
    "            'outDatum':outdatum_str,\n",
    "            'inVertDatum':inVertDataum_str,\n",
    "            'outVertDatum':outVertDataum \n",
    "        }\n",
    "        r = requests.get(url, params=payload)\n",
    "        resp = r.json()\n",
    "        if verbose:\n",
    "            print(f'{si[indatum_str].values[0]}')\n",
    "            print(resp)\n",
    "        return float(resp['destOrthoht'])\n",
    "    else:\n",
    "#         print('non-conversion')\n",
    "        return si['alt_va'].values[0]*.3048"
   ]
  },
  {
   "cell_type": "code",
   "execution_count": 105,
   "id": "2e4f4871-c907-4f17-94d4-e2f0cb5c362f",
   "metadata": {},
   "outputs": [
    {
     "name": "stdout",
     "output_type": "stream",
     "text": [
      "conversion\n",
      "NAD27\n",
      "{'ID': '1620758734361', 'nadconVersion': '5.0', 'vertconVersion': '3.0', 'srcDatum': 'NAD27', 'destDatum': 'NAD83(2011)', 'srcVertDatum': 'NGVD29', 'destVertDatum': 'NAVD88', 'srcLat': '38.0136111111', 'srcLatDms': 'N380049.00000', 'destLat': '38.0136163999', 'destLatDms': 'N380049.01904', 'deltaLat': '0.587', 'sigLat': '0.003769', 'sigLat_m': '0.1162', 'srcLon': '-105.6922222222', 'srcLonDms': 'W1054132.00000', 'destLon': '-105.6927946683', 'destLonDms': 'W1054134.06081', 'deltaLon': '-50.270', 'sigLon': '0.012895', 'sigLon_m': '0.3146', 'srcEht': 'N/A', 'destEht': 'N/A', 'sigEht': 'N/A', 'srcOrthoht': '2548.128', 'destOrthoht': '2549.521', 'sigOrthoht': '0.028', 'spcZone': 'CO S-0503', 'spcNorthing_m': '454,308.770', 'spcEasting_m': '897,472.184', 'spcNorthing_usft': '1,490,511.356', 'spcEasting_usft': '2,944,456.657', 'spcNorthing_ift': '1,490,514.337', 'spcEasting_ift': '2,944,462.546', 'spcConvergence': '-00 07 05.72', 'spcScaleFactor': '0.99995029', 'spcCombinedFactor': 'N/A', 'utmZone': 'UTM Zone 13', 'utmNorthing': '4,207,552.226', 'utmEasting': '439,185.366', 'utmConvergence': '-00 25 36.01', 'utmScaleFactor': '0.99964555', 'utmCombinedFactor': 'N/A', 'x': 'N/A', 'y': 'N/A', 'z': 'N/A', 'usng': '13SDC3918507552'}\n",
      "2549.521\n",
      "conversion\n",
      "NAD27\n",
      "{'ID': '1620758735107', 'nadconVersion': '5.0', 'vertconVersion': '3.0', 'srcDatum': 'NAD27', 'destDatum': 'NAD83(2011)', 'srcVertDatum': 'NGVD29', 'destVertDatum': 'NAVD88', 'srcLat': '39.3558333333', 'srcLatDms': 'N392121.00000', 'destLat': '39.3558240982', 'destLatDms': 'N392120.96675', 'deltaLat': '-1.025', 'sigLat': '0.002014', 'sigLat_m': '0.0621', 'srcLon': '-104.7627777778', 'srcLonDms': 'W1044546.00000', 'destLon': '-104.7633096293', 'destLonDms': 'W1044547.91467', 'deltaLon': '-45.841', 'sigLon': '0.004110', 'sigLon_m': '0.0984', 'srcEht': 'N/A', 'destEht': 'N/A', 'sigEht': 'N/A', 'srcOrthoht': '1874.520', 'destOrthoht': '1875.557', 'sigOrthoht': '0.009', 'spcZone': 'CO C-0502', 'spcNorthing_m': '474,066.997', 'spcEasting_m': '977,893.660', 'spcNorthing_usft': '1,555,334.807', 'spcEasting_usft': '3,208,306.115', 'spcNorthing_ift': '1,555,337.918', 'spcEasting_ift': '3,208,312.532', 'spcConvergence': '00 27 52.64', 'spcScaleFactor': '0.99994577', 'spcCombinedFactor': 'N/A', 'utmZone': 'UTM Zone 13', 'utmNorthing': '4,356,290.685', 'utmEasting': '520,392.396', 'utmConvergence': '00 09 00.34', 'utmScaleFactor': '0.99960512', 'utmCombinedFactor': 'N/A', 'x': 'N/A', 'y': 'N/A', 'z': 'N/A', 'usng': '13SED2039256290'}\n",
      "1875.557\n",
      "conversion\n",
      "NAD83\n",
      "{'ID': '1620758737206', 'nadconVersion': '5.0', 'vertconVersion': '3.0', 'srcDatum': 'NAD83(2011)', 'destDatum': 'NAD83(2011)', 'srcVertDatum': 'NGVD29', 'destVertDatum': 'NAVD88', 'srcLat': '41.2277777778', 'srcLatDms': 'N411340.00000', 'destLat': '41.2277777778', 'destLatDms': 'N411340.00000', 'deltaLat': '0.000', 'sigLat': '0.000000', 'sigLat_m': '0.0000', 'srcLon': '-103.8930555556', 'srcLonDms': 'W1035335.00000', 'destLon': '-103.8930555556', 'destLonDms': 'W1035335.00000', 'deltaLon': '0.000', 'sigLon': '0.000000', 'sigLon_m': '0.0000', 'srcEht': 'N/A', 'destEht': 'N/A', 'sigEht': 'N/A', 'srcOrthoht': '1476.241', 'destOrthoht': '1476.981', 'sigOrthoht': '0.002', 'spcZone': 'NE-2600', 'spcNorthing_m': '162,164.195', 'spcEasting_m': '173,805.120', 'spcNorthing_usft': '532,033.698', 'spcEasting_usft': '570,225.631', 'spcNorthing_ift': '532,034.762', 'spcEasting_ift': '570,226.771', 'spcConvergence': '-02 34 47.70', 'spcScaleFactor': '0.99967031', 'spcCombinedFactor': 'N/A', 'utmZone': 'UTM Zone 13', 'utmNorthing': '4,564,633.742', 'utmEasting': '592,775.262', 'utmConvergence': '00 43 46.52', 'utmScaleFactor': '0.99970593', 'utmCombinedFactor': 'N/A', 'x': 'N/A', 'y': 'N/A', 'z': 'N/A', 'usng': '13TEF9277564633'}\n",
      "1476.981\n",
      "conversion\n",
      "NAD83\n",
      "{'ID': '1620758737912', 'nadconVersion': '5.0', 'vertconVersion': '3.0', 'srcDatum': 'NAD83(2011)', 'destDatum': 'NAD83(2011)', 'srcVertDatum': 'NGVD29', 'destVertDatum': 'NAVD88', 'srcLat': '38.2201111111', 'srcLatDms': 'N381312.40000', 'destLat': '38.2201111111', 'destLatDms': 'N381312.40000', 'deltaLat': '0.000', 'sigLat': '0.000000', 'sigLat_m': '0.0000', 'srcLon': '-104.5359722222', 'srcLonDms': 'W1043209.50000', 'destLon': '-104.5359722222', 'destLonDms': 'W1043209.50000', 'deltaLon': '0.000', 'sigLon': '0.000000', 'sigLon_m': '0.0000', 'srcEht': 'N/A', 'destEht': 'N/A', 'sigEht': 'N/A', 'srcOrthoht': '1450.848', 'destOrthoht': '1451.677', 'sigOrthoht': '0.003', 'spcZone': 'CO S-0503', 'spcNorthing_m': '477,646.581', 'spcEasting_m': '998,816.856', 'spcNorthing_usft': '1,567,078.825', 'spcEasting_usft': '3,276,951.635', 'spcNorthing_ift': '1,567,081.959', 'spcEasting_ift': '3,276,958.189', 'spcConvergence': '00 35 28.73', 'spcScaleFactor': '0.99996803', 'spcCombinedFactor': 'N/A', 'utmZone': 'UTM Zone 13', 'utmNorthing': '4,230,339.026', 'utmEasting': '540,618.433', 'utmConvergence': '00 17 13.53', 'utmScaleFactor': '0.99962032', 'utmCombinedFactor': 'N/A', 'x': 'N/A', 'y': 'N/A', 'z': 'N/A', 'usng': '13SEC4061830339'}\n",
      "1451.677\n",
      "conversion\n",
      "NAD83\n",
      "{'error': 'Invalid longitude'}\n"
     ]
    },
    {
     "ename": "KeyError",
     "evalue": "'destOrthoht'",
     "output_type": "error",
     "traceback": [
      "\u001b[0;31m---------------------------------------------------------------------------\u001b[0m",
      "\u001b[0;31mKeyError\u001b[0m                                  Traceback (most recent call last)",
      "\u001b[0;32m<ipython-input-105-9d16578622ad>\u001b[0m in \u001b[0;36m<module>\u001b[0;34m\u001b[0m\n\u001b[1;32m      1\u001b[0m \u001b[0mgages\u001b[0m \u001b[0;34m=\u001b[0m \u001b[0;34m[\u001b[0m\u001b[0;34m'08227500'\u001b[0m\u001b[0;34m,\u001b[0m \u001b[0;34m'06712000'\u001b[0m\u001b[0;34m,\u001b[0m \u001b[0;34m'06762500'\u001b[0m\u001b[0;34m,\u001b[0m \u001b[0;34m'381312104321001'\u001b[0m\u001b[0;34m,\u001b[0m \u001b[0;34m'01011000'\u001b[0m \u001b[0;34m]\u001b[0m\u001b[0;34m\u001b[0m\u001b[0;34m\u001b[0m\u001b[0m\n\u001b[1;32m      2\u001b[0m \u001b[0;32mfor\u001b[0m \u001b[0mgage\u001b[0m \u001b[0;32min\u001b[0m \u001b[0mgages\u001b[0m\u001b[0;34m:\u001b[0m\u001b[0;34m\u001b[0m\u001b[0;34m\u001b[0m\u001b[0m\n\u001b[0;32m----> 3\u001b[0;31m     \u001b[0mprint\u001b[0m\u001b[0;34m(\u001b[0m\u001b[0mgetGageDatum\u001b[0m\u001b[0;34m(\u001b[0m\u001b[0mgage\u001b[0m\u001b[0;34m)\u001b[0m\u001b[0;34m)\u001b[0m\u001b[0;34m\u001b[0m\u001b[0;34m\u001b[0m\u001b[0m\n\u001b[0m",
      "\u001b[0;32m<ipython-input-93-c9a2f5a1c0fc>\u001b[0m in \u001b[0;36mgetGageDatum\u001b[0;34m(gagenum)\u001b[0m\n\u001b[1;32m     32\u001b[0m         \u001b[0mprint\u001b[0m\u001b[0;34m(\u001b[0m\u001b[0;34mf'{si[indatum_str].values[0]}'\u001b[0m\u001b[0;34m)\u001b[0m\u001b[0;34m\u001b[0m\u001b[0;34m\u001b[0m\u001b[0m\n\u001b[1;32m     33\u001b[0m         \u001b[0mprint\u001b[0m\u001b[0;34m(\u001b[0m\u001b[0mresp\u001b[0m\u001b[0;34m)\u001b[0m\u001b[0;34m\u001b[0m\u001b[0;34m\u001b[0m\u001b[0m\n\u001b[0;32m---> 34\u001b[0;31m         \u001b[0;32mreturn\u001b[0m \u001b[0mfloat\u001b[0m\u001b[0;34m(\u001b[0m\u001b[0mresp\u001b[0m\u001b[0;34m[\u001b[0m\u001b[0;34m'destOrthoht'\u001b[0m\u001b[0;34m]\u001b[0m\u001b[0;34m)\u001b[0m\u001b[0;34m\u001b[0m\u001b[0;34m\u001b[0m\u001b[0m\n\u001b[0m\u001b[1;32m     35\u001b[0m     \u001b[0;32melse\u001b[0m\u001b[0;34m:\u001b[0m\u001b[0;34m\u001b[0m\u001b[0;34m\u001b[0m\u001b[0m\n\u001b[1;32m     36\u001b[0m         \u001b[0;32mreturn\u001b[0m \u001b[0msi\u001b[0m\u001b[0;34m[\u001b[0m\u001b[0;34m'alt_va'\u001b[0m\u001b[0;34m]\u001b[0m\u001b[0;34m.\u001b[0m\u001b[0mvalues\u001b[0m\u001b[0;34m[\u001b[0m\u001b[0;36m0\u001b[0m\u001b[0;34m]\u001b[0m\u001b[0;34m*\u001b[0m\u001b[0;36m.3048\u001b[0m\u001b[0;34m\u001b[0m\u001b[0;34m\u001b[0m\u001b[0m\n",
      "\u001b[0;31mKeyError\u001b[0m: 'destOrthoht'"
     ]
    }
   ],
   "source": [
    "gages = ['08227500', '06712000', '06762500', '381312104321001', '01011000' ]\n",
    "for gage in gages:\n",
    "    print(getGageDatum(gage))"
   ]
  },
  {
   "cell_type": "code",
   "execution_count": 106,
   "id": "049c6751-8d92-4789-86b5-293e570cca80",
   "metadata": {},
   "outputs": [
    {
     "name": "stdout",
     "output_type": "stream",
     "text": [
      "  agency_cd   site_no                           station_nm site_tp_cd  lat_va  \\\n",
      "0      USGS  01011000  Allagash River near Allagash, Maine         ST  470411   \n",
      "\n",
      "   long_va  dec_lat_va  dec_long_va coord_meth_cd coord_acy_cd  ...  \\\n",
      "0   690446   47.069722   -69.079444             N            S  ...   \n",
      "\n",
      "  local_time_fg reliability_cd  gw_file_cd  nat_aqfr_cd  aqfr_cd aqfr_type_cd  \\\n",
      "0             Y            NaN    NNNNNNNN          NaN      NaN          NaN   \n",
      "\n",
      "   well_depth_va hole_depth_va  depth_src_cd  project_no  \n",
      "0            NaN           NaN           NaN   442300100  \n",
      "\n",
      "[1 rows x 42 columns]\n"
     ]
    }
   ],
   "source": [
    "site=\"01011000\"\n",
    "meas = nwis.get_record(sites=site, service='measurements')\n",
    "si = nwis.get_record(sites=site, service='site')\n",
    "print(si)"
   ]
  },
  {
   "cell_type": "code",
   "execution_count": 97,
   "id": "b5394359-a26d-4143-93f7-6143ffe9c181",
   "metadata": {},
   "outputs": [],
   "source": [
    "gages_2_f = '../data/gagesII_9322_point_shapefile/gagesII_9322_sept30_2011.shp'\n",
    "gages2 = gpd.read_file(gages_2_f)"
   ]
  },
  {
   "cell_type": "code",
   "execution_count": 98,
   "id": "d1ceceac-101c-4841-b71a-87758185ac28",
   "metadata": {},
   "outputs": [
    {
     "data": {
      "text/html": [
       "<div>\n",
       "<style scoped>\n",
       "    .dataframe tbody tr th:only-of-type {\n",
       "        vertical-align: middle;\n",
       "    }\n",
       "\n",
       "    .dataframe tbody tr th {\n",
       "        vertical-align: top;\n",
       "    }\n",
       "\n",
       "    .dataframe thead th {\n",
       "        text-align: right;\n",
       "    }\n",
       "</style>\n",
       "<table border=\"1\" class=\"dataframe\">\n",
       "  <thead>\n",
       "    <tr style=\"text-align: right;\">\n",
       "      <th></th>\n",
       "      <th>STAID</th>\n",
       "      <th>STANAME</th>\n",
       "      <th>CLASS</th>\n",
       "      <th>AGGECOREGI</th>\n",
       "      <th>DRAIN_SQKM</th>\n",
       "      <th>HUC02</th>\n",
       "      <th>LAT_GAGE</th>\n",
       "      <th>LNG_GAGE</th>\n",
       "      <th>STATE</th>\n",
       "      <th>HCDN_2009</th>\n",
       "      <th>ACTIVE09</th>\n",
       "      <th>FLYRS1900</th>\n",
       "      <th>FLYRS1950</th>\n",
       "      <th>FLYRS1990</th>\n",
       "      <th>geometry</th>\n",
       "    </tr>\n",
       "  </thead>\n",
       "  <tbody>\n",
       "    <tr>\n",
       "      <th>0</th>\n",
       "      <td>01011000</td>\n",
       "      <td>Allagash River near Allagash, Maine</td>\n",
       "      <td>Non-ref</td>\n",
       "      <td>NorthEast</td>\n",
       "      <td>3186.84400</td>\n",
       "      <td>01</td>\n",
       "      <td>47.069611</td>\n",
       "      <td>-69.079544</td>\n",
       "      <td>ME</td>\n",
       "      <td>None</td>\n",
       "      <td>yes</td>\n",
       "      <td>78.0</td>\n",
       "      <td>60.0</td>\n",
       "      <td>20.0</td>\n",
       "      <td>POINT (2027371.849 2964479.789)</td>\n",
       "    </tr>\n",
       "    <tr>\n",
       "      <th>1</th>\n",
       "      <td>01013500</td>\n",
       "      <td>Fish River near Fort Kent, Maine</td>\n",
       "      <td>Ref</td>\n",
       "      <td>NorthEast</td>\n",
       "      <td>2252.69600</td>\n",
       "      <td>01</td>\n",
       "      <td>47.237394</td>\n",
       "      <td>-68.582642</td>\n",
       "      <td>ME</td>\n",
       "      <td>yes</td>\n",
       "      <td>yes</td>\n",
       "      <td>85.0</td>\n",
       "      <td>60.0</td>\n",
       "      <td>20.0</td>\n",
       "      <td>POINT (2058479.303 2992966.016)</td>\n",
       "    </tr>\n",
       "    <tr>\n",
       "      <th>2</th>\n",
       "      <td>01015800</td>\n",
       "      <td>Aroostook River near Masardis, Maine</td>\n",
       "      <td>Non-ref</td>\n",
       "      <td>NorthEast</td>\n",
       "      <td>2313.75500</td>\n",
       "      <td>01</td>\n",
       "      <td>46.523003</td>\n",
       "      <td>-68.371764</td>\n",
       "      <td>ME</td>\n",
       "      <td>None</td>\n",
       "      <td>yes</td>\n",
       "      <td>51.0</td>\n",
       "      <td>51.0</td>\n",
       "      <td>19.0</td>\n",
       "      <td>POINT (2096533.991 2921785.543)</td>\n",
       "    </tr>\n",
       "    <tr>\n",
       "      <th>3</th>\n",
       "      <td>01016500</td>\n",
       "      <td>MACHIAS RIVER NEAR ASHLAND, ME</td>\n",
       "      <td>Non-ref</td>\n",
       "      <td>NorthEast</td>\n",
       "      <td>847.77210</td>\n",
       "      <td>01</td>\n",
       "      <td>46.628311</td>\n",
       "      <td>-68.434792</td>\n",
       "      <td>ME</td>\n",
       "      <td>None</td>\n",
       "      <td>None</td>\n",
       "      <td>32.0</td>\n",
       "      <td>32.0</td>\n",
       "      <td>0.0</td>\n",
       "      <td>POINT (2088548.849 2931578.094)</td>\n",
       "    </tr>\n",
       "    <tr>\n",
       "      <th>4</th>\n",
       "      <td>01017000</td>\n",
       "      <td>Aroostook River at Washburn, Maine</td>\n",
       "      <td>Non-ref</td>\n",
       "      <td>NorthEast</td>\n",
       "      <td>4278.90700</td>\n",
       "      <td>01</td>\n",
       "      <td>46.777294</td>\n",
       "      <td>-68.157194</td>\n",
       "      <td>ME</td>\n",
       "      <td>None</td>\n",
       "      <td>yes</td>\n",
       "      <td>79.0</td>\n",
       "      <td>60.0</td>\n",
       "      <td>20.0</td>\n",
       "      <td>POINT (2104213.711 2953507.477)</td>\n",
       "    </tr>\n",
       "    <tr>\n",
       "      <th>...</th>\n",
       "      <td>...</td>\n",
       "      <td>...</td>\n",
       "      <td>...</td>\n",
       "      <td>...</td>\n",
       "      <td>...</td>\n",
       "      <td>...</td>\n",
       "      <td>...</td>\n",
       "      <td>...</td>\n",
       "      <td>...</td>\n",
       "      <td>...</td>\n",
       "      <td>...</td>\n",
       "      <td>...</td>\n",
       "      <td>...</td>\n",
       "      <td>...</td>\n",
       "      <td>...</td>\n",
       "    </tr>\n",
       "    <tr>\n",
       "      <th>9317</th>\n",
       "      <td>50141000</td>\n",
       "      <td>RIO BLANCO NR ADJUNTAS, PR</td>\n",
       "      <td>Ref</td>\n",
       "      <td>PuertoRico</td>\n",
       "      <td>39.33948</td>\n",
       "      <td>21</td>\n",
       "      <td>18.203290</td>\n",
       "      <td>-66.799898</td>\n",
       "      <td>PR</td>\n",
       "      <td>None</td>\n",
       "      <td>None</td>\n",
       "      <td>24.0</td>\n",
       "      <td>21.0</td>\n",
       "      <td>0.0</td>\n",
       "      <td>POINT (3159158.234 -27083.994)</td>\n",
       "    </tr>\n",
       "    <tr>\n",
       "      <th>9318</th>\n",
       "      <td>50144000</td>\n",
       "      <td>RIO GRANDE DE ANASCO NR SAN SEBASTIAN, PR</td>\n",
       "      <td>Non-ref</td>\n",
       "      <td>PuertoRico</td>\n",
       "      <td>347.29680</td>\n",
       "      <td>21</td>\n",
       "      <td>18.282730</td>\n",
       "      <td>-67.051012</td>\n",
       "      <td>PR</td>\n",
       "      <td>None</td>\n",
       "      <td>yes</td>\n",
       "      <td>45.0</td>\n",
       "      <td>45.0</td>\n",
       "      <td>19.0</td>\n",
       "      <td>POINT (3130300.977 -27322.701)</td>\n",
       "    </tr>\n",
       "    <tr>\n",
       "      <th>9319</th>\n",
       "      <td>50145395</td>\n",
       "      <td>RIO CASEI ABV HACIENDA CASEI, PR</td>\n",
       "      <td>Ref</td>\n",
       "      <td>PuertoRico</td>\n",
       "      <td>19.31340</td>\n",
       "      <td>21</td>\n",
       "      <td>18.248287</td>\n",
       "      <td>-67.075179</td>\n",
       "      <td>PR</td>\n",
       "      <td>None</td>\n",
       "      <td>yes</td>\n",
       "      <td>5.0</td>\n",
       "      <td>5.0</td>\n",
       "      <td>5.0</td>\n",
       "      <td>POINT (3128868.889 -31619.830)</td>\n",
       "    </tr>\n",
       "    <tr>\n",
       "      <th>9320</th>\n",
       "      <td>50147800</td>\n",
       "      <td>RIO CULEBRINAS AT HWY 404 NR MOCA, PR</td>\n",
       "      <td>Non-ref</td>\n",
       "      <td>PuertoRico</td>\n",
       "      <td>182.70720</td>\n",
       "      <td>21</td>\n",
       "      <td>18.359670</td>\n",
       "      <td>-67.092124</td>\n",
       "      <td>PR</td>\n",
       "      <td>None</td>\n",
       "      <td>yes</td>\n",
       "      <td>42.0</td>\n",
       "      <td>42.0</td>\n",
       "      <td>20.0</td>\n",
       "      <td>POINT (3123537.324 -20851.868)</td>\n",
       "    </tr>\n",
       "    <tr>\n",
       "      <th>9321</th>\n",
       "      <td>50148890</td>\n",
       "      <td>RIO CULEBRINAS AT MARGARITA DAMSITE NR AGUADA, PR</td>\n",
       "      <td>Non-ref</td>\n",
       "      <td>PuertoRico</td>\n",
       "      <td>245.51000</td>\n",
       "      <td>21</td>\n",
       "      <td>18.392447</td>\n",
       "      <td>-67.150736</td>\n",
       "      <td>PR</td>\n",
       "      <td>None</td>\n",
       "      <td>yes</td>\n",
       "      <td>11.0</td>\n",
       "      <td>11.0</td>\n",
       "      <td>11.0</td>\n",
       "      <td>POINT (3116355.637 -19441.921)</td>\n",
       "    </tr>\n",
       "  </tbody>\n",
       "</table>\n",
       "<p>9322 rows × 15 columns</p>\n",
       "</div>"
      ],
      "text/plain": [
       "         STAID                                            STANAME    CLASS  \\\n",
       "0     01011000                Allagash River near Allagash, Maine  Non-ref   \n",
       "1     01013500                   Fish River near Fort Kent, Maine      Ref   \n",
       "2     01015800               Aroostook River near Masardis, Maine  Non-ref   \n",
       "3     01016500                     MACHIAS RIVER NEAR ASHLAND, ME  Non-ref   \n",
       "4     01017000                 Aroostook River at Washburn, Maine  Non-ref   \n",
       "...        ...                                                ...      ...   \n",
       "9317  50141000                         RIO BLANCO NR ADJUNTAS, PR      Ref   \n",
       "9318  50144000          RIO GRANDE DE ANASCO NR SAN SEBASTIAN, PR  Non-ref   \n",
       "9319  50145395                   RIO CASEI ABV HACIENDA CASEI, PR      Ref   \n",
       "9320  50147800              RIO CULEBRINAS AT HWY 404 NR MOCA, PR  Non-ref   \n",
       "9321  50148890  RIO CULEBRINAS AT MARGARITA DAMSITE NR AGUADA, PR  Non-ref   \n",
       "\n",
       "      AGGECOREGI  DRAIN_SQKM HUC02   LAT_GAGE   LNG_GAGE STATE HCDN_2009  \\\n",
       "0      NorthEast  3186.84400    01  47.069611 -69.079544    ME      None   \n",
       "1      NorthEast  2252.69600    01  47.237394 -68.582642    ME       yes   \n",
       "2      NorthEast  2313.75500    01  46.523003 -68.371764    ME      None   \n",
       "3      NorthEast   847.77210    01  46.628311 -68.434792    ME      None   \n",
       "4      NorthEast  4278.90700    01  46.777294 -68.157194    ME      None   \n",
       "...          ...         ...   ...        ...        ...   ...       ...   \n",
       "9317  PuertoRico    39.33948    21  18.203290 -66.799898    PR      None   \n",
       "9318  PuertoRico   347.29680    21  18.282730 -67.051012    PR      None   \n",
       "9319  PuertoRico    19.31340    21  18.248287 -67.075179    PR      None   \n",
       "9320  PuertoRico   182.70720    21  18.359670 -67.092124    PR      None   \n",
       "9321  PuertoRico   245.51000    21  18.392447 -67.150736    PR      None   \n",
       "\n",
       "     ACTIVE09  FLYRS1900  FLYRS1950  FLYRS1990  \\\n",
       "0         yes       78.0       60.0       20.0   \n",
       "1         yes       85.0       60.0       20.0   \n",
       "2         yes       51.0       51.0       19.0   \n",
       "3        None       32.0       32.0        0.0   \n",
       "4         yes       79.0       60.0       20.0   \n",
       "...       ...        ...        ...        ...   \n",
       "9317     None       24.0       21.0        0.0   \n",
       "9318      yes       45.0       45.0       19.0   \n",
       "9319      yes        5.0        5.0        5.0   \n",
       "9320      yes       42.0       42.0       20.0   \n",
       "9321      yes       11.0       11.0       11.0   \n",
       "\n",
       "                             geometry  \n",
       "0     POINT (2027371.849 2964479.789)  \n",
       "1     POINT (2058479.303 2992966.016)  \n",
       "2     POINT (2096533.991 2921785.543)  \n",
       "3     POINT (2088548.849 2931578.094)  \n",
       "4     POINT (2104213.711 2953507.477)  \n",
       "...                               ...  \n",
       "9317   POINT (3159158.234 -27083.994)  \n",
       "9318   POINT (3130300.977 -27322.701)  \n",
       "9319   POINT (3128868.889 -31619.830)  \n",
       "9320   POINT (3123537.324 -20851.868)  \n",
       "9321   POINT (3116355.637 -19441.921)  \n",
       "\n",
       "[9322 rows x 15 columns]"
      ]
     },
     "execution_count": 98,
     "metadata": {},
     "output_type": "execute_result"
    }
   ],
   "source": [
    "gages2"
   ]
  },
  {
   "cell_type": "code",
   "execution_count": 103,
   "id": "6b1b9b66-9aa6-4b16-a434-92695c3b1630",
   "metadata": {},
   "outputs": [
    {
     "name": "stdout",
     "output_type": "stream",
     "text": [
      "conversion\n",
      "NAD83\n",
      "{'error': 'Invalid longitude'}\n"
     ]
    },
    {
     "ename": "KeyError",
     "evalue": "'destOrthoht'",
     "output_type": "error",
     "traceback": [
      "\u001b[0;31m---------------------------------------------------------------------------\u001b[0m",
      "\u001b[0;31mKeyError\u001b[0m                                  Traceback (most recent call last)",
      "\u001b[0;32m<ipython-input-103-7eaba363b924>\u001b[0m in \u001b[0;36m<module>\u001b[0;34m\u001b[0m\n\u001b[1;32m      1\u001b[0m \u001b[0;32mfor\u001b[0m \u001b[0mi\u001b[0m\u001b[0;34m,\u001b[0m\u001b[0mrow\u001b[0m \u001b[0;32min\u001b[0m \u001b[0mgages2\u001b[0m\u001b[0;34m.\u001b[0m\u001b[0miterrows\u001b[0m\u001b[0;34m(\u001b[0m\u001b[0;34m)\u001b[0m\u001b[0;34m:\u001b[0m\u001b[0;34m\u001b[0m\u001b[0;34m\u001b[0m\u001b[0m\n\u001b[1;32m      2\u001b[0m     \u001b[0mstid\u001b[0m \u001b[0;34m=\u001b[0m \u001b[0mrow\u001b[0m\u001b[0;34m[\u001b[0m\u001b[0;34m'STAID'\u001b[0m\u001b[0;34m]\u001b[0m\u001b[0;34m\u001b[0m\u001b[0;34m\u001b[0m\u001b[0m\n\u001b[0;32m----> 3\u001b[0;31m     \u001b[0mprint\u001b[0m\u001b[0;34m(\u001b[0m\u001b[0mstid\u001b[0m\u001b[0;34m,\u001b[0m \u001b[0mgetGageDatum\u001b[0m\u001b[0;34m(\u001b[0m\u001b[0mstid\u001b[0m\u001b[0;34m)\u001b[0m\u001b[0;34m)\u001b[0m\u001b[0;34m\u001b[0m\u001b[0;34m\u001b[0m\u001b[0m\n\u001b[0m",
      "\u001b[0;32m<ipython-input-93-c9a2f5a1c0fc>\u001b[0m in \u001b[0;36mgetGageDatum\u001b[0;34m(gagenum)\u001b[0m\n\u001b[1;32m     32\u001b[0m         \u001b[0mprint\u001b[0m\u001b[0;34m(\u001b[0m\u001b[0;34mf'{si[indatum_str].values[0]}'\u001b[0m\u001b[0;34m)\u001b[0m\u001b[0;34m\u001b[0m\u001b[0;34m\u001b[0m\u001b[0m\n\u001b[1;32m     33\u001b[0m         \u001b[0mprint\u001b[0m\u001b[0;34m(\u001b[0m\u001b[0mresp\u001b[0m\u001b[0;34m)\u001b[0m\u001b[0;34m\u001b[0m\u001b[0;34m\u001b[0m\u001b[0m\n\u001b[0;32m---> 34\u001b[0;31m         \u001b[0;32mreturn\u001b[0m \u001b[0mfloat\u001b[0m\u001b[0;34m(\u001b[0m\u001b[0mresp\u001b[0m\u001b[0;34m[\u001b[0m\u001b[0;34m'destOrthoht'\u001b[0m\u001b[0;34m]\u001b[0m\u001b[0;34m)\u001b[0m\u001b[0;34m\u001b[0m\u001b[0;34m\u001b[0m\u001b[0m\n\u001b[0m\u001b[1;32m     35\u001b[0m     \u001b[0;32melse\u001b[0m\u001b[0;34m:\u001b[0m\u001b[0;34m\u001b[0m\u001b[0;34m\u001b[0m\u001b[0m\n\u001b[1;32m     36\u001b[0m         \u001b[0;32mreturn\u001b[0m \u001b[0msi\u001b[0m\u001b[0;34m[\u001b[0m\u001b[0;34m'alt_va'\u001b[0m\u001b[0;34m]\u001b[0m\u001b[0;34m.\u001b[0m\u001b[0mvalues\u001b[0m\u001b[0;34m[\u001b[0m\u001b[0;36m0\u001b[0m\u001b[0;34m]\u001b[0m\u001b[0;34m*\u001b[0m\u001b[0;36m.3048\u001b[0m\u001b[0;34m\u001b[0m\u001b[0;34m\u001b[0m\u001b[0m\n",
      "\u001b[0;31mKeyError\u001b[0m: 'destOrthoht'"
     ]
    }
   ],
   "source": [
    "for i,row in gages2.iterrows():\n",
    "    stid = row['STAID']\n",
    "    print(stid, getGageDatum(stid))"
   ]
  },
  {
   "cell_type": "code",
   "execution_count": null,
   "id": "3984ac3b-38eb-4b2c-a865-fc83ec4a4505",
   "metadata": {},
   "outputs": [],
   "source": []
  }
 ],
 "metadata": {
  "kernelspec": {
   "display_name": "Python 3",
   "language": "python",
   "name": "python3"
  },
  "language_info": {
   "codemirror_mode": {
    "name": "ipython",
    "version": 3
   },
   "file_extension": ".py",
   "mimetype": "text/x-python",
   "name": "python",
   "nbconvert_exporter": "python",
   "pygments_lexer": "ipython3",
   "version": "3.9.2"
  }
 },
 "nbformat": 4,
 "nbformat_minor": 5
}
