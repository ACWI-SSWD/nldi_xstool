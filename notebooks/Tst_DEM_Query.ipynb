{
 "cells": [
  {
   "cell_type": "code",
   "execution_count": 2,
   "id": "595de75e-222c-46bc-a415-e6315c830d30",
   "metadata": {},
   "outputs": [],
   "source": [
    "from nldi_xstool.ancillary import queryDEMs"
   ]
  },
  {
   "cell_type": "code",
   "execution_count": 3,
   "id": "75428411-4dff-4a4a-baca-02ebe6640860",
   "metadata": {},
   "outputs": [
    {
     "name": "stdout",
     "output_type": "stream",
     "text": [
      "(-96.00142857142858, 38.99857142857143, -95.99857142857142, 39.00142857142857)\n"
     ]
    },
    {
     "data": {
      "text/plain": [
       "{'res_1m': True,\n",
       " 'res_3m': True,\n",
       " 'res_5m': False,\n",
       " 'res_10m': True,\n",
       " 'res_30m': True,\n",
       " 'res_60m': False}"
      ]
     },
     "execution_count": 3,
     "metadata": {},
     "output_type": "execute_result"
    }
   ],
   "source": [
    "queryDEMs('point', [(-96, 39)])"
   ]
  },
  {
   "cell_type": "code",
   "execution_count": 4,
   "id": "c02b41cd-08ba-4287-8245-8e933f0e82e3",
   "metadata": {},
   "outputs": [
    {
     "name": "stdout",
     "output_type": "stream",
     "text": [
      "(-96.00152857142858, 38.99857142857143, -95.99857142857142, 39.00142857142857)\n"
     ]
    },
    {
     "data": {
      "text/plain": [
       "{'res_1m': True,\n",
       " 'res_3m': True,\n",
       " 'res_5m': False,\n",
       " 'res_10m': True,\n",
       " 'res_30m': True,\n",
       " 'res_60m': False}"
      ]
     },
     "execution_count": 4,
     "metadata": {},
     "output_type": "execute_result"
    }
   ],
   "source": [
    " queryDEMs('line', [(-96.0001, 39), (-96, 39)])"
   ]
  },
  {
   "cell_type": "code",
   "execution_count": 6,
   "id": "bf286808-cf41-4025-902c-8b6b046b514d",
   "metadata": {},
   "outputs": [
    {
     "name": "stdout",
     "output_type": "stream",
     "text": [
      "(-96.00222857142857, 38.99857142857143, -95.99857142857142, 39.00222857142857)\n"
     ]
    },
    {
     "data": {
      "text/plain": [
       "{'res_1m': True,\n",
       " 'res_3m': True,\n",
       " 'res_5m': False,\n",
       " 'res_10m': True,\n",
       " 'res_30m': False,\n",
       " 'res_60m': False}"
      ]
     },
     "execution_count": 6,
     "metadata": {},
     "output_type": "execute_result"
    }
   ],
   "source": [
    "queryDEMs('polygon', [(-96.0008, 39), (-96, 39), ( -96, 39.0008)])"
   ]
  },
  {
   "cell_type": "code",
   "execution_count": null,
   "id": "d97cc76f-ba0d-4edb-90cf-a15a5df79910",
   "metadata": {},
   "outputs": [],
   "source": [
    "queryDEMs('point', [( -103.801229, 40.268322)])"
   ]
  },
  {
   "cell_type": "code",
   "execution_count": null,
   "id": "23054384",
   "metadata": {},
   "outputs": [],
   "source": []
  }
 ],
 "metadata": {
  "kernelspec": {
   "display_name": "Python 3",
   "language": "python",
   "name": "python3"
  },
  "language_info": {
   "codemirror_mode": {
    "name": "ipython",
    "version": 3
   },
   "file_extension": ".py",
   "mimetype": "text/x-python",
   "name": "python",
   "nbconvert_exporter": "python",
   "pygments_lexer": "ipython3",
   "version": "3.9.2"
  },
  "metadata": {
   "interpreter": {
    "hash": "33fd6611e902258d9fc11e5d50f6ae17f2c8550f72c9a6a9a72f163ce7110a39"
   }
  }
 },
 "nbformat": 4,
 "nbformat_minor": 5
}
