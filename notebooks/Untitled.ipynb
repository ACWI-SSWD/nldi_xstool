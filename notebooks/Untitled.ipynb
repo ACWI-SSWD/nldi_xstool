{
 "cells": [
  {
   "cell_type": "markdown",
   "id": "becoming-colleague",
   "metadata": {},
   "source": [
    "# Experiment of owslib for retrieving 3dep topo"
   ]
  },
  {
   "cell_type": "code",
   "execution_count": 3,
   "id": "formal-kingdom",
   "metadata": {},
   "outputs": [
    {
     "name": "stdout",
     "output_type": "stream",
     "text": [
      "Title:  OGC:WMS\n",
      "Type:  WMS\n",
      "Operations:  ['GetCapabilities', 'GetMap', 'GetStyles']\n",
      "GetMap options:  ['image/tiff', 'image/png', 'image/png24', 'image/png32', 'image/bmp', 'image/gif', 'image/jpeg', 'image/svg', 'image/bil']\n"
     ]
    },
    {
     "data": {
      "text/plain": [
       "odict_keys(['0'])"
      ]
     },
     "execution_count": 3,
     "metadata": {},
     "output_type": "execute_result"
    }
   ],
   "source": [
    "from owslib.wms import WebMapService\n",
    "wms = WebMapService('https://elevation.nationalmap.gov/arcgis/services/3DEPElevation/ImageServer/WMSServer')\n",
    "print(\"Title: \", wms.identification.title)\n",
    "print(\"Type: \", wms.identification.type)\n",
    "print(\"Operations: \", [op.name for op in wms.operations])\n",
    "print(\"GetMap options: \", wms.getOperationByName('GetMap').formatOptions)\n",
    "wms.contents.keys()"
   ]
  },
  {
   "cell_type": "code",
   "execution_count": 4,
   "id": "biblical-bleeding",
   "metadata": {},
   "outputs": [
    {
     "name": "stdout",
     "output_type": "stream",
     "text": [
      "Title:  Select Topgraphic Attributes for NHDPlus Version 2.1 Reach Catchments and Modified Network Routed Upstream Watersheds for the Conterminous United States\n",
      "Type:  OGC:WMS\n",
      "Operations:  ['GetCapabilities', 'GetMap', 'GetFeatureInfo', 'DescribeLayer', 'GetLegendGraphic', 'GetStyles']\n",
      "GetMap options:  ['image/png', 'application/atom xml', 'application/atom+xml', 'application/openlayers', 'application/pdf', 'application/rss xml', 'application/rss+xml', 'application/vnd.google-earth.kml', 'application/vnd.google-earth.kml xml', 'application/vnd.google-earth.kml+xml', 'application/vnd.google-earth.kml+xml;mode=networklink', 'application/vnd.google-earth.kmz', 'application/vnd.google-earth.kmz xml', 'application/vnd.google-earth.kmz+xml', 'application/vnd.google-earth.kmz;mode=networklink', 'atom', 'image/geotiff', 'image/geotiff8', 'image/gif', 'image/gif;subtype=animated', 'image/jpeg', 'image/png8', 'image/png; mode=8bit', 'image/svg', 'image/svg xml', 'image/svg+xml', 'image/tiff', 'image/tiff8', 'kml', 'kmz', 'openlayers', 'rss']\n",
      "GetFeatureInfo options:  ['text/html', 'text/plain', 'text/javascript', 'application/json', 'application/vnd.ogc.gml/3.1.1', 'application/vnd.ogc.gml']\n"
     ]
    },
    {
     "data": {
      "text/plain": [
       "odict_keys(['sb:children', 'sb:childrenBoundingBox'])"
      ]
     },
     "execution_count": 4,
     "metadata": {},
     "output_type": "execute_result"
    }
   ],
   "source": [
    "wms = WebMapService('https://www.sciencebase.gov/catalogMaps/mapping/ows/5789408ee4b0c1aacab7770b')\n",
    "print(\"Title: \", wms.identification.title)\n",
    "print(\"Type: \", wms.identification.type)\n",
    "print(\"Operations: \", [op.name for op in wms.operations])\n",
    "print(\"GetMap options: \", wms.getOperationByName('GetMap').formatOptions)\n",
    "print(\"GetFeatureInfo options: \", wms.getOperationByName('GetFeatureInfo').formatOptions)\n",
    "wms.contents.keys()"
   ]
  },
  {
   "cell_type": "code",
   "execution_count": 18,
   "id": "amino-arrest",
   "metadata": {},
   "outputs": [
    {
     "name": "stdout",
     "output_type": "stream",
     "text": [
      "WMS 1.1.1 OGC:WMS OGC:WMS\n"
     ]
    }
   ],
   "source": [
    "print(wms.identification.type, wms.identification.version, wms.identification.title, wms.identification.abstract)"
   ]
  },
  {
   "cell_type": "code",
   "execution_count": 19,
   "id": "correct-interaction",
   "metadata": {},
   "outputs": [
    {
     "ename": "AttributeError",
     "evalue": "'WebMapService_1_1_1' object has no attribute 'service'",
     "output_type": "error",
     "traceback": [
      "\u001b[1;31m---------------------------------------------------------------------------\u001b[0m",
      "\u001b[1;31mAttributeError\u001b[0m                            Traceback (most recent call last)",
      "\u001b[1;32m<ipython-input-19-1e14ffea7bcc>\u001b[0m in \u001b[0;36m<module>\u001b[1;34m\u001b[0m\n\u001b[1;32m----> 1\u001b[1;33m \u001b[0mlist\u001b[0m\u001b[1;33m(\u001b[0m\u001b[0mwms\u001b[0m\u001b[1;33m.\u001b[0m\u001b[0mservice\u001b[0m\u001b[1;33m)\u001b[0m\u001b[1;33m\u001b[0m\u001b[1;33m\u001b[0m\u001b[0m\n\u001b[0m",
      "\u001b[1;31mAttributeError\u001b[0m: 'WebMapService_1_1_1' object has no attribute 'service'"
     ]
    }
   ],
   "source": [
    "list(wms.service)"
   ]
  },
  {
   "cell_type": "code",
   "execution_count": null,
   "id": "convenient-intermediate",
   "metadata": {},
   "outputs": [],
   "source": []
  }
 ],
 "metadata": {
  "kernelspec": {
   "display_name": "Python 3",
   "language": "python",
   "name": "python3"
  },
  "language_info": {
   "codemirror_mode": {
    "name": "ipython",
    "version": 3
   },
   "file_extension": ".py",
   "mimetype": "text/x-python",
   "name": "python",
   "nbconvert_exporter": "python",
   "pygments_lexer": "ipython3",
   "version": "3.9.2"
  }
 },
 "nbformat": 4,
 "nbformat_minor": 5
}
